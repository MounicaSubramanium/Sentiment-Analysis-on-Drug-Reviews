{
 "cells": [
  {
   "cell_type": "code",
   "execution_count": 1,
   "metadata": {},
   "outputs": [],
   "source": [
    "import numpy as np \n",
    "import pandas as pd \n",
    "import nltk\n",
    "from nltk.tokenize import word_tokenize\n",
    "from nltk.stem import WordNetLemmatizer\n",
    "from bs4 import BeautifulSoup\n",
    "import re\n",
    "import random"
   ]
  },
  {
   "cell_type": "code",
   "execution_count": null,
   "metadata": {},
   "outputs": [],
   "source": [
    "nltk.download()"
   ]
  },
  {
   "cell_type": "code",
   "execution_count": 2,
   "metadata": {},
   "outputs": [],
   "source": [
    "df_train = pd.read_csv(\"drugsComTrain_raw.csv\")\n",
    "df_test = pd.read_csv(\"drugsComTest_raw.csv\")\n",
    "df_train['sentiment'] = df_train['rating'].apply(lambda x: 1 if x>5 else 0)\n",
    "df_test['sentiment'] = df_test['rating'].apply(lambda x: 1 if x>5 else 0)"
   ]
  },
  {
   "cell_type": "code",
   "execution_count": 3,
   "metadata": {},
   "outputs": [],
   "source": [
    "from tqdm import tqdm\n",
    "lemmatizer=WordNetLemmatizer()\n",
    "\n",
    "def clean_sentences(df):\n",
    "    reviews = []\n",
    "\n",
    "    for sent in tqdm(df['review']):\n",
    "        \n",
    "        #remove html content\n",
    "        review_text = BeautifulSoup(sent).get_text()\n",
    "            \n",
    "        #remove non-alphabetic characters\n",
    "        review_text = re.sub(\"[^a-zA-Z]\",\" \", review_text)\n",
    "    \n",
    "        #tokenize the sentences\n",
    "        words = word_tokenize(review_text.lower())\n",
    "    \n",
    "        #lemmatize each word to its lemma\n",
    "        lemma_words = [lemmatizer.lemmatize(i) for i in words]\n",
    "    \n",
    "        reviews.append(lemma_words)\n",
    "\n",
    "    return(reviews)"
   ]
  },
  {
   "cell_type": "code",
   "execution_count": 4,
   "metadata": {},
   "outputs": [],
   "source": [
    "from nltk.corpus import stopwords\n",
    "stopword = stopwords.words('english')\n",
    "negated_words = ['don',\"don't\",'ain','aren',\"aren't\",'couldn',\"couldn't\",\n",
    "                 'didn',\"didn't\",'doesn',\"doesn't\",'hadn',\"hadn't\",'hasn',\"hasn't\",'haven',\"haven't\",'isn',\"isn't\",\n",
    "                'against','no','not','no','mightn',\"mightn't\",'mustn',\"mustn't\",'needn',\"needn't\",'shan',\"shan't\",'shouldn',\n",
    "                 \"shouldn't\",'wasn',\"wasn't\",'weren',\"weren't\",'won',\"won't\",'wouldn',\"wouldn't\"]\n",
    "stop = []\n",
    "for w in stopword:\n",
    "    if w not in negated_words:\n",
    "        stop.append(w)"
   ]
  },
  {
   "cell_type": "code",
   "execution_count": 5,
   "metadata": {},
   "outputs": [],
   "source": [
    "def clean(sen):\n",
    "    return [word for word in sen if word not in stop]"
   ]
  },
  {
   "cell_type": "code",
   "execution_count": 6,
   "metadata": {},
   "outputs": [
    {
     "name": "stderr",
     "output_type": "stream",
     "text": [
      "100%|████████████████████████████████████████████████████████████████████████| 161297/161297 [02:39<00:00, 1014.44it/s]\n",
      "100%|███████████████████████████████████████████████████████████████████████████| 53766/53766 [00:55<00:00, 977.53it/s]\n"
     ]
    }
   ],
   "source": [
    "df_train['tokens'] = clean_sentences(df_train)\n",
    "df_test['tokens'] = clean_sentences(df_test)"
   ]
  },
  {
   "cell_type": "code",
   "execution_count": 7,
   "metadata": {},
   "outputs": [],
   "source": [
    "df_train['cleaned']= df_train['tokens'].apply(clean)\n",
    "df_test['cleaned'] = df_test['tokens'].apply(clean)"
   ]
  },
  {
   "cell_type": "code",
   "execution_count": 33,
   "metadata": {},
   "outputs": [],
   "source": [
    "from sklearn.feature_extraction.text import TfidfVectorizer\n",
    "vectorizer = TfidfVectorizer()\n",
    "train_vectors = vectorizer.fit_transform(df_train['review'])\n",
    "test_vectors = vectorizer.transform(df_test['review'])"
   ]
  },
  {
   "cell_type": "code",
   "execution_count": 66,
   "metadata": {},
   "outputs": [],
   "source": [
    "vectorizer_bi = TfidfVectorizer(ngram_range=(2,2))\n",
    "train_vectors_bi = vectorizer_bi.fit_transform(df_train['review'])\n",
    "test_vectors_bi = vectorizer_bi.transform(df_test['review'])"
   ]
  },
  {
   "cell_type": "code",
   "execution_count": 70,
   "metadata": {},
   "outputs": [
    {
     "name": "stdout",
     "output_type": "stream",
     "text": [
      "[LibLinear]Training time: 8.302923s; Prediction time: 0.122057s\n",
      "***************** SVM (UNIGRAMS)**************\n",
      "\n",
      "**************TRAINING REPORT ***************\n",
      "\n",
      "              precision    recall  f1-score   support\n",
      "\n",
      "           0       0.87      0.79      0.83     48088\n",
      "           1       0.91      0.95      0.93    113209\n",
      "\n",
      "    accuracy                           0.90    161297\n",
      "   macro avg       0.89      0.87      0.88    161297\n",
      "weighted avg       0.90      0.90      0.90    161297\n",
      "\n",
      "**************TESTING REPORT ***************\n",
      "\n",
      "              precision    recall  f1-score   support\n",
      "\n",
      "           0       0.80      0.72      0.76     16207\n",
      "           1       0.88      0.92      0.90     37559\n",
      "\n",
      "    accuracy                           0.86     53766\n",
      "   macro avg       0.84      0.82      0.83     53766\n",
      "weighted avg       0.86      0.86      0.86     53766\n",
      "\n"
     ]
    }
   ],
   "source": [
    "import time\n",
    "from sklearn import svm\n",
    "from sklearn.metrics import classification_report\n",
    "\n",
    "# Perform classification with SVM, kernel=linear\n",
    "classifier_linear = svm.LinearSVC(verbose=True)\n",
    "t0 = time.time()\n",
    "classifier_linear.fit(train_vectors, df_train['sentiment'])\n",
    "t1 = time.time()\n",
    "prediction_train = classifier_linear.predict(train_vectors)\n",
    "prediction_test = classifier_linear.predict(test_vectors)\n",
    "t2 = time.time()\n",
    "time_linear_train = t1-t0\n",
    "time_linear_predict = t2-t1\n",
    "# results\n",
    "print(\"Training time: %fs; Prediction time: %fs\" % (time_linear_train, time_linear_predict))\n",
    "report_train_uni = classification_report(df_train['sentiment'], prediction_train)\n",
    "report_test_uni = classification_report(df_test['sentiment'], prediction_test)\n",
    "cm_uni_train = metrics.confusion_matrix(df_train['sentiment'], prediction_train)\n",
    "cm_uni_test = metrics.confusion_matrix(df_test['sentiment'], prediction_test)\n",
    "#print('positive: ', report['0'])\n",
    "#print('negative: ', report['1'])\n",
    "#print(report)\n",
    "print(\"***************** SVM (UNIGRAMS)**************\\n\")\n",
    "print(\"**************TRAINING REPORT ***************\\n\")\n",
    "print(report_train_uni)\n",
    "print(\"**************TESTING REPORT ***************\\n\")\n",
    "print(report_test_uni)"
   ]
  },
  {
   "cell_type": "code",
   "execution_count": 71,
   "metadata": {},
   "outputs": [
    {
     "name": "stdout",
     "output_type": "stream",
     "text": [
      "[[11675  4532]\n",
      " [ 2978 34581]]\n"
     ]
    }
   ],
   "source": [
    "print(cm_uni_test)"
   ]
  },
  {
   "cell_type": "code",
   "execution_count": 72,
   "metadata": {},
   "outputs": [
    {
     "name": "stdout",
     "output_type": "stream",
     "text": [
      "[[ 38088  10000]\n",
      " [  5921 107288]]\n"
     ]
    }
   ],
   "source": [
    "print(cm_uni_train)"
   ]
  },
  {
   "cell_type": "code",
   "execution_count": 68,
   "metadata": {},
   "outputs": [
    {
     "name": "stdout",
     "output_type": "stream",
     "text": [
      "[LibLinear]Training time: 13.337307s; Prediction time: 0.209403s\n",
      "***************** SVM (BIGRAMS)**************\n",
      "\n",
      "**************TRAINING REPORT ***************\n",
      "\n",
      "              precision    recall  f1-score   support\n",
      "\n",
      "           0       1.00      1.00      1.00     48088\n",
      "           1       1.00      1.00      1.00    113209\n",
      "\n",
      "    accuracy                           1.00    161297\n",
      "   macro avg       1.00      1.00      1.00    161297\n",
      "weighted avg       1.00      1.00      1.00    161297\n",
      "\n",
      "**************TESTING REPORT ***************\n",
      "\n",
      "              precision    recall  f1-score   support\n",
      "\n",
      "           0       0.92      0.88      0.90     16207\n",
      "           1       0.95      0.97      0.96     37559\n",
      "\n",
      "    accuracy                           0.94     53766\n",
      "   macro avg       0.93      0.92      0.93     53766\n",
      "weighted avg       0.94      0.94      0.94     53766\n",
      "\n"
     ]
    }
   ],
   "source": [
    "classifier_linear = svm.LinearSVC(verbose=True)\n",
    "t0 = time.time()\n",
    "classifier_linear.fit(train_vectors_bi, df_train['sentiment'])\n",
    "t1 = time.time()\n",
    "prediction_train_bi = classifier_linear.predict(train_vectors_bi)\n",
    "prediction_test_bi = classifier_linear.predict(test_vectors_bi)\n",
    "t2 = time.time()\n",
    "time_linear_train_bi = t1-t0\n",
    "time_linear_predict_bi = t2-t1\n",
    "# results\n",
    "print(\"Training time: %fs; Prediction time: %fs\" % (time_linear_train_bi, time_linear_predict_bi))\n",
    "report_train = classification_report(df_train['sentiment'], prediction_train_bi)\n",
    "report_test = classification_report(df_test['sentiment'], prediction_test_bi)\n",
    "#print('positive: ', report['0'])\n",
    "#print('negative: ', report['1'])\n",
    "print(\"***************** SVM (BIGRAMS)**************\\n\")\n",
    "print(\"**************TRAINING REPORT ***************\\n\")\n",
    "print(report_train)\n",
    "print(\"**************TESTING REPORT ***************\\n\")\n",
    "print(report_test)"
   ]
  },
  {
   "cell_type": "code",
   "execution_count": 63,
   "metadata": {},
   "outputs": [
    {
     "name": "stdout",
     "output_type": "stream",
     "text": [
      "Train accuracy: 0.9013000861764323\n",
      "Test accuracy:  0.8603392478518023\n"
     ]
    }
   ],
   "source": [
    "from sklearn import metrics\n",
    "train_Accuracy_bi = metrics.accuracy_score(df_train['sentiment'],prediction_train_bi)\n",
    "test_Accuracy_bi = metrics.accuracy_score(df_test['sentiment'],prediction_test_bi)\n",
    "print(\"Train accuracy:\",train_Accuracy_bi)\n",
    "print(\"Test accuracy: \",test_Accuracy_bi)"
   ]
  },
  {
   "cell_type": "code",
   "execution_count": 60,
   "metadata": {},
   "outputs": [],
   "source": [
    "def plot_roc_curve(fpr, tpr):\n",
    "    plt.plot(fpr, tpr, color='orange', label='ROC')\n",
    "    plt.plot([0, 1], [0, 1], color='darkblue', linestyle='--')\n",
    "    plt.xlabel('False Positive Rate')\n",
    "    plt.ylabel('True Positive Rate')\n",
    "    plt.title('Receiver Operating Characteristic (ROC) Curve')\n",
    "    plt.legend()\n",
    "    plt.savefig(\"svm_roc.jpg\")\n",
    "    plt.show()\n",
    "    "
   ]
  },
  {
   "cell_type": "code",
   "execution_count": 61,
   "metadata": {},
   "outputs": [
    {
     "name": "stdout",
     "output_type": "stream",
     "text": [
      "AUC: 0.82\n"
     ]
    },
    {
     "data": {
      "image/png": "[encoded data removed]",
      "text/plain": [
       "<Figure size 432x288 with 1 Axes>"
      ]
     },
     "metadata": {
      "needs_background": "light"
     },
     "output_type": "display_data"
    }
   ],
   "source": [
    "from sklearn.metrics import roc_auc_score\n",
    "from sklearn.metrics import roc_curve\n",
    "import matplotlib.pyplot as plt\n",
    "auc = roc_auc_score(df_test['sentiment'], prediction_test)\n",
    "print('AUC: %.2f' % auc)\n",
    "\n",
    "fpr, tpr, thresholds = roc_curve(df_test['sentiment'], prediction_test)\n",
    "\n",
    "plot_roc_curve(fpr, tpr)"
   ]
  },
  {
   "cell_type": "code",
   "execution_count": null,
   "metadata": {},
   "outputs": [],
   "source": [
    "plt.savefig(\"svm_roc.img\")"
   ]
  }
 ],
 "metadata": {
  "kernelspec": {
   "display_name": "Python 3",
   "language": "python",
   "name": "python3"
  },
  "language_info": {
   "codemirror_mode": {
    "name": "ipython",
    "version": 3
   },
   "file_extension": ".py",
   "mimetype": "text/x-python",
   "name": "python",
   "nbconvert_exporter": "python",
   "pygments_lexer": "ipython3",
   "version": "3.7.3"
  }
 },
 "nbformat": 4,
 "nbformat_minor": 2
}
