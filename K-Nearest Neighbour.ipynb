{
 "cells": [
  {
   "cell_type": "code",
   "execution_count": 38,
   "metadata": {},
   "outputs": [],
   "source": [
    "import numpy as np \n",
    "import pandas as pd \n",
    "import nltk\n",
    "from nltk.tokenize import word_tokenize\n",
    "from nltk.stem import WordNetLemmatizer\n",
    "from bs4 import BeautifulSoup\n",
    "import re\n",
    "import random\n",
    "from sklearn.metrics import classification_report\n",
    "import time\n",
    "from sklearn.neighbors import KNeighborsClassifier\n",
    "from sklearn.metrics import accuracy_score\n",
    "from sklearn.metrics import roc_curve, roc_auc_score\n",
    "import matplotlib.pyplot as plt\n",
    "from sklearn import metrics"
   ]
  },
  {
   "cell_type": "code",
   "execution_count": null,
   "metadata": {},
   "outputs": [
    {
     "name": "stdout",
     "output_type": "stream",
     "text": [
      "showing info https://raw.githubusercontent.com/nltk/nltk_data/gh-pages/index.xml\n"
     ]
    }
   ],
   "source": [
    "# nltk.download()"
   ]
  },
  {
   "cell_type": "code",
   "execution_count": 2,
   "metadata": {},
   "outputs": [],
   "source": [
    "df_train = pd.read_csv(\"drugsComTrain_raw.csv\")\n",
    "df_test = pd.read_csv(\"drugsComTest_raw.csv\")\n",
    "df_train['sentiment'] = df_train['rating'].apply(lambda x: 1 if x>5 else 0)\n",
    "df_test['sentiment'] = df_test['rating'].apply(lambda x: 1 if x>5 else 0)"
   ]
  },
  {
   "cell_type": "code",
   "execution_count": 3,
   "metadata": {},
   "outputs": [],
   "source": [
    "from tqdm import tqdm\n",
    "lemmatizer=WordNetLemmatizer()\n",
    "\n",
    "def clean_sentences(df):\n",
    "    reviews = []\n",
    "\n",
    "    for sent in tqdm(df['review']):\n",
    "        \n",
    "        #remove html content\n",
    "        review_text = BeautifulSoup(sent).get_text()\n",
    "            \n",
    "        #remove non-alphabetic characters\n",
    "        review_text = re.sub(\"[^a-zA-Z]\",\" \", review_text)\n",
    "    \n",
    "        #tokenize the sentences\n",
    "        words = word_tokenize(review_text.lower())\n",
    "    \n",
    "        #lemmatize each word to its lemma\n",
    "        lemma_words = [lemmatizer.lemmatize(i) for i in words]\n",
    "    \n",
    "        reviews.append(lemma_words)\n",
    "\n",
    "    return(reviews)"
   ]
  },
  {
   "cell_type": "code",
   "execution_count": 4,
   "metadata": {},
   "outputs": [],
   "source": [
    "from nltk.corpus import stopwords\n",
    "stopword = stopwords.words('english')\n",
    "negated_words = ['don',\"don't\",'ain','aren',\"aren't\",'couldn',\"couldn't\",\n",
    "                 'didn',\"didn't\",'doesn',\"doesn't\",'hadn',\"hadn't\",'hasn',\"hasn't\",'haven',\"haven't\",'isn',\"isn't\",\n",
    "                'against','no','not','no','mightn',\"mightn't\",'mustn',\"mustn't\",'needn',\"needn't\",'shan',\"shan't\",'shouldn',\n",
    "                 \"shouldn't\",'wasn',\"wasn't\",'weren',\"weren't\",'won',\"won't\",'wouldn',\"wouldn't\"]\n",
    "stop = []\n",
    "for w in stopword:\n",
    "    if w not in negated_words:\n",
    "        stop.append(w)"
   ]
  },
  {
   "cell_type": "code",
   "execution_count": 5,
   "metadata": {},
   "outputs": [],
   "source": [
    "def clean(sen):\n",
    "    return [word for word in sen if word not in stop]"
   ]
  },
  {
   "cell_type": "code",
   "execution_count": 6,
   "metadata": {},
   "outputs": [
    {
     "name": "stderr",
     "output_type": "stream",
     "text": [
      "100%|████████████████████████████████████████████████████████████████████████| 161297/161297 [02:16<00:00, 1178.63it/s]\n",
      "100%|██████████████████████████████████████████████████████████████████████████| 53766/53766 [00:49<00:00, 1096.34it/s]\n"
     ]
    }
   ],
   "source": [
    "df_train['tokens'] = clean_sentences(df_train)\n",
    "df_test['tokens'] = clean_sentences(df_test)"
   ]
  },
  {
   "cell_type": "code",
   "execution_count": 7,
   "metadata": {},
   "outputs": [],
   "source": [
    "df_train['cleaned']= df_train['tokens'].apply(clean)\n",
    "df_test['cleaned'] = df_test['tokens'].apply(clean)"
   ]
  },
  {
   "cell_type": "code",
   "execution_count": 25,
   "metadata": {},
   "outputs": [],
   "source": [
    "from sklearn.feature_extraction.text import TfidfVectorizer\n",
    "vectorizer = TfidfVectorizer(min_df = 5,\n",
    "                             max_df = 0.8,\n",
    "                             sublinear_tf = True,\n",
    "                             use_idf = True,\n",
    "                            ngram_range=(2,2))\n",
    "train_vectors = vectorizer.fit_transform(df_train['review'])\n",
    "test_vectors = vectorizer.transform(df_test['review'])"
   ]
  },
  {
   "cell_type": "code",
   "execution_count": 24,
   "metadata": {},
   "outputs": [
    {
     "data": {
      "text/plain": [
       "<161297x19181 sparse matrix of type '<class 'numpy.float64'>'\n",
       "\twith 9287308 stored elements in Compressed Sparse Row format>"
      ]
     },
     "execution_count": 24,
     "metadata": {},
     "output_type": "execute_result"
    }
   ],
   "source": []
  },
  {
   "cell_type": "code",
   "execution_count": 26,
   "metadata": {},
   "outputs": [
    {
     "name": "stdout",
     "output_type": "stream",
     "text": [
      "\n",
      "K Nearest Neighbors (NN = 3)\n",
      "Training time: 0.069443s; Prediction time: 2492.345367s\n"
     ]
    }
   ],
   "source": [
    "#Accuracy using KNN Model\n",
    "knn = KNeighborsClassifier(n_neighbors = 5)\n",
    "t0 = time.time()\n",
    "knn.fit(train_vectors, df_train['sentiment'])\n",
    "t1 = time.time()\n",
    "y_pred = knn.predict(test_vectors)\n",
    "y_pred_train = knn.predict(train_vectors)\n",
    "t2 = time.time()\n",
    "print('\\nK Nearest Neighbors (NN = 3)')\n",
    "\n",
    "time_linear_train = t1-t0\n",
    "time_linear_predict = t2-t1\n",
    "# results\n",
    "print(\"Training time: %fs; Prediction time: %fs\" % (time_linear_train, time_linear_predict))\n"
   ]
  },
  {
   "cell_type": "code",
   "execution_count": 27,
   "metadata": {},
   "outputs": [
    {
     "name": "stdout",
     "output_type": "stream",
     "text": [
      "TRAINING\n",
      "              precision    recall  f1-score   support\n",
      "\n",
      "           0       0.96      0.24      0.38     48088\n",
      "           1       0.75      1.00      0.86    113209\n",
      "\n",
      "    accuracy                           0.77    161297\n",
      "   macro avg       0.86      0.62      0.62    161297\n",
      "weighted avg       0.82      0.77      0.72    161297\n",
      "\n"
     ]
    }
   ],
   "source": [
    "print(\"TRAINING\")\n",
    "training_report = classification_report(df_train['sentiment'], y_pred_train)\n",
    "#print('Accuracy Score: ',accuracy_score(df_train['sentiment'],y_pred_train)*100,'%',sep='')\n",
    "print(training_report)"
   ]
  },
  {
   "cell_type": "code",
   "execution_count": 41,
   "metadata": {},
   "outputs": [
    {
     "name": "stdout",
     "output_type": "stream",
     "text": [
      "****** TRAINING ACC ****** \n",
      "\n",
      "\n",
      "Precision  0.7540428833215179\n",
      "\n",
      "Recall  0.9959102191521876\n",
      "\n",
      "F1 Score  0.8582618724094225\n",
      "****** TESTING ACC ****** \n",
      "\n",
      "Precision  0.7089344324860698\n",
      "\n",
      "Recall  0.9891370909768631\n",
      "\n",
      "F1 Score  0.8259173215655325\n"
     ]
    }
   ],
   "source": [
    "cm_train = metrics.confusion_matrix(df_train['sentiment'], y_pred_train)\n",
    "cm_test = metrics.confusion_matrix(df_test['sentiment'], y_pred)\n",
    "print(\"****** TRAINING ACC ****** \\n\")\n",
    "precision_train = cm_train[1][1]/(cm_train[1][1] + cm_train[0][1])\n",
    "print(\"\\nPrecision \",precision_train)\n",
    "recall_train = cm_train[1][1]/(cm_train[1][1] + cm_train[1][0])\n",
    "print(\"\\nRecall \",recall_train)\n",
    "f1score_train = (2*precision_train*recall_train)/(recall_train + precision_train)\n",
    "print(\"\\nF1 Score \",f1score_train)\n",
    "print(\"****** TESTING ACC ****** \\n\")\n",
    "precision_test = cm_test[1][1]/(cm_test[1][1] + cm_test[0][1])\n",
    "print(\"Precision \",precision_test)\n",
    "recall_test = cm_test[1][1]/(cm_test[1][1] + cm_test[1][0])\n",
    "print(\"\\nRecall \",recall_test)\n",
    "f1score_test = (2*precision_test*recall_test)/(recall_test + precision_test)\n",
    "print(\"\\nF1 Score \",f1score_test)"
   ]
  },
  {
   "cell_type": "code",
   "execution_count": 29,
   "metadata": {
    "scrolled": false
   },
   "outputs": [
    {
     "name": "stdout",
     "output_type": "stream",
     "text": [
      "TESTING\n",
      "{'0': {'precision': 0.7004405286343612, 'recall': 0.05886345406305917, 'f1-score': 0.10860037566167682, 'support': 16207}, '1': {'precision': 0.7089344324860698, 'recall': 0.9891370909768631, 'f1-score': 0.8259173215655325, 'support': 37559}, 'accuracy': 0.7087192649629878, 'macro avg': {'precision': 0.7046874805602155, 'recall': 0.5240002725199612, 'f1-score': 0.46725884861360467, 'support': 53766}, 'weighted avg': {'precision': 0.7063740653446674, 'recall': 0.7087192649629878, 'f1-score': 0.6096922770715439, 'support': 53766}}\n"
     ]
    }
   ],
   "source": [
    "print(\"TESTING\")\n",
    "testing_report = classification_report(df_test['sentiment'], y_pred, output_dict=True)\n",
    "#print('Accuracy Score: ',accuracy_score(df_test['sentiment'],y_pred)*100,'%',sep='')\n",
    "print(testing_report)"
   ]
  },
  {
   "cell_type": "code",
   "execution_count": 33,
   "metadata": {},
   "outputs": [],
   "source": [
    "def plot_roc_curve(fpr, tpr):\n",
    "    plt.plot(fpr, tpr, color='orange', label='ROC')\n",
    "    plt.plot([0, 1], [0, 1], color='darkblue', linestyle='--')\n",
    "    plt.xlabel('False Positive Rate')\n",
    "    plt.ylabel('True Positive Rate')\n",
    "    plt.title('Receiver Operating Characteristic (ROC) Curve - KNN')\n",
    "    plt.legend()\n",
    "    plt.show()"
   ]
  },
  {
   "cell_type": "code",
   "execution_count": 35,
   "metadata": {},
   "outputs": [
    {
     "name": "stdout",
     "output_type": "stream",
     "text": [
      "AUC: 0.62\n"
     ]
    },
    {
     "data": {
      "image/png": "[encoded data removed]",
      "text/plain": [
       "<Figure size 432x288 with 1 Axes>"
      ]
     },
     "metadata": {
      "needs_background": "light"
     },
     "output_type": "display_data"
    }
   ],
   "source": [
    "auc = roc_auc_score(df_train['sentiment'], y_pred_train)\n",
    "print('AUC: %.2f' % auc)\n",
    "\n",
    "fpr, tpr, thresholds = roc_curve(df_train['sentiment'], y_pred_train)\n",
    "\n",
    "plot_roc_curve(fpr, tpr)"
   ]
  }
 ],
 "metadata": {
  "kernelspec": {
   "display_name": "Python 3",
   "language": "python",
   "name": "python3"
  },
  "language_info": {
   "codemirror_mode": {
    "name": "ipython",
    "version": 3
   },
   "file_extension": ".py",
   "mimetype": "text/x-python",
   "name": "python",
   "nbconvert_exporter": "python",
   "pygments_lexer": "ipython3",
   "version": "3.7.4"
  }
 },
 "nbformat": 4,
 "nbformat_minor": 2
}
