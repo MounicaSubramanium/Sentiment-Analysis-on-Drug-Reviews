{
 "cells": [
  {
   "cell_type": "code",
   "execution_count": null,
   "metadata": {},
   "outputs": [],
   "source": [
    "##### Run this if you're installing Tensorflow for the first time\n",
    "# !pip install tensorflow"
   ]
  },
  {
   "cell_type": "code",
   "execution_count": null,
   "metadata": {},
   "outputs": [],
   "source": [
    "##### Run this if you're installing Keras for the first time\n",
    "# !pip install keras"
   ]
  },
  {
   "cell_type": "code",
   "execution_count": 1,
   "metadata": {},
   "outputs": [
    {
     "name": "stderr",
     "output_type": "stream",
     "text": [
      "Using TensorFlow backend.\n"
     ]
    }
   ],
   "source": [
    "# Statistical Packages\n",
    "import numpy as np \n",
    "import pandas as pd \n",
    "\n",
    "# Text Blob and nltk\n",
    "from textblob import TextBlob\n",
    "import nltk\n",
    "from nltk.tokenize import word_tokenize\n",
    "from nltk.stem import WordNetLemmatizer\n",
    "from bs4 import BeautifulSoup\n",
    "import re\n",
    "\n",
    "# Packages required for Neural Networks \n",
    "from keras.utils import to_categorical\n",
    "import random\n",
    "from sklearn.model_selection import train_test_split\n",
    "from keras.preprocessing import sequence\n",
    "from keras.preprocessing.text import Tokenizer\n",
    "from keras.layers import Dense,Dropout,Embedding,LSTM\n",
    "from keras.callbacks import EarlyStopping\n",
    "from keras.layers import Dense, Flatten, LSTM, Conv1D, MaxPooling1D, Dropout, Activation\n",
    "from keras.losses import categorical_crossentropy\n",
    "from keras.optimizers import Adam\n",
    "from keras.models import Sequential\n",
    "from tqdm import tqdm\n",
    "import warnings\n",
    "from keras.preprocessing.sequence import pad_sequences\n",
    "warnings.filterwarnings(\"ignore\", category=UserWarning, module='bs4')\n",
    "lemmatizer = WordNetLemmatizer()\n",
    "\n",
    "# Packages Required for Logistic Regression \n",
    "from sklearn.feature_extraction.text import TfidfVectorizer, CountVectorizer\n",
    "from sklearn.metrics import roc_curve, confusion_matrix, accuracy_score\n",
    "from sklearn.metrics import accuracy_score, roc_auc_score , f1_score\n",
    "from nltk.tokenize import word_tokenize\n",
    "from nltk.stem.snowball import SnowballStemmer\n",
    "import string\n",
    "from sklearn.linear_model import LogisticRegression\n",
    "\n",
    "import matplotlib.pyplot as plt\n",
    "\n",
    "#set random seed for the session and also for tensorflow that runs in background for keras\n",
    "# set_random_seed(123)\n",
    "# random.seed(123)\n"
   ]
  },
  {
   "cell_type": "code",
   "execution_count": 2,
   "metadata": {},
   "outputs": [],
   "source": [
    "##### Loading the dataset\n",
    "df_train = pd.read_csv(\"drugsComTrain_raw.csv\")\n",
    "df_test = pd.read_csv(\"drugsComTest_raw.csv\")"
   ]
  },
  {
   "cell_type": "code",
   "execution_count": 3,
   "metadata": {},
   "outputs": [
    {
     "name": "stdout",
     "output_type": "stream",
     "text": [
      "Shape of the training data-  (161297, 7)\n",
      "Shape of the testing data-  (53766, 7)\n"
     ]
    }
   ],
   "source": [
    "print(\"Shape of the training data- \",df_train.shape)\n",
    "print(\"Shape of the testing data- \",df_test.shape)"
   ]
  },
  {
   "cell_type": "code",
   "execution_count": 4,
   "metadata": {},
   "outputs": [
    {
     "data": {
      "text/plain": [
       "Index(['Unnamed: 0', 'drugName', 'condition', 'review', 'rating', 'date',\n",
       "       'usefulCount'],\n",
       "      dtype='object')"
      ]
     },
     "execution_count": 4,
     "metadata": {},
     "output_type": "execute_result"
    }
   ],
   "source": [
    "##### Columns present in the testing dataset\n",
    "df_train.columns"
   ]
  },
  {
   "cell_type": "code",
   "execution_count": 5,
   "metadata": {},
   "outputs": [
    {
     "data": {
      "text/plain": [
       "0    \"It has no side effect, I take it in combinati...\n",
       "1    \"My son is halfway through his fourth week of ...\n",
       "2    \"I used to take another oral contraceptive, wh...\n",
       "3    \"This is my first time using any form of birth...\n",
       "4    \"Suboxone has completely turned my life around...\n",
       "Name: review, dtype: object"
      ]
     },
     "execution_count": 5,
     "metadata": {},
     "output_type": "execute_result"
    }
   ],
   "source": [
    "######### Displaying how the reviews look like\n",
    "df_train['review'].head(5)"
   ]
  },
  {
   "cell_type": "code",
   "execution_count": 6,
   "metadata": {},
   "outputs": [
    {
     "name": "stderr",
     "output_type": "stream",
     "text": [
      "100%|████████████████████████████████████████████████████████████████████████| 161297/161297 [01:52<00:00, 1427.43it/s]\n"
     ]
    }
   ],
   "source": [
    "reviews = df_train['review']\n",
    "sentiments = []\n",
    "for review in tqdm(reviews):\n",
    "    blob = TextBlob(review)\n",
    "    sentiments += [blob.sentiment.polarity]"
   ]
  },
  {
   "cell_type": "code",
   "execution_count": 7,
   "metadata": {},
   "outputs": [
    {
     "data": {
      "text/html": [
       "<div>\n",
       "<style scoped>\n",
       "    .dataframe tbody tr th:only-of-type {\n",
       "        vertical-align: middle;\n",
       "    }\n",
       "\n",
       "    .dataframe tbody tr th {\n",
       "        vertical-align: top;\n",
       "    }\n",
       "\n",
       "    .dataframe thead th {\n",
       "        text-align: right;\n",
       "    }\n",
       "</style>\n",
       "<table border=\"1\" class=\"dataframe\">\n",
       "  <thead>\n",
       "    <tr style=\"text-align: right;\">\n",
       "      <th></th>\n",
       "      <th>Unnamed: 0</th>\n",
       "      <th>drugName</th>\n",
       "      <th>condition</th>\n",
       "      <th>review</th>\n",
       "      <th>rating</th>\n",
       "      <th>date</th>\n",
       "      <th>usefulCount</th>\n",
       "      <th>sentiment</th>\n",
       "    </tr>\n",
       "  </thead>\n",
       "  <tbody>\n",
       "    <tr>\n",
       "      <td>0</td>\n",
       "      <td>206461</td>\n",
       "      <td>Valsartan</td>\n",
       "      <td>Left Ventricular Dysfunction</td>\n",
       "      <td>\"It has no side effect, I take it in combinati...</td>\n",
       "      <td>9.0</td>\n",
       "      <td>May 20, 2012</td>\n",
       "      <td>27</td>\n",
       "      <td>0.000000</td>\n",
       "    </tr>\n",
       "    <tr>\n",
       "      <td>1</td>\n",
       "      <td>95260</td>\n",
       "      <td>Guanfacine</td>\n",
       "      <td>ADHD</td>\n",
       "      <td>\"My son is halfway through his fourth week of ...</td>\n",
       "      <td>8.0</td>\n",
       "      <td>April 27, 2010</td>\n",
       "      <td>192</td>\n",
       "      <td>0.168333</td>\n",
       "    </tr>\n",
       "    <tr>\n",
       "      <td>2</td>\n",
       "      <td>92703</td>\n",
       "      <td>Lybrel</td>\n",
       "      <td>Birth Control</td>\n",
       "      <td>\"I used to take another oral contraceptive, wh...</td>\n",
       "      <td>5.0</td>\n",
       "      <td>December 14, 2009</td>\n",
       "      <td>17</td>\n",
       "      <td>0.067210</td>\n",
       "    </tr>\n",
       "    <tr>\n",
       "      <td>3</td>\n",
       "      <td>138000</td>\n",
       "      <td>Ortho Evra</td>\n",
       "      <td>Birth Control</td>\n",
       "      <td>\"This is my first time using any form of birth...</td>\n",
       "      <td>8.0</td>\n",
       "      <td>November 3, 2015</td>\n",
       "      <td>10</td>\n",
       "      <td>0.179545</td>\n",
       "    </tr>\n",
       "    <tr>\n",
       "      <td>4</td>\n",
       "      <td>35696</td>\n",
       "      <td>Buprenorphine / naloxone</td>\n",
       "      <td>Opiate Dependence</td>\n",
       "      <td>\"Suboxone has completely turned my life around...</td>\n",
       "      <td>9.0</td>\n",
       "      <td>November 27, 2016</td>\n",
       "      <td>37</td>\n",
       "      <td>0.194444</td>\n",
       "    </tr>\n",
       "  </tbody>\n",
       "</table>\n",
       "</div>"
      ],
      "text/plain": [
       "   Unnamed: 0                  drugName                     condition  \\\n",
       "0      206461                 Valsartan  Left Ventricular Dysfunction   \n",
       "1       95260                Guanfacine                          ADHD   \n",
       "2       92703                    Lybrel                 Birth Control   \n",
       "3      138000                Ortho Evra                 Birth Control   \n",
       "4       35696  Buprenorphine / naloxone             Opiate Dependence   \n",
       "\n",
       "                                              review  rating  \\\n",
       "0  \"It has no side effect, I take it in combinati...     9.0   \n",
       "1  \"My son is halfway through his fourth week of ...     8.0   \n",
       "2  \"I used to take another oral contraceptive, wh...     5.0   \n",
       "3  \"This is my first time using any form of birth...     8.0   \n",
       "4  \"Suboxone has completely turned my life around...     9.0   \n",
       "\n",
       "                date  usefulCount  sentiment  \n",
       "0       May 20, 2012           27   0.000000  \n",
       "1     April 27, 2010          192   0.168333  \n",
       "2  December 14, 2009           17   0.067210  \n",
       "3   November 3, 2015           10   0.179545  \n",
       "4  November 27, 2016           37   0.194444  "
      ]
     },
     "execution_count": 7,
     "metadata": {},
     "output_type": "execute_result"
    }
   ],
   "source": [
    "df_train[\"sentiment\"] = sentiments\n",
    "df_train.head(5)"
   ]
  },
  {
   "cell_type": "code",
   "execution_count": 8,
   "metadata": {},
   "outputs": [],
   "source": [
    "row_indexes1=df_train[df_train['rating']>=5.0].index\n",
    "df_train.loc[row_indexes1,'rating_new']=\"1\"\n",
    "row_indexes0=df_train[df_train['rating']<5.0].index\n",
    "df_train.loc[row_indexes0,'rating_new']=\"0\""
   ]
  },
  {
   "cell_type": "code",
   "execution_count": 136,
   "metadata": {},
   "outputs": [],
   "source": [
    "row_indexes1=df_test[df_test['rating']>=5.0].index\n",
    "df_test.loc[row_indexes1,'rating_new']=\"1\"\n",
    "row_indexes0=df_test[df_test['rating']<5.0].index\n",
    "df_test.loc[row_indexes0,'rating_new']=\"0\""
   ]
  },
  {
   "cell_type": "code",
   "execution_count": 8,
   "metadata": {},
   "outputs": [],
   "source": [
    "df_train['rating_new'] = df_train['rating'].apply(lambda i:1 if i>=5 else 0)\n"
   ]
  },
  {
   "cell_type": "code",
   "execution_count": 9,
   "metadata": {},
   "outputs": [],
   "source": [
    "df_test['rating_new'] = df_test['rating'].apply(lambda i:1 if i>=5 else 0)"
   ]
  },
  {
   "cell_type": "code",
   "execution_count": 10,
   "metadata": {},
   "outputs": [
    {
     "data": {
      "text/html": [
       "<div>\n",
       "<style scoped>\n",
       "    .dataframe tbody tr th:only-of-type {\n",
       "        vertical-align: middle;\n",
       "    }\n",
       "\n",
       "    .dataframe tbody tr th {\n",
       "        vertical-align: top;\n",
       "    }\n",
       "\n",
       "    .dataframe thead th {\n",
       "        text-align: right;\n",
       "    }\n",
       "</style>\n",
       "<table border=\"1\" class=\"dataframe\">\n",
       "  <thead>\n",
       "    <tr style=\"text-align: right;\">\n",
       "      <th></th>\n",
       "      <th>Unnamed: 0</th>\n",
       "      <th>drugName</th>\n",
       "      <th>condition</th>\n",
       "      <th>review</th>\n",
       "      <th>rating</th>\n",
       "      <th>date</th>\n",
       "      <th>usefulCount</th>\n",
       "      <th>rating_new_2</th>\n",
       "      <th>rating_new</th>\n",
       "    </tr>\n",
       "  </thead>\n",
       "  <tbody>\n",
       "    <tr>\n",
       "      <td>0</td>\n",
       "      <td>206461</td>\n",
       "      <td>Valsartan</td>\n",
       "      <td>Left Ventricular Dysfunction</td>\n",
       "      <td>\"It has no side effect, I take it in combinati...</td>\n",
       "      <td>9.0</td>\n",
       "      <td>May 20, 2012</td>\n",
       "      <td>27</td>\n",
       "      <td>1</td>\n",
       "      <td>1</td>\n",
       "    </tr>\n",
       "    <tr>\n",
       "      <td>1</td>\n",
       "      <td>95260</td>\n",
       "      <td>Guanfacine</td>\n",
       "      <td>ADHD</td>\n",
       "      <td>\"My son is halfway through his fourth week of ...</td>\n",
       "      <td>8.0</td>\n",
       "      <td>April 27, 2010</td>\n",
       "      <td>192</td>\n",
       "      <td>1</td>\n",
       "      <td>1</td>\n",
       "    </tr>\n",
       "    <tr>\n",
       "      <td>2</td>\n",
       "      <td>92703</td>\n",
       "      <td>Lybrel</td>\n",
       "      <td>Birth Control</td>\n",
       "      <td>\"I used to take another oral contraceptive, wh...</td>\n",
       "      <td>5.0</td>\n",
       "      <td>December 14, 2009</td>\n",
       "      <td>17</td>\n",
       "      <td>1</td>\n",
       "      <td>1</td>\n",
       "    </tr>\n",
       "    <tr>\n",
       "      <td>3</td>\n",
       "      <td>138000</td>\n",
       "      <td>Ortho Evra</td>\n",
       "      <td>Birth Control</td>\n",
       "      <td>\"This is my first time using any form of birth...</td>\n",
       "      <td>8.0</td>\n",
       "      <td>November 3, 2015</td>\n",
       "      <td>10</td>\n",
       "      <td>1</td>\n",
       "      <td>1</td>\n",
       "    </tr>\n",
       "    <tr>\n",
       "      <td>4</td>\n",
       "      <td>35696</td>\n",
       "      <td>Buprenorphine / naloxone</td>\n",
       "      <td>Opiate Dependence</td>\n",
       "      <td>\"Suboxone has completely turned my life around...</td>\n",
       "      <td>9.0</td>\n",
       "      <td>November 27, 2016</td>\n",
       "      <td>37</td>\n",
       "      <td>1</td>\n",
       "      <td>1</td>\n",
       "    </tr>\n",
       "  </tbody>\n",
       "</table>\n",
       "</div>"
      ],
      "text/plain": [
       "   Unnamed: 0                  drugName                     condition  \\\n",
       "0      206461                 Valsartan  Left Ventricular Dysfunction   \n",
       "1       95260                Guanfacine                          ADHD   \n",
       "2       92703                    Lybrel                 Birth Control   \n",
       "3      138000                Ortho Evra                 Birth Control   \n",
       "4       35696  Buprenorphine / naloxone             Opiate Dependence   \n",
       "\n",
       "                                              review  rating  \\\n",
       "0  \"It has no side effect, I take it in combinati...     9.0   \n",
       "1  \"My son is halfway through his fourth week of ...     8.0   \n",
       "2  \"I used to take another oral contraceptive, wh...     5.0   \n",
       "3  \"This is my first time using any form of birth...     8.0   \n",
       "4  \"Suboxone has completely turned my life around...     9.0   \n",
       "\n",
       "                date  usefulCount  rating_new_2  rating_new  \n",
       "0       May 20, 2012           27             1           1  \n",
       "1     April 27, 2010          192             1           1  \n",
       "2  December 14, 2009           17             1           1  \n",
       "3   November 3, 2015           10             1           1  \n",
       "4  November 27, 2016           37             1           1  "
      ]
     },
     "execution_count": 10,
     "metadata": {},
     "output_type": "execute_result"
    }
   ],
   "source": [
    "df_train.head(5)"
   ]
  },
  {
   "cell_type": "code",
   "execution_count": 12,
   "metadata": {},
   "outputs": [
    {
     "data": {
      "text/html": [
       "<div>\n",
       "<style scoped>\n",
       "    .dataframe tbody tr th:only-of-type {\n",
       "        vertical-align: middle;\n",
       "    }\n",
       "\n",
       "    .dataframe tbody tr th {\n",
       "        vertical-align: top;\n",
       "    }\n",
       "\n",
       "    .dataframe thead th {\n",
       "        text-align: right;\n",
       "    }\n",
       "</style>\n",
       "<table border=\"1\" class=\"dataframe\">\n",
       "  <thead>\n",
       "    <tr style=\"text-align: right;\">\n",
       "      <th></th>\n",
       "      <th>uniqueID</th>\n",
       "      <th>drugName</th>\n",
       "      <th>condition</th>\n",
       "      <th>review</th>\n",
       "      <th>rating</th>\n",
       "      <th>date</th>\n",
       "      <th>usefulCount</th>\n",
       "      <th>rating_new</th>\n",
       "    </tr>\n",
       "  </thead>\n",
       "  <tbody>\n",
       "    <tr>\n",
       "      <td>0</td>\n",
       "      <td>163740</td>\n",
       "      <td>Mirtazapine</td>\n",
       "      <td>Depression</td>\n",
       "      <td>\"I&amp;#039;ve tried a few antidepressants over th...</td>\n",
       "      <td>10</td>\n",
       "      <td>28-Feb-12</td>\n",
       "      <td>22</td>\n",
       "      <td>1</td>\n",
       "    </tr>\n",
       "    <tr>\n",
       "      <td>1</td>\n",
       "      <td>206473</td>\n",
       "      <td>Mesalamine</td>\n",
       "      <td>Crohn's Disease, Maintenance</td>\n",
       "      <td>\"My son has Crohn&amp;#039;s disease and has done ...</td>\n",
       "      <td>8</td>\n",
       "      <td>17-May-09</td>\n",
       "      <td>17</td>\n",
       "      <td>1</td>\n",
       "    </tr>\n",
       "    <tr>\n",
       "      <td>2</td>\n",
       "      <td>159672</td>\n",
       "      <td>Bactrim</td>\n",
       "      <td>Urinary Tract Infection</td>\n",
       "      <td>\"Quick reduction of symptoms\"</td>\n",
       "      <td>9</td>\n",
       "      <td>29-Sep-17</td>\n",
       "      <td>3</td>\n",
       "      <td>1</td>\n",
       "    </tr>\n",
       "    <tr>\n",
       "      <td>3</td>\n",
       "      <td>39293</td>\n",
       "      <td>Contrave</td>\n",
       "      <td>Weight Loss</td>\n",
       "      <td>\"Contrave combines drugs that were used for al...</td>\n",
       "      <td>9</td>\n",
       "      <td>5-Mar-17</td>\n",
       "      <td>35</td>\n",
       "      <td>1</td>\n",
       "    </tr>\n",
       "    <tr>\n",
       "      <td>4</td>\n",
       "      <td>97768</td>\n",
       "      <td>Cyclafem 1 / 35</td>\n",
       "      <td>Birth Control</td>\n",
       "      <td>\"I have been on this birth control for one cyc...</td>\n",
       "      <td>9</td>\n",
       "      <td>22-Oct-15</td>\n",
       "      <td>4</td>\n",
       "      <td>1</td>\n",
       "    </tr>\n",
       "  </tbody>\n",
       "</table>\n",
       "</div>"
      ],
      "text/plain": [
       "   uniqueID         drugName                     condition  \\\n",
       "0    163740      Mirtazapine                    Depression   \n",
       "1    206473       Mesalamine  Crohn's Disease, Maintenance   \n",
       "2    159672          Bactrim       Urinary Tract Infection   \n",
       "3     39293         Contrave                   Weight Loss   \n",
       "4     97768  Cyclafem 1 / 35                 Birth Control   \n",
       "\n",
       "                                              review  rating       date  \\\n",
       "0  \"I&#039;ve tried a few antidepressants over th...      10  28-Feb-12   \n",
       "1  \"My son has Crohn&#039;s disease and has done ...       8  17-May-09   \n",
       "2                      \"Quick reduction of symptoms\"       9  29-Sep-17   \n",
       "3  \"Contrave combines drugs that were used for al...       9   5-Mar-17   \n",
       "4  \"I have been on this birth control for one cyc...       9  22-Oct-15   \n",
       "\n",
       "   usefulCount  rating_new  \n",
       "0           22           1  \n",
       "1           17           1  \n",
       "2            3           1  \n",
       "3           35           1  \n",
       "4            4           1  "
      ]
     },
     "execution_count": 12,
     "metadata": {},
     "output_type": "execute_result"
    }
   ],
   "source": [
    "df_test.head(5)"
   ]
  },
  {
   "cell_type": "code",
   "execution_count": 10,
   "metadata": {},
   "outputs": [],
   "source": [
    "################## Run the following if you're using nltk for the first time\n",
    "# import nltk\n",
    "# nltk.download()\n",
    "# nltk.download('punkt')\n",
    "# nltk.download('wordnet')"
   ]
  },
  {
   "cell_type": "code",
   "execution_count": 13,
   "metadata": {},
   "outputs": [],
   "source": [
    "from tqdm import tqdm\n",
    "\n",
    "def clean_sentences(df):\n",
    "    reviews = []\n",
    "\n",
    "    for sent in tqdm(df['review']):\n",
    "        \n",
    "        #remove html content\n",
    "        review_text = BeautifulSoup(sent).get_text()\n",
    "            \n",
    "        #remove non-alphabetic characters\n",
    "        review_text = re.sub(\"[^a-zA-Z]\",\" \", review_text)\n",
    "    \n",
    "        #tokenize the sentences\n",
    "        words = word_tokenize(review_text.lower())\n",
    "    \n",
    "        #lemmatize each word to its lemma\n",
    "        lemma_words = [lemmatizer.lemmatize(i) for i in words]\n",
    "    \n",
    "        reviews.append(lemma_words)\n",
    "\n",
    "    return(reviews)\n"
   ]
  },
  {
   "cell_type": "code",
   "execution_count": 14,
   "metadata": {},
   "outputs": [
    {
     "name": "stderr",
     "output_type": "stream",
     "text": [
      "100%|████████████████████████████████████████████████████████████████████████| 161297/161297 [02:26<00:00, 1103.67it/s]\n"
     ]
    }
   ],
   "source": [
    "df_train['tokens'] = clean_sentences(df_train)"
   ]
  },
  {
   "cell_type": "code",
   "execution_count": 15,
   "metadata": {},
   "outputs": [
    {
     "name": "stderr",
     "output_type": "stream",
     "text": [
      "100%|██████████████████████████████████████████████████████████████████████████| 53766/53766 [00:45<00:00, 1179.30it/s]\n"
     ]
    }
   ],
   "source": [
    "df_test['tokens'] = clean_sentences(df_test)"
   ]
  },
  {
   "cell_type": "code",
   "execution_count": 16,
   "metadata": {},
   "outputs": [],
   "source": [
    "from nltk.corpus import stopwords\n",
    "stopword = stopwords.words('english')\n",
    "negated_words = ['don',\"don't\",'ain','aren',\"aren't\",'couldn',\"couldn't\",\n",
    "                 'didn',\"didn't\",'doesn',\"doesn't\",'hadn',\"hadn't\",'hasn',\"hasn't\",'haven',\"haven't\",'isn',\"isn't\",\n",
    "                'against','no','not','no','mightn',\"mightn't\",'mustn',\"mustn't\",'needn',\"needn't\",'shan',\"shan't\",'shouldn',\n",
    "                 \"shouldn't\",'wasn',\"wasn't\",'weren',\"weren't\",'won',\"won't\",'wouldn',\"wouldn't\"]\n",
    "stop = []\n",
    "for w in stopword:\n",
    "    if w not in negated_words:\n",
    "        stop.append(w)"
   ]
  },
  {
   "cell_type": "code",
   "execution_count": 17,
   "metadata": {},
   "outputs": [],
   "source": [
    "def clean(sen):\n",
    "    return [word for word in sen if word not in stop]"
   ]
  },
  {
   "cell_type": "code",
   "execution_count": 18,
   "metadata": {},
   "outputs": [],
   "source": [
    "df_train['cleaned']= df_train['tokens'].apply(clean)\n",
    "df_test['cleaned'] = df_test['tokens'].apply(clean)"
   ]
  },
  {
   "cell_type": "code",
   "execution_count": 19,
   "metadata": {},
   "outputs": [
    {
     "data": {
      "text/html": [
       "<div>\n",
       "<style scoped>\n",
       "    .dataframe tbody tr th:only-of-type {\n",
       "        vertical-align: middle;\n",
       "    }\n",
       "\n",
       "    .dataframe tbody tr th {\n",
       "        vertical-align: top;\n",
       "    }\n",
       "\n",
       "    .dataframe thead th {\n",
       "        text-align: right;\n",
       "    }\n",
       "</style>\n",
       "<table border=\"1\" class=\"dataframe\">\n",
       "  <thead>\n",
       "    <tr style=\"text-align: right;\">\n",
       "      <th></th>\n",
       "      <th>Unnamed: 0</th>\n",
       "      <th>drugName</th>\n",
       "      <th>condition</th>\n",
       "      <th>review</th>\n",
       "      <th>rating</th>\n",
       "      <th>date</th>\n",
       "      <th>usefulCount</th>\n",
       "      <th>rating_new_2</th>\n",
       "      <th>rating_new</th>\n",
       "      <th>tokens</th>\n",
       "      <th>cleaned</th>\n",
       "    </tr>\n",
       "  </thead>\n",
       "  <tbody>\n",
       "    <tr>\n",
       "      <td>0</td>\n",
       "      <td>206461</td>\n",
       "      <td>Valsartan</td>\n",
       "      <td>Left Ventricular Dysfunction</td>\n",
       "      <td>\"It has no side effect, I take it in combinati...</td>\n",
       "      <td>9.0</td>\n",
       "      <td>May 20, 2012</td>\n",
       "      <td>27</td>\n",
       "      <td>1</td>\n",
       "      <td>1</td>\n",
       "      <td>[it, ha, no, side, effect, i, take, it, in, co...</td>\n",
       "      <td>[ha, no, side, effect, take, combination, byst...</td>\n",
       "    </tr>\n",
       "    <tr>\n",
       "      <td>1</td>\n",
       "      <td>95260</td>\n",
       "      <td>Guanfacine</td>\n",
       "      <td>ADHD</td>\n",
       "      <td>\"My son is halfway through his fourth week of ...</td>\n",
       "      <td>8.0</td>\n",
       "      <td>April 27, 2010</td>\n",
       "      <td>192</td>\n",
       "      <td>1</td>\n",
       "      <td>1</td>\n",
       "      <td>[my, son, is, halfway, through, his, fourth, w...</td>\n",
       "      <td>[son, halfway, fourth, week, intuniv, became, ...</td>\n",
       "    </tr>\n",
       "    <tr>\n",
       "      <td>2</td>\n",
       "      <td>92703</td>\n",
       "      <td>Lybrel</td>\n",
       "      <td>Birth Control</td>\n",
       "      <td>\"I used to take another oral contraceptive, wh...</td>\n",
       "      <td>5.0</td>\n",
       "      <td>December 14, 2009</td>\n",
       "      <td>17</td>\n",
       "      <td>1</td>\n",
       "      <td>1</td>\n",
       "      <td>[i, used, to, take, another, oral, contracepti...</td>\n",
       "      <td>[used, take, another, oral, contraceptive, pil...</td>\n",
       "    </tr>\n",
       "    <tr>\n",
       "      <td>3</td>\n",
       "      <td>138000</td>\n",
       "      <td>Ortho Evra</td>\n",
       "      <td>Birth Control</td>\n",
       "      <td>\"This is my first time using any form of birth...</td>\n",
       "      <td>8.0</td>\n",
       "      <td>November 3, 2015</td>\n",
       "      <td>10</td>\n",
       "      <td>1</td>\n",
       "      <td>1</td>\n",
       "      <td>[this, is, my, first, time, using, any, form, ...</td>\n",
       "      <td>[first, time, using, form, birth, control, gla...</td>\n",
       "    </tr>\n",
       "    <tr>\n",
       "      <td>4</td>\n",
       "      <td>35696</td>\n",
       "      <td>Buprenorphine / naloxone</td>\n",
       "      <td>Opiate Dependence</td>\n",
       "      <td>\"Suboxone has completely turned my life around...</td>\n",
       "      <td>9.0</td>\n",
       "      <td>November 27, 2016</td>\n",
       "      <td>37</td>\n",
       "      <td>1</td>\n",
       "      <td>1</td>\n",
       "      <td>[suboxone, ha, completely, turned, my, life, a...</td>\n",
       "      <td>[suboxone, ha, completely, turned, life, aroun...</td>\n",
       "    </tr>\n",
       "  </tbody>\n",
       "</table>\n",
       "</div>"
      ],
      "text/plain": [
       "   Unnamed: 0                  drugName                     condition  \\\n",
       "0      206461                 Valsartan  Left Ventricular Dysfunction   \n",
       "1       95260                Guanfacine                          ADHD   \n",
       "2       92703                    Lybrel                 Birth Control   \n",
       "3      138000                Ortho Evra                 Birth Control   \n",
       "4       35696  Buprenorphine / naloxone             Opiate Dependence   \n",
       "\n",
       "                                              review  rating  \\\n",
       "0  \"It has no side effect, I take it in combinati...     9.0   \n",
       "1  \"My son is halfway through his fourth week of ...     8.0   \n",
       "2  \"I used to take another oral contraceptive, wh...     5.0   \n",
       "3  \"This is my first time using any form of birth...     8.0   \n",
       "4  \"Suboxone has completely turned my life around...     9.0   \n",
       "\n",
       "                date  usefulCount  rating_new_2  rating_new  \\\n",
       "0       May 20, 2012           27             1           1   \n",
       "1     April 27, 2010          192             1           1   \n",
       "2  December 14, 2009           17             1           1   \n",
       "3   November 3, 2015           10             1           1   \n",
       "4  November 27, 2016           37             1           1   \n",
       "\n",
       "                                              tokens  \\\n",
       "0  [it, ha, no, side, effect, i, take, it, in, co...   \n",
       "1  [my, son, is, halfway, through, his, fourth, w...   \n",
       "2  [i, used, to, take, another, oral, contracepti...   \n",
       "3  [this, is, my, first, time, using, any, form, ...   \n",
       "4  [suboxone, ha, completely, turned, my, life, a...   \n",
       "\n",
       "                                             cleaned  \n",
       "0  [ha, no, side, effect, take, combination, byst...  \n",
       "1  [son, halfway, fourth, week, intuniv, became, ...  \n",
       "2  [used, take, another, oral, contraceptive, pil...  \n",
       "3  [first, time, using, form, birth, control, gla...  \n",
       "4  [suboxone, ha, completely, turned, life, aroun...  "
      ]
     },
     "execution_count": 19,
     "metadata": {},
     "output_type": "execute_result"
    }
   ],
   "source": [
    "df_train.head(5)"
   ]
  },
  {
   "cell_type": "markdown",
   "metadata": {},
   "source": [
    "### LSTM with CNN"
   ]
  },
  {
   "cell_type": "code",
   "execution_count": 19,
   "metadata": {},
   "outputs": [
    {
     "name": "stdout",
     "output_type": "stream",
     "text": [
      "6946645 words total, with a vocabulary size of 41914\n",
      "Max sentence length is 973\n"
     ]
    }
   ],
   "source": [
    "############### FOR TRAINING #################\n",
    "all_training_words = [word for tokens in df_train[\"cleaned\"] for word in tokens]\n",
    "training_sentence_lengths = [len(tokens) for tokens in df_train[\"cleaned\"]]\n",
    "TRAINING_VOCAB = sorted(list(set(all_training_words)))\n",
    "print(\"%s words total, with a vocabulary size of %s\" % (len(all_training_words), len(TRAINING_VOCAB)))\n",
    "print(\"Max sentence length is %s\" % max(training_sentence_lengths))"
   ]
  },
  {
   "cell_type": "code",
   "execution_count": 27,
   "metadata": {},
   "outputs": [
    {
     "name": "stdout",
     "output_type": "stream",
     "text": [
      "2311711 words total, with a vocabulary size of 28119\n",
      "Max sentence length is 577\n"
     ]
    }
   ],
   "source": [
    "############### FOR TESTING ##################\n",
    "all_testing_words = [word for tokens in df_test[\"cleaned\"] for word in tokens]\n",
    "testing_sentence_lengths = [len(tokens) for tokens in df_test[\"cleaned\"]]\n",
    "TESTING_VOCAB = sorted(list(set(all_testing_words)))\n",
    "print(\"%s words total, with a vocabulary size of %s\" % (len(all_testing_words), len(TESTING_VOCAB)))\n",
    "print(\"Max sentence length is %s\" % max(testing_sentence_lengths))"
   ]
  },
  {
   "cell_type": "code",
   "execution_count": 20,
   "metadata": {},
   "outputs": [
    {
     "name": "stdout",
     "output_type": "stream",
     "text": [
      "161297\n"
     ]
    }
   ],
   "source": [
    "############### FOR TRAINING #################\n",
    "cleaned_2 = []\n",
    "for i in df_train[\"cleaned\"]:\n",
    "    text = \" \".join(i)\n",
    "    cleaned_2.append(text)\n",
    "df_train[\"cleaned_new\"] = cleaned_2"
   ]
  },
  {
   "cell_type": "code",
   "execution_count": 113,
   "metadata": {},
   "outputs": [],
   "source": [
    "# df_train[\"cleaned_new\"][:15]"
   ]
  },
  {
   "cell_type": "code",
   "execution_count": 22,
   "metadata": {},
   "outputs": [
    {
     "name": "stdout",
     "output_type": "stream",
     "text": [
      "53766\n"
     ]
    }
   ],
   "source": [
    "############## FOR TESTING ##################\n",
    "cleaned_2_test = []\n",
    "for i in df_test[\"cleaned\"]:\n",
    "    text = \" \".join(i)\n",
    "    cleaned_2_test.append(text)\n",
    "df_test[\"cleaned_new\"] = cleaned_2_test\n",
    "print(len(cleaned_2_test))"
   ]
  },
  {
   "cell_type": "code",
   "execution_count": 111,
   "metadata": {},
   "outputs": [
    {
     "data": {
      "text/html": [
       "<div>\n",
       "<style scoped>\n",
       "    .dataframe tbody tr th:only-of-type {\n",
       "        vertical-align: middle;\n",
       "    }\n",
       "\n",
       "    .dataframe tbody tr th {\n",
       "        vertical-align: top;\n",
       "    }\n",
       "\n",
       "    .dataframe thead th {\n",
       "        text-align: right;\n",
       "    }\n",
       "</style>\n",
       "<table border=\"1\" class=\"dataframe\">\n",
       "  <thead>\n",
       "    <tr style=\"text-align: right;\">\n",
       "      <th></th>\n",
       "      <th>uniqueID</th>\n",
       "      <th>drugName</th>\n",
       "      <th>condition</th>\n",
       "      <th>review</th>\n",
       "      <th>rating</th>\n",
       "      <th>date</th>\n",
       "      <th>usefulCount</th>\n",
       "      <th>tokens</th>\n",
       "      <th>cleaned</th>\n",
       "      <th>cleaned_new</th>\n",
       "      <th>rating_new</th>\n",
       "    </tr>\n",
       "  </thead>\n",
       "  <tbody>\n",
       "    <tr>\n",
       "      <td>0</td>\n",
       "      <td>163740</td>\n",
       "      <td>Mirtazapine</td>\n",
       "      <td>Depression</td>\n",
       "      <td>\"I&amp;#039;ve tried a few antidepressants over th...</td>\n",
       "      <td>10</td>\n",
       "      <td>28-Feb-12</td>\n",
       "      <td>22</td>\n",
       "      <td>[i, ve, tried, a, few, antidepressant, over, t...</td>\n",
       "      <td>[tried, antidepressant, year, citalopram, fluo...</td>\n",
       "      <td>tried antidepressant year citalopram fluoxetin...</td>\n",
       "      <td>1</td>\n",
       "    </tr>\n",
       "    <tr>\n",
       "      <td>1</td>\n",
       "      <td>206473</td>\n",
       "      <td>Mesalamine</td>\n",
       "      <td>Crohn's Disease, Maintenance</td>\n",
       "      <td>\"My son has Crohn&amp;#039;s disease and has done ...</td>\n",
       "      <td>8</td>\n",
       "      <td>17-May-09</td>\n",
       "      <td>17</td>\n",
       "      <td>[my, son, ha, crohn, s, disease, and, ha, done...</td>\n",
       "      <td>[son, ha, crohn, disease, ha, done, well, asac...</td>\n",
       "      <td>son ha crohn disease ha done well asacol ha no...</td>\n",
       "      <td>1</td>\n",
       "    </tr>\n",
       "    <tr>\n",
       "      <td>2</td>\n",
       "      <td>159672</td>\n",
       "      <td>Bactrim</td>\n",
       "      <td>Urinary Tract Infection</td>\n",
       "      <td>\"Quick reduction of symptoms\"</td>\n",
       "      <td>9</td>\n",
       "      <td>29-Sep-17</td>\n",
       "      <td>3</td>\n",
       "      <td>[quick, reduction, of, symptom]</td>\n",
       "      <td>[quick, reduction, symptom]</td>\n",
       "      <td>quick reduction symptom</td>\n",
       "      <td>1</td>\n",
       "    </tr>\n",
       "    <tr>\n",
       "      <td>3</td>\n",
       "      <td>39293</td>\n",
       "      <td>Contrave</td>\n",
       "      <td>Weight Loss</td>\n",
       "      <td>\"Contrave combines drugs that were used for al...</td>\n",
       "      <td>9</td>\n",
       "      <td>5-Mar-17</td>\n",
       "      <td>35</td>\n",
       "      <td>[contrave, combine, drug, that, were, used, fo...</td>\n",
       "      <td>[contrave, combine, drug, used, alcohol, smoki...</td>\n",
       "      <td>contrave combine drug used alcohol smoking opi...</td>\n",
       "      <td>1</td>\n",
       "    </tr>\n",
       "    <tr>\n",
       "      <td>4</td>\n",
       "      <td>97768</td>\n",
       "      <td>Cyclafem 1 / 35</td>\n",
       "      <td>Birth Control</td>\n",
       "      <td>\"I have been on this birth control for one cyc...</td>\n",
       "      <td>9</td>\n",
       "      <td>22-Oct-15</td>\n",
       "      <td>4</td>\n",
       "      <td>[i, have, been, on, this, birth, control, for,...</td>\n",
       "      <td>[birth, control, one, cycle, reading, review, ...</td>\n",
       "      <td>birth control one cycle reading review type si...</td>\n",
       "      <td>1</td>\n",
       "    </tr>\n",
       "  </tbody>\n",
       "</table>\n",
       "</div>"
      ],
      "text/plain": [
       "   uniqueID         drugName                     condition  \\\n",
       "0    163740      Mirtazapine                    Depression   \n",
       "1    206473       Mesalamine  Crohn's Disease, Maintenance   \n",
       "2    159672          Bactrim       Urinary Tract Infection   \n",
       "3     39293         Contrave                   Weight Loss   \n",
       "4     97768  Cyclafem 1 / 35                 Birth Control   \n",
       "\n",
       "                                              review  rating       date  \\\n",
       "0  \"I&#039;ve tried a few antidepressants over th...      10  28-Feb-12   \n",
       "1  \"My son has Crohn&#039;s disease and has done ...       8  17-May-09   \n",
       "2                      \"Quick reduction of symptoms\"       9  29-Sep-17   \n",
       "3  \"Contrave combines drugs that were used for al...       9   5-Mar-17   \n",
       "4  \"I have been on this birth control for one cyc...       9  22-Oct-15   \n",
       "\n",
       "   usefulCount                                             tokens  \\\n",
       "0           22  [i, ve, tried, a, few, antidepressant, over, t...   \n",
       "1           17  [my, son, ha, crohn, s, disease, and, ha, done...   \n",
       "2            3                    [quick, reduction, of, symptom]   \n",
       "3           35  [contrave, combine, drug, that, were, used, fo...   \n",
       "4            4  [i, have, been, on, this, birth, control, for,...   \n",
       "\n",
       "                                             cleaned  \\\n",
       "0  [tried, antidepressant, year, citalopram, fluo...   \n",
       "1  [son, ha, crohn, disease, ha, done, well, asac...   \n",
       "2                        [quick, reduction, symptom]   \n",
       "3  [contrave, combine, drug, used, alcohol, smoki...   \n",
       "4  [birth, control, one, cycle, reading, review, ...   \n",
       "\n",
       "                                         cleaned_new  rating_new  \n",
       "0  tried antidepressant year citalopram fluoxetin...           1  \n",
       "1  son ha crohn disease ha done well asacol ha no...           1  \n",
       "2                            quick reduction symptom           1  \n",
       "3  contrave combine drug used alcohol smoking opi...           1  \n",
       "4  birth control one cycle reading review type si...           1  "
      ]
     },
     "execution_count": 111,
     "metadata": {},
     "output_type": "execute_result"
    }
   ],
   "source": [
    "df_test.head(5)"
   ]
  },
  {
   "cell_type": "code",
   "execution_count": 28,
   "metadata": {},
   "outputs": [],
   "source": [
    "tokenizer_train = Tokenizer(num_words= len(TRAINING_VOCAB), lower=True, char_level=False)\n",
    "tokenizer_train.fit_on_texts(df_train['cleaned_new'].tolist())"
   ]
  },
  {
   "cell_type": "code",
   "execution_count": 29,
   "metadata": {},
   "outputs": [],
   "source": [
    "sequences_train = tokenizer_train.texts_to_sequences(df_train['cleaned_new'].tolist())\n",
    "data_train = pad_sequences(sequences_train, maxlen=max(training_sentence_lengths))"
   ]
  },
  {
   "cell_type": "code",
   "execution_count": 30,
   "metadata": {},
   "outputs": [],
   "source": [
    "tokenizer_test = Tokenizer(num_words= len(TESTING_VOCAB), lower=True, char_level=False)\n",
    "tokenizer_test.fit_on_texts(df_test['cleaned_new'].tolist())"
   ]
  },
  {
   "cell_type": "code",
   "execution_count": 42,
   "metadata": {},
   "outputs": [],
   "source": [
    "sequences_test = tokenizer_test.texts_to_sequences(df_test['cleaned_new'].tolist())\n",
    "data_test = pad_sequences(sequences_test, maxlen=max(training_sentence_lengths))"
   ]
  },
  {
   "cell_type": "code",
   "execution_count": 33,
   "metadata": {},
   "outputs": [
    {
     "name": "stdout",
     "output_type": "stream",
     "text": [
      "Found 41914 unique tokens in the traing data set.\n",
      "Found 28119 unique tokens in the testing data set.\n"
     ]
    }
   ],
   "source": [
    "train_word_index = tokenizer_train.word_index\n",
    "test_word_index = tokenizer_test.word_index\n",
    "print('Found %s unique tokens in the traing data set.' % len(train_word_index))\n",
    "print('Found %s unique tokens in the testing data set.' % len(test_word_index))\n"
   ]
  },
  {
   "cell_type": "code",
   "execution_count": 43,
   "metadata": {},
   "outputs": [
    {
     "name": "stdout",
     "output_type": "stream",
     "text": [
      "Shape of training data (161297, 973)\n",
      "Shape of testing data (53766, 973)\n"
     ]
    }
   ],
   "source": [
    "print(\"Shape of training data\",data_train.shape)\n",
    "print(\"Shape of testing data\",data_test.shape)"
   ]
  },
  {
   "cell_type": "code",
   "execution_count": 35,
   "metadata": {},
   "outputs": [],
   "source": [
    "# LSTM Model Architecture\n",
    "model_lstm = Sequential()\n",
    "model_lstm.add(Embedding(42041, 100, input_length=973))\n",
    "model_lstm.add(LSTM(100, dropout=0.2, recurrent_dropout=0.2))\n",
    "model_lstm.add(Dense(1, activation='sigmoid'))\n",
    "model_lstm.compile(loss='binary_crossentropy', optimizer='adam', metrics=['accuracy'])"
   ]
  },
  {
   "cell_type": "code",
   "execution_count": 36,
   "metadata": {},
   "outputs": [],
   "source": [
    "train_labels = df_train[\"rating_new\"]"
   ]
  },
  {
   "cell_type": "code",
   "execution_count": null,
   "metadata": {},
   "outputs": [],
   "source": [
    "model_lstm.fit(data, np.array(labels), validation_split=0.3, epochs=1)"
   ]
  },
  {
   "cell_type": "code",
   "execution_count": 78,
   "metadata": {},
   "outputs": [],
   "source": [
    "def create_conv_model():\n",
    "    model_conv = Sequential()\n",
    "    model_conv.add(Embedding(41914, 100, input_length=973))\n",
    "    model_conv.add(Dropout(0.2))\n",
    "    model_conv.add(Conv1D(64, 5, activation='relu'))\n",
    "    model_conv.add(MaxPooling1D(pool_size=4))\n",
    "    model_conv.add(LSTM(100))\n",
    "    model_conv.add(Dense(1, activation='sigmoid'))\n",
    "    model_conv.compile(loss='binary_crossentropy', optimizer='adam', metrics=['accuracy'])\n",
    "    return model_conv"
   ]
  },
  {
   "cell_type": "code",
   "execution_count": 83,
   "metadata": {},
   "outputs": [
    {
     "name": "stderr",
     "output_type": "stream",
     "text": [
      "C:\\Users\\19784\\Anaconda3\\lib\\site-packages\\tensorflow_core\\python\\framework\\indexed_slices.py:424: UserWarning: Converting sparse IndexedSlices to a dense Tensor of unknown shape. This may consume a large amount of memory.\n",
      "  \"Converting sparse IndexedSlices to a dense Tensor of unknown shape. \"\n"
     ]
    },
    {
     "name": "stdout",
     "output_type": "stream",
     "text": [
      "Train on 112907 samples, validate on 48390 samples\n",
      "Epoch 1/3\n"
     ]
    },
    {
     "name": "stdout",
     "output_type": "stream",
     "text": [
      " 17600/112907 [===>..........................] - ETA: 25:06 - loss: 0.6901 - accuracy: 0.650 - ETA: 21:41 - loss: 0.6818 - accuracy: 0.680 - ETA: 20:29 - loss: 0.6770 - accuracy: 0.673 - ETA: 20:08 - loss: 0.6630 - accuracy: 0.700 - ETA: 20:01 - loss: 0.6527 - accuracy: 0.708 - ETA: 19:47 - loss: 0.6379 - accuracy: 0.720 - ETA: 19:38 - loss: 0.6303 - accuracy: 0.724 - ETA: 19:35 - loss: 0.6260 - accuracy: 0.726 - ETA: 19:30 - loss: 0.6198 - accuracy: 0.728 - ETA: 19:46 - loss: 0.6114 - accuracy: 0.733 - ETA: 20:08 - loss: 0.6045 - accuracy: 0.736 - ETA: 20:20 - loss: 0.6060 - accuracy: 0.733 - ETA: 20:29 - loss: 0.6015 - accuracy: 0.735 - ETA: 20:36 - loss: 0.5993 - accuracy: 0.735 - ETA: 20:44 - loss: 0.5951 - accuracy: 0.738 - ETA: 20:54 - loss: 0.5927 - accuracy: 0.740 - ETA: 20:59 - loss: 0.5871 - accuracy: 0.744 - ETA: 21:05 - loss: 0.5906 - accuracy: 0.740 - ETA: 21:18 - loss: 0.5885 - accuracy: 0.741 - ETA: 21:23 - loss: 0.5852 - accuracy: 0.743 - ETA: 21:32 - loss: 0.5815 - accuracy: 0.746 - ETA: 21:35 - loss: 0.5827 - accuracy: 0.744 - ETA: 21:44 - loss: 0.5849 - accuracy: 0.742 - ETA: 21:53 - loss: 0.5833 - accuracy: 0.742 - ETA: 22:01 - loss: 0.5847 - accuracy: 0.741 - ETA: 22:03 - loss: 0.5819 - accuracy: 0.743 - ETA: 22:05 - loss: 0.5814 - accuracy: 0.743 - ETA: 22:06 - loss: 0.5797 - accuracy: 0.743 - ETA: 22:07 - loss: 0.5777 - accuracy: 0.745 - ETA: 22:08 - loss: 0.5762 - accuracy: 0.746 - ETA: 22:10 - loss: 0.5757 - accuracy: 0.745 - ETA: 22:11 - loss: 0.5747 - accuracy: 0.746 - ETA: 22:11 - loss: 0.5764 - accuracy: 0.744 - ETA: 22:13 - loss: 0.5732 - accuracy: 0.746 - ETA: 22:14 - loss: 0.5732 - accuracy: 0.746 - ETA: 22:17 - loss: 0.5718 - accuracy: 0.746 - ETA: 22:20 - loss: 0.5723 - accuracy: 0.745 - ETA: 22:21 - loss: 0.5715 - accuracy: 0.746 - ETA: 22:22 - loss: 0.5699 - accuracy: 0.747 - ETA: 22:22 - loss: 0.5714 - accuracy: 0.745 - ETA: 22:22 - loss: 0.5747 - accuracy: 0.742 - ETA: 22:22 - loss: 0.5739 - accuracy: 0.742 - ETA: 22:28 - loss: 0.5738 - accuracy: 0.742 - ETA: 22:30 - loss: 0.5731 - accuracy: 0.742 - ETA: 22:33 - loss: 0.5739 - accuracy: 0.741 - ETA: 22:36 - loss: 0.5725 - accuracy: 0.742 - ETA: 22:36 - loss: 0.5722 - accuracy: 0.741 - ETA: 22:37 - loss: 0.5714 - accuracy: 0.742 - ETA: 22:41 - loss: 0.5696 - accuracy: 0.744 - ETA: 22:43 - loss: 0.5691 - accuracy: 0.744 - ETA: 22:45 - loss: 0.5687 - accuracy: 0.744 - ETA: 22:44 - loss: 0.5702 - accuracy: 0.742 - ETA: 22:46 - loss: 0.5707 - accuracy: 0.741 - ETA: 22:45 - loss: 0.5704 - accuracy: 0.740 - ETA: 22:46 - loss: 0.5705 - accuracy: 0.740 - ETA: 22:45 - loss: 0.5696 - accuracy: 0.740 - ETA: 22:43 - loss: 0.5705 - accuracy: 0.739 - ETA: 22:42 - loss: 0.5707 - accuracy: 0.738 - ETA: 22:41 - loss: 0.5708 - accuracy: 0.737 - ETA: 22:39 - loss: 0.5702 - accuracy: 0.737 - ETA: 22:39 - loss: 0.5684 - accuracy: 0.738 - ETA: 22:38 - loss: 0.5677 - accuracy: 0.738 - ETA: 22:37 - loss: 0.5660 - accuracy: 0.739 - ETA: 22:36 - loss: 0.5649 - accuracy: 0.739 - ETA: 22:35 - loss: 0.5637 - accuracy: 0.740 - ETA: 22:36 - loss: 0.5613 - accuracy: 0.741 - ETA: 22:35 - loss: 0.5608 - accuracy: 0.741 - ETA: 22:38 - loss: 0.5616 - accuracy: 0.740 - ETA: 22:42 - loss: 0.5602 - accuracy: 0.741 - ETA: 22:43 - loss: 0.5597 - accuracy: 0.741 - ETA: 22:43 - loss: 0.5588 - accuracy: 0.741 - ETA: 22:43 - loss: 0.5590 - accuracy: 0.740 - ETA: 22:46 - loss: 0.5571 - accuracy: 0.741 - ETA: 22:51 - loss: 0.5556 - accuracy: 0.742 - ETA: 22:54 - loss: 0.5546 - accuracy: 0.741 - ETA: 22:56 - loss: 0.5528 - accuracy: 0.742 - ETA: 22:58 - loss: 0.5520 - accuracy: 0.742 - ETA: 22:58 - loss: 0.5506 - accuracy: 0.742 - ETA: 22:59 - loss: 0.5499 - accuracy: 0.742 - ETA: 22:59 - loss: 0.5484 - accuracy: 0.743 - ETA: 22:59 - loss: 0.5481 - accuracy: 0.743 - ETA: 23:02 - loss: 0.5457 - accuracy: 0.744 - ETA: 23:01 - loss: 0.5443 - accuracy: 0.744 - ETA: 23:00 - loss: 0.5434 - accuracy: 0.744 - ETA: 22:59 - loss: 0.5410 - accuracy: 0.746 - ETA: 22:59 - loss: 0.5402 - accuracy: 0.746 - ETA: 22:59 - loss: 0.5412 - accuracy: 0.745 - ETA: 22:58 - loss: 0.5409 - accuracy: 0.745 - ETA: 22:58 - loss: 0.5406 - accuracy: 0.744 - ETA: 22:57 - loss: 0.5397 - accuracy: 0.745 - ETA: 23:00 - loss: 0.5395 - accuracy: 0.746 - ETA: 23:02 - loss: 0.5386 - accuracy: 0.746 - ETA: 23:03 - loss: 0.5376 - accuracy: 0.747 - ETA: 23:06 - loss: 0.5373 - accuracy: 0.747 - ETA: 23:07 - loss: 0.5366 - accuracy: 0.747 - ETA: 23:08 - loss: 0.5363 - accuracy: 0.747 - ETA: 23:11 - loss: 0.5356 - accuracy: 0.748 - ETA: 23:15 - loss: 0.5349 - accuracy: 0.748 - ETA: 23:17 - loss: 0.5337 - accuracy: 0.749 - ETA: 23:16 - loss: 0.5331 - accuracy: 0.749 - ETA: 23:15 - loss: 0.5315 - accuracy: 0.750 - ETA: 23:14 - loss: 0.5310 - accuracy: 0.750 - ETA: 23:15 - loss: 0.5301 - accuracy: 0.751 - ETA: 23:15 - loss: 0.5299 - accuracy: 0.750 - ETA: 23:16 - loss: 0.5292 - accuracy: 0.751 - ETA: 23:17 - loss: 0.5279 - accuracy: 0.752 - ETA: 23:18 - loss: 0.5265 - accuracy: 0.753 - ETA: 23:17 - loss: 0.5254 - accuracy: 0.753 - ETA: 23:17 - loss: 0.5247 - accuracy: 0.754 - ETA: 23:17 - loss: 0.5239 - accuracy: 0.754 - ETA: 23:16 - loss: 0.5225 - accuracy: 0.755 - ETA: 23:14 - loss: 0.5214 - accuracy: 0.755 - ETA: 23:13 - loss: 0.5203 - accuracy: 0.756 - ETA: 23:12 - loss: 0.5188 - accuracy: 0.757 - ETA: 23:11 - loss: 0.5178 - accuracy: 0.757 - ETA: 23:10 - loss: 0.5167 - accuracy: 0.757 - ETA: 23:09 - loss: 0.5163 - accuracy: 0.758 - ETA: 23:08 - loss: 0.5154 - accuracy: 0.758 - ETA: 23:07 - loss: 0.5145 - accuracy: 0.759 - ETA: 23:06 - loss: 0.5137 - accuracy: 0.759 - ETA: 23:06 - loss: 0.5129 - accuracy: 0.759 - ETA: 23:08 - loss: 0.5122 - accuracy: 0.760 - ETA: 23:08 - loss: 0.5118 - accuracy: 0.760 - ETA: 23:10 - loss: 0.5112 - accuracy: 0.761 - ETA: 23:11 - loss: 0.5104 - accuracy: 0.761 - ETA: 23:11 - loss: 0.5100 - accuracy: 0.761 - ETA: 23:09 - loss: 0.5086 - accuracy: 0.762 - ETA: 23:07 - loss: 0.5078 - accuracy: 0.762 - ETA: 23:05 - loss: 0.5063 - accuracy: 0.763 - ETA: 23:03 - loss: 0.5055 - accuracy: 0.763 - ETA: 23:01 - loss: 0.5054 - accuracy: 0.763 - ETA: 22:59 - loss: 0.5049 - accuracy: 0.763 - ETA: 22:57 - loss: 0.5041 - accuracy: 0.764 - ETA: 22:55 - loss: 0.5036 - accuracy: 0.764 - ETA: 22:53 - loss: 0.5026 - accuracy: 0.765 - ETA: 22:55 - loss: 0.5016 - accuracy: 0.765 - ETA: 22:56 - loss: 0.5011 - accuracy: 0.765 - ETA: 22:56 - loss: 0.5020 - accuracy: 0.765 - ETA: 22:58 - loss: 0.5009 - accuracy: 0.766 - ETA: 23:00 - loss: 0.5008 - accuracy: 0.765 - ETA: 23:01 - loss: 0.5004 - accuracy: 0.765 - ETA: 23:03 - loss: 0.4996 - accuracy: 0.766 - ETA: 23:02 - loss: 0.4988 - accuracy: 0.766 - ETA: 23:01 - loss: 0.4986 - accuracy: 0.766 - ETA: 22:59 - loss: 0.4982 - accuracy: 0.767 - ETA: 22:58 - loss: 0.4979 - accuracy: 0.767 - ETA: 22:56 - loss: 0.4976 - accuracy: 0.767 - ETA: 22:54 - loss: 0.4965 - accuracy: 0.767 - ETA: 22:52 - loss: 0.4958 - accuracy: 0.768 - ETA: 22:50 - loss: 0.4954 - accuracy: 0.768 - ETA: 22:49 - loss: 0.4954 - accuracy: 0.768 - ETA: 22:47 - loss: 0.4946 - accuracy: 0.768 - ETA: 22:47 - loss: 0.4935 - accuracy: 0.769 - ETA: 22:47 - loss: 0.4934 - accuracy: 0.768 - ETA: 22:47 - loss: 0.4930 - accuracy: 0.769 - ETA: 22:48 - loss: 0.4920 - accuracy: 0.769 - ETA: 22:50 - loss: 0.4918 - accuracy: 0.769 - ETA: 22:50 - loss: 0.4909 - accuracy: 0.770 - ETA: 22:50 - loss: 0.4903 - accuracy: 0.770 - ETA: 22:49 - loss: 0.4900 - accuracy: 0.770 - ETA: 22:47 - loss: 0.4892 - accuracy: 0.771 - ETA: 22:45 - loss: 0.4882 - accuracy: 0.772 - ETA: 22:43 - loss: 0.4881 - accuracy: 0.772 - ETA: 22:41 - loss: 0.4869 - accuracy: 0.772 - ETA: 22:39 - loss: 0.4867 - accuracy: 0.773 - ETA: 22:38 - loss: 0.4864 - accuracy: 0.773 - ETA: 22:36 - loss: 0.4855 - accuracy: 0.773 - ETA: 22:34 - loss: 0.4862 - accuracy: 0.773 - ETA: 22:32 - loss: 0.4857 - accuracy: 0.773 - ETA: 22:31 - loss: 0.4856 - accuracy: 0.773 - ETA: 22:31 - loss: 0.4843 - accuracy: 0.774 - ETA: 22:31 - loss: 0.4840 - accuracy: 0.774 - ETA: 22:29 - loss: 0.4829 - accuracy: 0.775 - ETA: 22:29 - loss: 0.4824 - accuracy: 0.775 - ETA: 22:29 - loss: 0.4815 - accuracy: 0.776 - ETA: 22:28 - loss: 0.4814 - accuracy: 0.776 35400/112907 [========>.....................] - ETA: 22:28 - loss: 0.4811 - accuracy: 0.776 - ETA: 22:28 - loss: 0.4803 - accuracy: 0.776 - ETA: 22:29 - loss: 0.4796 - accuracy: 0.776 - ETA: 22:28 - loss: 0.4801 - accuracy: 0.776 - ETA: 22:27 - loss: 0.4788 - accuracy: 0.777 - ETA: 22:27 - loss: 0.4776 - accuracy: 0.778 - ETA: 22:26 - loss: 0.4773 - accuracy: 0.778 - ETA: 22:24 - loss: 0.4774 - accuracy: 0.777 - ETA: 22:24 - loss: 0.4769 - accuracy: 0.778 - ETA: 22:23 - loss: 0.4764 - accuracy: 0.778 - ETA: 22:22 - loss: 0.4755 - accuracy: 0.778 - ETA: 22:21 - loss: 0.4754 - accuracy: 0.779 - ETA: 22:23 - loss: 0.4750 - accuracy: 0.779 - ETA: 22:24 - loss: 0.4750 - accuracy: 0.779 - ETA: 22:25 - loss: 0.4746 - accuracy: 0.779 - ETA: 22:26 - loss: 0.4745 - accuracy: 0.779 - ETA: 22:26 - loss: 0.4744 - accuracy: 0.779 - ETA: 22:25 - loss: 0.4743 - accuracy: 0.779 - ETA: 22:23 - loss: 0.4738 - accuracy: 0.780 - ETA: 22:22 - loss: 0.4731 - accuracy: 0.780 - ETA: 22:21 - loss: 0.4724 - accuracy: 0.781 - ETA: 22:19 - loss: 0.4723 - accuracy: 0.781 - ETA: 22:18 - loss: 0.4719 - accuracy: 0.781 - ETA: 22:16 - loss: 0.4716 - accuracy: 0.780 - ETA: 22:15 - loss: 0.4711 - accuracy: 0.781 - ETA: 22:13 - loss: 0.4709 - accuracy: 0.781 - ETA: 22:12 - loss: 0.4708 - accuracy: 0.781 - ETA: 22:11 - loss: 0.4704 - accuracy: 0.781 - ETA: 22:10 - loss: 0.4700 - accuracy: 0.781 - ETA: 22:10 - loss: 0.4694 - accuracy: 0.781 - ETA: 22:11 - loss: 0.4693 - accuracy: 0.781 - ETA: 22:11 - loss: 0.4690 - accuracy: 0.781 - ETA: 22:11 - loss: 0.4687 - accuracy: 0.781 - ETA: 22:11 - loss: 0.4685 - accuracy: 0.781 - ETA: 22:12 - loss: 0.4683 - accuracy: 0.781 - ETA: 22:11 - loss: 0.4679 - accuracy: 0.782 - ETA: 22:09 - loss: 0.4676 - accuracy: 0.782 - ETA: 22:07 - loss: 0.4673 - accuracy: 0.782 - ETA: 22:05 - loss: 0.4668 - accuracy: 0.782 - ETA: 22:04 - loss: 0.4663 - accuracy: 0.783 - ETA: 22:02 - loss: 0.4661 - accuracy: 0.783 - ETA: 22:01 - loss: 0.4651 - accuracy: 0.783 - ETA: 22:01 - loss: 0.4645 - accuracy: 0.784 - ETA: 22:00 - loss: 0.4640 - accuracy: 0.784 - ETA: 21:59 - loss: 0.4640 - accuracy: 0.784 - ETA: 21:59 - loss: 0.4644 - accuracy: 0.784 - ETA: 21:58 - loss: 0.4640 - accuracy: 0.784 - ETA: 21:57 - loss: 0.4633 - accuracy: 0.784 - ETA: 21:54 - loss: 0.4629 - accuracy: 0.785 - ETA: 21:52 - loss: 0.4624 - accuracy: 0.785 - ETA: 21:50 - loss: 0.4621 - accuracy: 0.785 - ETA: 21:48 - loss: 0.4622 - accuracy: 0.785 - ETA: 21:46 - loss: 0.4620 - accuracy: 0.785 - ETA: 21:45 - loss: 0.4622 - accuracy: 0.785 - ETA: 21:43 - loss: 0.4617 - accuracy: 0.785 - ETA: 21:42 - loss: 0.4616 - accuracy: 0.785 - ETA: 21:40 - loss: 0.4614 - accuracy: 0.785 - ETA: 21:39 - loss: 0.4614 - accuracy: 0.785 - ETA: 21:37 - loss: 0.4613 - accuracy: 0.785 - ETA: 21:35 - loss: 0.4612 - accuracy: 0.785 - ETA: 21:33 - loss: 0.4608 - accuracy: 0.786 - ETA: 21:32 - loss: 0.4603 - accuracy: 0.786 - ETA: 21:31 - loss: 0.4600 - accuracy: 0.786 - ETA: 21:29 - loss: 0.4600 - accuracy: 0.786 - ETA: 21:27 - loss: 0.4597 - accuracy: 0.786 - ETA: 21:25 - loss: 0.4597 - accuracy: 0.786 - ETA: 21:24 - loss: 0.4594 - accuracy: 0.786 - ETA: 21:23 - loss: 0.4591 - accuracy: 0.786 - ETA: 21:21 - loss: 0.4586 - accuracy: 0.786 - ETA: 21:19 - loss: 0.4586 - accuracy: 0.786 - ETA: 21:17 - loss: 0.4588 - accuracy: 0.786 - ETA: 21:16 - loss: 0.4586 - accuracy: 0.786 - ETA: 21:14 - loss: 0.4584 - accuracy: 0.786 - ETA: 21:13 - loss: 0.4584 - accuracy: 0.787 - ETA: 21:13 - loss: 0.4577 - accuracy: 0.787 - ETA: 21:12 - loss: 0.4575 - accuracy: 0.787 - ETA: 21:15 - loss: 0.4574 - accuracy: 0.787 - ETA: 21:15 - loss: 0.4568 - accuracy: 0.787 - ETA: 21:15 - loss: 0.4564 - accuracy: 0.787 - ETA: 21:13 - loss: 0.4562 - accuracy: 0.787 - ETA: 21:12 - loss: 0.4559 - accuracy: 0.788 - ETA: 21:10 - loss: 0.4557 - accuracy: 0.788 - ETA: 21:09 - loss: 0.4554 - accuracy: 0.788 - ETA: 21:08 - loss: 0.4556 - accuracy: 0.788 - ETA: 21:06 - loss: 0.4554 - accuracy: 0.788 - ETA: 21:05 - loss: 0.4554 - accuracy: 0.788 - ETA: 21:03 - loss: 0.4552 - accuracy: 0.788 - ETA: 21:01 - loss: 0.4549 - accuracy: 0.788 - ETA: 21:01 - loss: 0.4544 - accuracy: 0.789 - ETA: 20:59 - loss: 0.4543 - accuracy: 0.789 - ETA: 20:57 - loss: 0.4541 - accuracy: 0.789 - ETA: 20:56 - loss: 0.4537 - accuracy: 0.789 - ETA: 20:55 - loss: 0.4535 - accuracy: 0.789 - ETA: 20:54 - loss: 0.4533 - accuracy: 0.789 - ETA: 20:53 - loss: 0.4529 - accuracy: 0.789 - ETA: 20:51 - loss: 0.4526 - accuracy: 0.789 - ETA: 20:49 - loss: 0.4522 - accuracy: 0.790 - ETA: 20:47 - loss: 0.4517 - accuracy: 0.790 - ETA: 20:45 - loss: 0.4514 - accuracy: 0.790 - ETA: 20:43 - loss: 0.4509 - accuracy: 0.790 - ETA: 20:42 - loss: 0.4506 - accuracy: 0.790 - ETA: 20:41 - loss: 0.4501 - accuracy: 0.791 - ETA: 20:40 - loss: 0.4499 - accuracy: 0.791 - ETA: 20:38 - loss: 0.4496 - accuracy: 0.791 - ETA: 20:36 - loss: 0.4496 - accuracy: 0.791 - ETA: 20:36 - loss: 0.4492 - accuracy: 0.791 - ETA: 20:35 - loss: 0.4489 - accuracy: 0.791 - ETA: 20:33 - loss: 0.4485 - accuracy: 0.792 - ETA: 20:32 - loss: 0.4485 - accuracy: 0.792 - ETA: 20:30 - loss: 0.4484 - accuracy: 0.792 - ETA: 20:28 - loss: 0.4482 - accuracy: 0.792 - ETA: 20:26 - loss: 0.4479 - accuracy: 0.792 - ETA: 20:24 - loss: 0.4474 - accuracy: 0.792 - ETA: 20:22 - loss: 0.4475 - accuracy: 0.792 - ETA: 20:20 - loss: 0.4475 - accuracy: 0.792 - ETA: 20:18 - loss: 0.4474 - accuracy: 0.792 - ETA: 20:17 - loss: 0.4472 - accuracy: 0.792 - ETA: 20:15 - loss: 0.4470 - accuracy: 0.793 - ETA: 20:13 - loss: 0.4466 - accuracy: 0.793 - ETA: 20:12 - loss: 0.4466 - accuracy: 0.793 - ETA: 20:10 - loss: 0.4464 - accuracy: 0.793 - ETA: 20:08 - loss: 0.4463 - accuracy: 0.793 - ETA: 20:06 - loss: 0.4459 - accuracy: 0.793 - ETA: 20:04 - loss: 0.4456 - accuracy: 0.793 - ETA: 20:02 - loss: 0.4451 - accuracy: 0.794 - ETA: 20:00 - loss: 0.4450 - accuracy: 0.794 - ETA: 19:58 - loss: 0.4446 - accuracy: 0.794 - ETA: 19:57 - loss: 0.4447 - accuracy: 0.794 - ETA: 19:55 - loss: 0.4448 - accuracy: 0.794 - ETA: 19:53 - loss: 0.4447 - accuracy: 0.794 - ETA: 19:52 - loss: 0.4442 - accuracy: 0.794 - ETA: 19:52 - loss: 0.4439 - accuracy: 0.795 - ETA: 19:50 - loss: 0.4436 - accuracy: 0.795 - ETA: 19:49 - loss: 0.4433 - accuracy: 0.795 - ETA: 19:47 - loss: 0.4430 - accuracy: 0.795 - ETA: 19:47 - loss: 0.4427 - accuracy: 0.795 - ETA: 19:45 - loss: 0.4427 - accuracy: 0.795 - ETA: 19:44 - loss: 0.4428 - accuracy: 0.795 - ETA: 19:42 - loss: 0.4422 - accuracy: 0.796 - ETA: 19:41 - loss: 0.4421 - accuracy: 0.796 - ETA: 19:40 - loss: 0.4417 - accuracy: 0.796 - ETA: 19:39 - loss: 0.4414 - accuracy: 0.796 - ETA: 19:39 - loss: 0.4411 - accuracy: 0.796 - ETA: 19:37 - loss: 0.4409 - accuracy: 0.796 - ETA: 19:36 - loss: 0.4407 - accuracy: 0.796 - ETA: 19:35 - loss: 0.4404 - accuracy: 0.797 - ETA: 19:33 - loss: 0.4402 - accuracy: 0.797 - ETA: 19:31 - loss: 0.4404 - accuracy: 0.797 - ETA: 19:29 - loss: 0.4402 - accuracy: 0.797 - ETA: 19:28 - loss: 0.4401 - accuracy: 0.797 - ETA: 19:27 - loss: 0.4400 - accuracy: 0.797 - ETA: 19:26 - loss: 0.4398 - accuracy: 0.797 - ETA: 19:25 - loss: 0.4397 - accuracy: 0.797 - ETA: 19:23 - loss: 0.4397 - accuracy: 0.797 - ETA: 19:21 - loss: 0.4394 - accuracy: 0.797 - ETA: 19:20 - loss: 0.4392 - accuracy: 0.797 - ETA: 19:18 - loss: 0.4390 - accuracy: 0.797 - ETA: 19:16 - loss: 0.4389 - accuracy: 0.798 - ETA: 19:14 - loss: 0.4388 - accuracy: 0.798 - ETA: 19:13 - loss: 0.4387 - accuracy: 0.798 - ETA: 19:11 - loss: 0.4384 - accuracy: 0.798 - ETA: 19:10 - loss: 0.4384 - accuracy: 0.798 - ETA: 19:09 - loss: 0.4385 - accuracy: 0.798 - ETA: 19:07 - loss: 0.4383 - accuracy: 0.798 - ETA: 19:06 - loss: 0.4382 - accuracy: 0.798 - ETA: 19:04 - loss: 0.4383 - accuracy: 0.798 - ETA: 19:03 - loss: 0.4380 - accuracy: 0.798 - ETA: 19:01 - loss: 0.4379 - accuracy: 0.798 - ETA: 19:00 - loss: 0.4377 - accuracy: 0.798 - ETA: 18:58 - loss: 0.4378 - accuracy: 0.798 - ETA: 18:57 - loss: 0.4374 - accuracy: 0.798 - ETA: 18:55 - loss: 0.4374 - accuracy: 0.798 - ETA: 18:53 - loss: 0.4372 - accuracy: 0.798 - ETA: 18:51 - loss: 0.4369 - accuracy: 0.798 - ETA: 18:50 - loss: 0.4371 - accuracy: 0.798 - ETA: 18:48 - loss: 0.4369 - accuracy: 0.799 - ETA: 18:47 - loss: 0.4366 - accuracy: 0.799 - ETA: 18:45 - loss: 0.4365 - accuracy: 0.7993"
     ]
    },
    {
     "name": "stdout",
     "output_type": "stream",
     "text": [
      " 53200/112907 [=============>................] - ETA: 18:44 - loss: 0.4364 - accuracy: 0.799 - ETA: 18:42 - loss: 0.4360 - accuracy: 0.799 - ETA: 18:41 - loss: 0.4360 - accuracy: 0.799 - ETA: 18:39 - loss: 0.4355 - accuracy: 0.800 - ETA: 18:38 - loss: 0.4353 - accuracy: 0.800 - ETA: 18:37 - loss: 0.4350 - accuracy: 0.800 - ETA: 18:35 - loss: 0.4348 - accuracy: 0.800 - ETA: 18:34 - loss: 0.4348 - accuracy: 0.800 - ETA: 18:32 - loss: 0.4349 - accuracy: 0.800 - ETA: 18:31 - loss: 0.4351 - accuracy: 0.800 - ETA: 18:30 - loss: 0.4349 - accuracy: 0.800 - ETA: 18:29 - loss: 0.4347 - accuracy: 0.800 - ETA: 18:28 - loss: 0.4345 - accuracy: 0.800 - ETA: 18:27 - loss: 0.4345 - accuracy: 0.800 - ETA: 18:26 - loss: 0.4343 - accuracy: 0.800 - ETA: 18:26 - loss: 0.4340 - accuracy: 0.800 - ETA: 18:27 - loss: 0.4337 - accuracy: 0.801 - ETA: 18:27 - loss: 0.4334 - accuracy: 0.801 - ETA: 18:27 - loss: 0.4334 - accuracy: 0.801 - ETA: 18:26 - loss: 0.4331 - accuracy: 0.801 - ETA: 18:25 - loss: 0.4331 - accuracy: 0.801 - ETA: 18:23 - loss: 0.4331 - accuracy: 0.801 - ETA: 18:21 - loss: 0.4329 - accuracy: 0.801 - ETA: 18:20 - loss: 0.4326 - accuracy: 0.801 - ETA: 18:18 - loss: 0.4321 - accuracy: 0.801 - ETA: 18:16 - loss: 0.4321 - accuracy: 0.801 - ETA: 18:15 - loss: 0.4321 - accuracy: 0.801 - ETA: 18:14 - loss: 0.4317 - accuracy: 0.802 - ETA: 18:13 - loss: 0.4318 - accuracy: 0.801 - ETA: 18:11 - loss: 0.4317 - accuracy: 0.802 - ETA: 18:09 - loss: 0.4314 - accuracy: 0.802 - ETA: 18:08 - loss: 0.4312 - accuracy: 0.802 - ETA: 18:06 - loss: 0.4310 - accuracy: 0.802 - ETA: 18:04 - loss: 0.4308 - accuracy: 0.802 - ETA: 18:02 - loss: 0.4305 - accuracy: 0.802 - ETA: 18:01 - loss: 0.4303 - accuracy: 0.802 - ETA: 17:59 - loss: 0.4301 - accuracy: 0.802 - ETA: 17:58 - loss: 0.4297 - accuracy: 0.803 - ETA: 17:56 - loss: 0.4297 - accuracy: 0.802 - ETA: 17:55 - loss: 0.4293 - accuracy: 0.803 - ETA: 17:54 - loss: 0.4290 - accuracy: 0.803 - ETA: 17:52 - loss: 0.4287 - accuracy: 0.803 - ETA: 17:50 - loss: 0.4286 - accuracy: 0.803 - ETA: 17:49 - loss: 0.4286 - accuracy: 0.803 - ETA: 17:48 - loss: 0.4286 - accuracy: 0.803 - ETA: 17:47 - loss: 0.4283 - accuracy: 0.803 - ETA: 17:45 - loss: 0.4281 - accuracy: 0.803 - ETA: 17:44 - loss: 0.4279 - accuracy: 0.804 - ETA: 17:42 - loss: 0.4280 - accuracy: 0.803 - ETA: 17:40 - loss: 0.4280 - accuracy: 0.803 - ETA: 17:39 - loss: 0.4278 - accuracy: 0.804 - ETA: 17:37 - loss: 0.4277 - accuracy: 0.804 - ETA: 17:36 - loss: 0.4275 - accuracy: 0.804 - ETA: 17:35 - loss: 0.4273 - accuracy: 0.804 - ETA: 17:33 - loss: 0.4270 - accuracy: 0.804 - ETA: 17:32 - loss: 0.4268 - accuracy: 0.804 - ETA: 17:30 - loss: 0.4264 - accuracy: 0.804 - ETA: 17:28 - loss: 0.4262 - accuracy: 0.804 - ETA: 17:27 - loss: 0.4263 - accuracy: 0.804 - ETA: 17:26 - loss: 0.4260 - accuracy: 0.804 - ETA: 17:24 - loss: 0.4259 - accuracy: 0.804 - ETA: 17:23 - loss: 0.4255 - accuracy: 0.805 - ETA: 17:21 - loss: 0.4254 - accuracy: 0.805 - ETA: 17:20 - loss: 0.4253 - accuracy: 0.805 - ETA: 17:18 - loss: 0.4250 - accuracy: 0.805 - ETA: 17:17 - loss: 0.4247 - accuracy: 0.805 - ETA: 17:15 - loss: 0.4246 - accuracy: 0.805 - ETA: 17:14 - loss: 0.4246 - accuracy: 0.805 - ETA: 17:12 - loss: 0.4244 - accuracy: 0.805 - ETA: 17:11 - loss: 0.4244 - accuracy: 0.805 - ETA: 17:09 - loss: 0.4243 - accuracy: 0.805 - ETA: 17:07 - loss: 0.4242 - accuracy: 0.805 - ETA: 17:06 - loss: 0.4240 - accuracy: 0.805 - ETA: 17:05 - loss: 0.4238 - accuracy: 0.806 - ETA: 17:03 - loss: 0.4239 - accuracy: 0.805 - ETA: 17:01 - loss: 0.4237 - accuracy: 0.806 - ETA: 17:00 - loss: 0.4235 - accuracy: 0.806 - ETA: 16:58 - loss: 0.4233 - accuracy: 0.806 - ETA: 16:56 - loss: 0.4235 - accuracy: 0.806 - ETA: 16:55 - loss: 0.4231 - accuracy: 0.806 - ETA: 16:54 - loss: 0.4232 - accuracy: 0.806 - ETA: 16:53 - loss: 0.4233 - accuracy: 0.806 - ETA: 16:51 - loss: 0.4231 - accuracy: 0.806 - ETA: 16:50 - loss: 0.4231 - accuracy: 0.806 - ETA: 16:48 - loss: 0.4228 - accuracy: 0.806 - ETA: 16:46 - loss: 0.4227 - accuracy: 0.806 - ETA: 16:45 - loss: 0.4226 - accuracy: 0.806 - ETA: 16:43 - loss: 0.4224 - accuracy: 0.806 - ETA: 16:41 - loss: 0.4223 - accuracy: 0.806 - ETA: 16:39 - loss: 0.4224 - accuracy: 0.806 - ETA: 16:38 - loss: 0.4222 - accuracy: 0.806 - ETA: 16:36 - loss: 0.4221 - accuracy: 0.807 - ETA: 16:34 - loss: 0.4219 - accuracy: 0.807 - ETA: 16:33 - loss: 0.4219 - accuracy: 0.807 - ETA: 16:32 - loss: 0.4219 - accuracy: 0.807 - ETA: 16:30 - loss: 0.4218 - accuracy: 0.807 - ETA: 16:29 - loss: 0.4217 - accuracy: 0.807 - ETA: 16:27 - loss: 0.4215 - accuracy: 0.807 - ETA: 16:25 - loss: 0.4214 - accuracy: 0.807 - ETA: 16:24 - loss: 0.4212 - accuracy: 0.807 - ETA: 16:22 - loss: 0.4212 - accuracy: 0.807 - ETA: 16:21 - loss: 0.4212 - accuracy: 0.807 - ETA: 16:19 - loss: 0.4212 - accuracy: 0.807 - ETA: 16:18 - loss: 0.4209 - accuracy: 0.807 - ETA: 16:16 - loss: 0.4207 - accuracy: 0.807 - ETA: 16:15 - loss: 0.4207 - accuracy: 0.807 - ETA: 16:13 - loss: 0.4205 - accuracy: 0.807 - ETA: 16:12 - loss: 0.4205 - accuracy: 0.807 - ETA: 16:10 - loss: 0.4203 - accuracy: 0.808 - ETA: 16:09 - loss: 0.4203 - accuracy: 0.808 - ETA: 16:08 - loss: 0.4201 - accuracy: 0.808 - ETA: 16:06 - loss: 0.4200 - accuracy: 0.808 - ETA: 16:05 - loss: 0.4199 - accuracy: 0.808 - ETA: 16:03 - loss: 0.4198 - accuracy: 0.808 - ETA: 16:02 - loss: 0.4198 - accuracy: 0.808 - ETA: 16:00 - loss: 0.4196 - accuracy: 0.808 - ETA: 15:59 - loss: 0.4195 - accuracy: 0.808 - ETA: 15:57 - loss: 0.4194 - accuracy: 0.808 - ETA: 15:56 - loss: 0.4191 - accuracy: 0.808 - ETA: 15:54 - loss: 0.4190 - accuracy: 0.809 - ETA: 15:53 - loss: 0.4191 - accuracy: 0.809 - ETA: 15:52 - loss: 0.4190 - accuracy: 0.809 - ETA: 15:51 - loss: 0.4188 - accuracy: 0.809 - ETA: 15:50 - loss: 0.4189 - accuracy: 0.809 - ETA: 15:49 - loss: 0.4189 - accuracy: 0.809 - ETA: 15:48 - loss: 0.4188 - accuracy: 0.809 - ETA: 15:46 - loss: 0.4186 - accuracy: 0.809 - ETA: 15:45 - loss: 0.4184 - accuracy: 0.809 - ETA: 15:43 - loss: 0.4183 - accuracy: 0.809 - ETA: 15:42 - loss: 0.4183 - accuracy: 0.809 - ETA: 15:40 - loss: 0.4183 - accuracy: 0.809 - ETA: 15:39 - loss: 0.4181 - accuracy: 0.809 - ETA: 15:37 - loss: 0.4179 - accuracy: 0.809 - ETA: 15:36 - loss: 0.4178 - accuracy: 0.809 - ETA: 15:34 - loss: 0.4177 - accuracy: 0.809 - ETA: 15:32 - loss: 0.4176 - accuracy: 0.809 - ETA: 15:31 - loss: 0.4174 - accuracy: 0.810 - ETA: 15:29 - loss: 0.4173 - accuracy: 0.810 - ETA: 15:28 - loss: 0.4172 - accuracy: 0.810 - ETA: 15:27 - loss: 0.4172 - accuracy: 0.810 - ETA: 15:26 - loss: 0.4173 - accuracy: 0.810 - ETA: 15:24 - loss: 0.4171 - accuracy: 0.810 - ETA: 15:23 - loss: 0.4170 - accuracy: 0.810 - ETA: 15:21 - loss: 0.4168 - accuracy: 0.810 - ETA: 15:20 - loss: 0.4168 - accuracy: 0.810 - ETA: 15:18 - loss: 0.4165 - accuracy: 0.810 - ETA: 15:17 - loss: 0.4166 - accuracy: 0.810 - ETA: 15:16 - loss: 0.4163 - accuracy: 0.810 - ETA: 15:15 - loss: 0.4162 - accuracy: 0.810 - ETA: 15:14 - loss: 0.4162 - accuracy: 0.810 - ETA: 15:12 - loss: 0.4160 - accuracy: 0.810 - ETA: 15:11 - loss: 0.4160 - accuracy: 0.810 - ETA: 15:09 - loss: 0.4157 - accuracy: 0.810 - ETA: 15:08 - loss: 0.4154 - accuracy: 0.811 - ETA: 15:06 - loss: 0.4153 - accuracy: 0.811 - ETA: 15:05 - loss: 0.4151 - accuracy: 0.811 - ETA: 15:04 - loss: 0.4150 - accuracy: 0.811 - ETA: 15:03 - loss: 0.4149 - accuracy: 0.811 - ETA: 15:01 - loss: 0.4147 - accuracy: 0.811 - ETA: 14:59 - loss: 0.4143 - accuracy: 0.811 - ETA: 14:58 - loss: 0.4140 - accuracy: 0.811 - ETA: 14:56 - loss: 0.4138 - accuracy: 0.812 - ETA: 14:55 - loss: 0.4137 - accuracy: 0.812 - ETA: 14:53 - loss: 0.4135 - accuracy: 0.812 - ETA: 14:52 - loss: 0.4136 - accuracy: 0.812 - ETA: 14:51 - loss: 0.4136 - accuracy: 0.812 - ETA: 14:50 - loss: 0.4133 - accuracy: 0.812 - ETA: 14:50 - loss: 0.4132 - accuracy: 0.812 - ETA: 14:49 - loss: 0.4132 - accuracy: 0.812 - ETA: 14:48 - loss: 0.4132 - accuracy: 0.812 - ETA: 14:46 - loss: 0.4131 - accuracy: 0.812 - ETA: 14:45 - loss: 0.4130 - accuracy: 0.812 - ETA: 14:43 - loss: 0.4129 - accuracy: 0.812 - ETA: 14:42 - loss: 0.4128 - accuracy: 0.812 - ETA: 14:41 - loss: 0.4127 - accuracy: 0.812 - ETA: 14:40 - loss: 0.4127 - accuracy: 0.812 - ETA: 14:38 - loss: 0.4127 - accuracy: 0.812 - ETA: 14:37 - loss: 0.4124 - accuracy: 0.8127"
     ]
    },
    {
     "name": "stdout",
     "output_type": "stream",
     "text": [
      " 71000/112907 [=================>............] - ETA: 14:35 - loss: 0.4123 - accuracy: 0.812 - ETA: 14:34 - loss: 0.4121 - accuracy: 0.812 - ETA: 14:32 - loss: 0.4119 - accuracy: 0.812 - ETA: 14:31 - loss: 0.4117 - accuracy: 0.813 - ETA: 14:30 - loss: 0.4118 - accuracy: 0.813 - ETA: 14:29 - loss: 0.4117 - accuracy: 0.813 - ETA: 14:28 - loss: 0.4114 - accuracy: 0.813 - ETA: 14:26 - loss: 0.4114 - accuracy: 0.813 - ETA: 14:25 - loss: 0.4114 - accuracy: 0.813 - ETA: 14:23 - loss: 0.4112 - accuracy: 0.813 - ETA: 14:22 - loss: 0.4112 - accuracy: 0.813 - ETA: 14:20 - loss: 0.4110 - accuracy: 0.813 - ETA: 14:19 - loss: 0.4108 - accuracy: 0.813 - ETA: 14:18 - loss: 0.4107 - accuracy: 0.813 - ETA: 14:17 - loss: 0.4105 - accuracy: 0.813 - ETA: 14:15 - loss: 0.4103 - accuracy: 0.813 - ETA: 14:14 - loss: 0.4104 - accuracy: 0.813 - ETA: 14:13 - loss: 0.4101 - accuracy: 0.813 - ETA: 14:11 - loss: 0.4102 - accuracy: 0.813 - ETA: 14:10 - loss: 0.4099 - accuracy: 0.814 - ETA: 14:08 - loss: 0.4099 - accuracy: 0.814 - ETA: 14:07 - loss: 0.4097 - accuracy: 0.814 - ETA: 14:05 - loss: 0.4094 - accuracy: 0.814 - ETA: 14:04 - loss: 0.4093 - accuracy: 0.814 - ETA: 14:03 - loss: 0.4092 - accuracy: 0.814 - ETA: 14:01 - loss: 0.4093 - accuracy: 0.814 - ETA: 13:59 - loss: 0.4094 - accuracy: 0.814 - ETA: 13:58 - loss: 0.4093 - accuracy: 0.814 - ETA: 13:57 - loss: 0.4092 - accuracy: 0.814 - ETA: 13:55 - loss: 0.4090 - accuracy: 0.814 - ETA: 13:54 - loss: 0.4089 - accuracy: 0.814 - ETA: 13:52 - loss: 0.4088 - accuracy: 0.814 - ETA: 13:51 - loss: 0.4086 - accuracy: 0.814 - ETA: 13:50 - loss: 0.4085 - accuracy: 0.815 - ETA: 13:48 - loss: 0.4084 - accuracy: 0.815 - ETA: 13:47 - loss: 0.4084 - accuracy: 0.815 - ETA: 13:45 - loss: 0.4081 - accuracy: 0.815 - ETA: 13:44 - loss: 0.4080 - accuracy: 0.815 - ETA: 13:42 - loss: 0.4079 - accuracy: 0.815 - ETA: 13:41 - loss: 0.4078 - accuracy: 0.815 - ETA: 13:39 - loss: 0.4077 - accuracy: 0.815 - ETA: 13:37 - loss: 0.4077 - accuracy: 0.815 - ETA: 13:36 - loss: 0.4075 - accuracy: 0.815 - ETA: 13:35 - loss: 0.4073 - accuracy: 0.815 - ETA: 13:33 - loss: 0.4072 - accuracy: 0.815 - ETA: 13:32 - loss: 0.4073 - accuracy: 0.815 - ETA: 13:30 - loss: 0.4074 - accuracy: 0.815 - ETA: 13:29 - loss: 0.4072 - accuracy: 0.815 - ETA: 13:27 - loss: 0.4072 - accuracy: 0.815 - ETA: 13:26 - loss: 0.4071 - accuracy: 0.815 - ETA: 13:24 - loss: 0.4069 - accuracy: 0.815 - ETA: 13:23 - loss: 0.4069 - accuracy: 0.815 - ETA: 13:21 - loss: 0.4068 - accuracy: 0.815 - ETA: 13:20 - loss: 0.4067 - accuracy: 0.815 - ETA: 13:19 - loss: 0.4066 - accuracy: 0.816 - ETA: 13:17 - loss: 0.4064 - accuracy: 0.816 - ETA: 13:16 - loss: 0.4063 - accuracy: 0.816 - ETA: 13:14 - loss: 0.4062 - accuracy: 0.816 - ETA: 13:13 - loss: 0.4064 - accuracy: 0.816 - ETA: 13:11 - loss: 0.4063 - accuracy: 0.816 - ETA: 13:10 - loss: 0.4060 - accuracy: 0.816 - ETA: 13:09 - loss: 0.4059 - accuracy: 0.816 - ETA: 13:07 - loss: 0.4058 - accuracy: 0.816 - ETA: 13:06 - loss: 0.4057 - accuracy: 0.816 - ETA: 13:05 - loss: 0.4056 - accuracy: 0.816 - ETA: 13:03 - loss: 0.4055 - accuracy: 0.816 - ETA: 13:02 - loss: 0.4055 - accuracy: 0.816 - ETA: 13:00 - loss: 0.4054 - accuracy: 0.816 - ETA: 12:59 - loss: 0.4054 - accuracy: 0.816 - ETA: 12:57 - loss: 0.4054 - accuracy: 0.816 - ETA: 12:56 - loss: 0.4052 - accuracy: 0.816 - ETA: 12:55 - loss: 0.4052 - accuracy: 0.816 - ETA: 12:53 - loss: 0.4051 - accuracy: 0.816 - ETA: 12:52 - loss: 0.4048 - accuracy: 0.816 - ETA: 12:51 - loss: 0.4046 - accuracy: 0.816 - ETA: 12:49 - loss: 0.4045 - accuracy: 0.816 - ETA: 12:48 - loss: 0.4043 - accuracy: 0.816 - ETA: 12:46 - loss: 0.4041 - accuracy: 0.817 - ETA: 12:45 - loss: 0.4040 - accuracy: 0.817 - ETA: 12:43 - loss: 0.4039 - accuracy: 0.817 - ETA: 12:41 - loss: 0.4039 - accuracy: 0.817 - ETA: 12:40 - loss: 0.4037 - accuracy: 0.817 - ETA: 12:38 - loss: 0.4037 - accuracy: 0.817 - ETA: 12:37 - loss: 0.4036 - accuracy: 0.817 - ETA: 12:35 - loss: 0.4036 - accuracy: 0.817 - ETA: 12:34 - loss: 0.4035 - accuracy: 0.817 - ETA: 12:32 - loss: 0.4035 - accuracy: 0.817 - ETA: 12:30 - loss: 0.4034 - accuracy: 0.817 - ETA: 12:29 - loss: 0.4034 - accuracy: 0.817 - ETA: 12:27 - loss: 0.4032 - accuracy: 0.817 - ETA: 12:26 - loss: 0.4031 - accuracy: 0.817 - ETA: 12:24 - loss: 0.4030 - accuracy: 0.817 - ETA: 12:23 - loss: 0.4029 - accuracy: 0.817 - ETA: 12:21 - loss: 0.4029 - accuracy: 0.817 - ETA: 12:20 - loss: 0.4028 - accuracy: 0.817 - ETA: 12:18 - loss: 0.4027 - accuracy: 0.817 - ETA: 12:17 - loss: 0.4026 - accuracy: 0.817 - ETA: 12:15 - loss: 0.4026 - accuracy: 0.818 - ETA: 12:14 - loss: 0.4026 - accuracy: 0.818 - ETA: 12:12 - loss: 0.4026 - accuracy: 0.818 - ETA: 12:11 - loss: 0.4024 - accuracy: 0.818 - ETA: 12:09 - loss: 0.4024 - accuracy: 0.818 - ETA: 12:08 - loss: 0.4023 - accuracy: 0.818 - ETA: 12:07 - loss: 0.4023 - accuracy: 0.818 - ETA: 12:05 - loss: 0.4024 - accuracy: 0.818 - ETA: 12:04 - loss: 0.4022 - accuracy: 0.818 - ETA: 12:02 - loss: 0.4022 - accuracy: 0.818 - ETA: 12:00 - loss: 0.4021 - accuracy: 0.818 - ETA: 11:59 - loss: 0.4019 - accuracy: 0.818 - ETA: 11:57 - loss: 0.4018 - accuracy: 0.818 - ETA: 11:56 - loss: 0.4017 - accuracy: 0.818 - ETA: 11:54 - loss: 0.4017 - accuracy: 0.818 - ETA: 11:52 - loss: 0.4015 - accuracy: 0.818 - ETA: 11:51 - loss: 0.4015 - accuracy: 0.818 - ETA: 11:49 - loss: 0.4013 - accuracy: 0.818 - ETA: 11:48 - loss: 0.4012 - accuracy: 0.818 - ETA: 11:46 - loss: 0.4012 - accuracy: 0.818 - ETA: 11:45 - loss: 0.4011 - accuracy: 0.818 - ETA: 11:43 - loss: 0.4011 - accuracy: 0.818 - ETA: 11:42 - loss: 0.4011 - accuracy: 0.818 - ETA: 11:40 - loss: 0.4010 - accuracy: 0.818 - ETA: 11:38 - loss: 0.4009 - accuracy: 0.818 - ETA: 11:37 - loss: 0.4009 - accuracy: 0.818 - ETA: 11:35 - loss: 0.4009 - accuracy: 0.818 - ETA: 11:34 - loss: 0.4009 - accuracy: 0.818 - ETA: 11:32 - loss: 0.4009 - accuracy: 0.818 - ETA: 11:30 - loss: 0.4008 - accuracy: 0.818 - ETA: 11:29 - loss: 0.4009 - accuracy: 0.818 - ETA: 11:27 - loss: 0.4007 - accuracy: 0.818 - ETA: 11:26 - loss: 0.4006 - accuracy: 0.819 - ETA: 11:24 - loss: 0.4005 - accuracy: 0.819 - ETA: 11:23 - loss: 0.4005 - accuracy: 0.819 - ETA: 11:21 - loss: 0.4005 - accuracy: 0.819 - ETA: 11:20 - loss: 0.4003 - accuracy: 0.819 - ETA: 11:18 - loss: 0.4002 - accuracy: 0.819 - ETA: 11:17 - loss: 0.4001 - accuracy: 0.819 - ETA: 11:15 - loss: 0.4000 - accuracy: 0.819 - ETA: 11:14 - loss: 0.3999 - accuracy: 0.819 - ETA: 11:12 - loss: 0.4000 - accuracy: 0.819 - ETA: 11:11 - loss: 0.3999 - accuracy: 0.819 - ETA: 11:09 - loss: 0.3997 - accuracy: 0.819 - ETA: 11:07 - loss: 0.3995 - accuracy: 0.819 - ETA: 11:06 - loss: 0.3993 - accuracy: 0.819 - ETA: 11:04 - loss: 0.3992 - accuracy: 0.819 - ETA: 11:03 - loss: 0.3991 - accuracy: 0.819 - ETA: 11:01 - loss: 0.3990 - accuracy: 0.820 - ETA: 11:00 - loss: 0.3989 - accuracy: 0.820 - ETA: 10:58 - loss: 0.3989 - accuracy: 0.820 - ETA: 10:57 - loss: 0.3988 - accuracy: 0.820 - ETA: 10:56 - loss: 0.3988 - accuracy: 0.820 - ETA: 10:54 - loss: 0.3989 - accuracy: 0.820 - ETA: 10:53 - loss: 0.3987 - accuracy: 0.820 - ETA: 10:52 - loss: 0.3988 - accuracy: 0.820 - ETA: 10:51 - loss: 0.3989 - accuracy: 0.820 - ETA: 10:49 - loss: 0.3988 - accuracy: 0.820 - ETA: 10:48 - loss: 0.3988 - accuracy: 0.820 - ETA: 10:47 - loss: 0.3987 - accuracy: 0.820 - ETA: 10:45 - loss: 0.3986 - accuracy: 0.820 - ETA: 10:44 - loss: 0.3985 - accuracy: 0.820 - ETA: 10:42 - loss: 0.3983 - accuracy: 0.820 - ETA: 10:41 - loss: 0.3981 - accuracy: 0.820 - ETA: 10:39 - loss: 0.3981 - accuracy: 0.820 - ETA: 10:38 - loss: 0.3979 - accuracy: 0.820 - ETA: 10:36 - loss: 0.3979 - accuracy: 0.820 - ETA: 10:35 - loss: 0.3977 - accuracy: 0.820 - ETA: 10:33 - loss: 0.3975 - accuracy: 0.820 - ETA: 10:32 - loss: 0.3975 - accuracy: 0.821 - ETA: 10:30 - loss: 0.3974 - accuracy: 0.821 - ETA: 10:29 - loss: 0.3974 - accuracy: 0.821 - ETA: 10:27 - loss: 0.3972 - accuracy: 0.821 - ETA: 10:26 - loss: 0.3971 - accuracy: 0.821 - ETA: 10:24 - loss: 0.3970 - accuracy: 0.821 - ETA: 10:23 - loss: 0.3968 - accuracy: 0.821 - ETA: 10:21 - loss: 0.3967 - accuracy: 0.821 - ETA: 10:20 - loss: 0.3967 - accuracy: 0.821 - ETA: 10:18 - loss: 0.3965 - accuracy: 0.821 - ETA: 10:17 - loss: 0.3964 - accuracy: 0.821 - ETA: 10:15 - loss: 0.3963 - accuracy: 0.8216"
     ]
    },
    {
     "name": "stdout",
     "output_type": "stream",
     "text": [
      " 89500/112907 [======================>.......] - ETA: 10:14 - loss: 0.3962 - accuracy: 0.821 - ETA: 10:12 - loss: 0.3960 - accuracy: 0.821 - ETA: 10:11 - loss: 0.3959 - accuracy: 0.821 - ETA: 10:09 - loss: 0.3960 - accuracy: 0.821 - ETA: 10:08 - loss: 0.3959 - accuracy: 0.821 - ETA: 10:06 - loss: 0.3958 - accuracy: 0.821 - ETA: 10:05 - loss: 0.3958 - accuracy: 0.822 - ETA: 10:04 - loss: 0.3956 - accuracy: 0.822 - ETA: 10:02 - loss: 0.3956 - accuracy: 0.822 - ETA: 10:01 - loss: 0.3955 - accuracy: 0.822 - ETA: 9:59 - loss: 0.3954 - accuracy: 0.822 - ETA: 9:58 - loss: 0.3955 - accuracy: 0.82 - ETA: 9:56 - loss: 0.3954 - accuracy: 0.82 - ETA: 9:55 - loss: 0.3952 - accuracy: 0.82 - ETA: 9:53 - loss: 0.3951 - accuracy: 0.82 - ETA: 9:51 - loss: 0.3951 - accuracy: 0.82 - ETA: 9:50 - loss: 0.3951 - accuracy: 0.82 - ETA: 9:49 - loss: 0.3951 - accuracy: 0.82 - ETA: 9:47 - loss: 0.3951 - accuracy: 0.82 - ETA: 9:46 - loss: 0.3951 - accuracy: 0.82 - ETA: 9:44 - loss: 0.3950 - accuracy: 0.82 - ETA: 9:42 - loss: 0.3950 - accuracy: 0.82 - ETA: 9:41 - loss: 0.3950 - accuracy: 0.82 - ETA: 9:39 - loss: 0.3948 - accuracy: 0.82 - ETA: 9:38 - loss: 0.3949 - accuracy: 0.82 - ETA: 9:36 - loss: 0.3948 - accuracy: 0.82 - ETA: 9:35 - loss: 0.3947 - accuracy: 0.82 - ETA: 9:33 - loss: 0.3946 - accuracy: 0.82 - ETA: 9:32 - loss: 0.3944 - accuracy: 0.82 - ETA: 9:30 - loss: 0.3944 - accuracy: 0.82 - ETA: 9:29 - loss: 0.3942 - accuracy: 0.82 - ETA: 9:27 - loss: 0.3942 - accuracy: 0.82 - ETA: 9:26 - loss: 0.3942 - accuracy: 0.82 - ETA: 9:25 - loss: 0.3941 - accuracy: 0.82 - ETA: 9:24 - loss: 0.3940 - accuracy: 0.82 - ETA: 9:22 - loss: 0.3939 - accuracy: 0.82 - ETA: 9:21 - loss: 0.3938 - accuracy: 0.82 - ETA: 9:19 - loss: 0.3938 - accuracy: 0.82 - ETA: 9:18 - loss: 0.3936 - accuracy: 0.82 - ETA: 9:16 - loss: 0.3935 - accuracy: 0.82 - ETA: 9:15 - loss: 0.3934 - accuracy: 0.82 - ETA: 9:13 - loss: 0.3933 - accuracy: 0.82 - ETA: 9:12 - loss: 0.3934 - accuracy: 0.82 - ETA: 9:10 - loss: 0.3933 - accuracy: 0.82 - ETA: 9:09 - loss: 0.3932 - accuracy: 0.82 - ETA: 9:07 - loss: 0.3930 - accuracy: 0.82 - ETA: 9:06 - loss: 0.3930 - accuracy: 0.82 - ETA: 9:04 - loss: 0.3929 - accuracy: 0.82 - ETA: 9:03 - loss: 0.3928 - accuracy: 0.82 - ETA: 9:01 - loss: 0.3927 - accuracy: 0.82 - ETA: 8:59 - loss: 0.3925 - accuracy: 0.82 - ETA: 8:58 - loss: 0.3923 - accuracy: 0.82 - ETA: 8:56 - loss: 0.3922 - accuracy: 0.82 - ETA: 8:55 - loss: 0.3922 - accuracy: 0.82 - ETA: 8:53 - loss: 0.3921 - accuracy: 0.82 - ETA: 8:52 - loss: 0.3922 - accuracy: 0.82 - ETA: 8:50 - loss: 0.3923 - accuracy: 0.82 - ETA: 8:49 - loss: 0.3922 - accuracy: 0.82 - ETA: 8:47 - loss: 0.3921 - accuracy: 0.82 - ETA: 8:46 - loss: 0.3922 - accuracy: 0.82 - ETA: 8:44 - loss: 0.3920 - accuracy: 0.82 - ETA: 8:43 - loss: 0.3920 - accuracy: 0.82 - ETA: 8:41 - loss: 0.3920 - accuracy: 0.82 - ETA: 8:40 - loss: 0.3919 - accuracy: 0.82 - ETA: 8:39 - loss: 0.3918 - accuracy: 0.82 - ETA: 8:37 - loss: 0.3918 - accuracy: 0.82 - ETA: 8:36 - loss: 0.3918 - accuracy: 0.82 - ETA: 8:34 - loss: 0.3917 - accuracy: 0.82 - ETA: 8:33 - loss: 0.3916 - accuracy: 0.82 - ETA: 8:31 - loss: 0.3914 - accuracy: 0.82 - ETA: 8:30 - loss: 0.3914 - accuracy: 0.82 - ETA: 8:28 - loss: 0.3912 - accuracy: 0.82 - ETA: 8:27 - loss: 0.3911 - accuracy: 0.82 - ETA: 8:25 - loss: 0.3910 - accuracy: 0.82 - ETA: 8:24 - loss: 0.3909 - accuracy: 0.82 - ETA: 8:22 - loss: 0.3908 - accuracy: 0.82 - ETA: 8:21 - loss: 0.3907 - accuracy: 0.82 - ETA: 8:19 - loss: 0.3905 - accuracy: 0.82 - ETA: 8:18 - loss: 0.3904 - accuracy: 0.82 - ETA: 8:16 - loss: 0.3903 - accuracy: 0.82 - ETA: 8:15 - loss: 0.3903 - accuracy: 0.82 - ETA: 8:13 - loss: 0.3903 - accuracy: 0.82 - ETA: 8:12 - loss: 0.3902 - accuracy: 0.82 - ETA: 8:10 - loss: 0.3901 - accuracy: 0.82 - ETA: 8:09 - loss: 0.3900 - accuracy: 0.82 - ETA: 8:07 - loss: 0.3899 - accuracy: 0.82 - ETA: 8:06 - loss: 0.3899 - accuracy: 0.82 - ETA: 8:04 - loss: 0.3898 - accuracy: 0.82 - ETA: 8:03 - loss: 0.3898 - accuracy: 0.82 - ETA: 8:01 - loss: 0.3898 - accuracy: 0.82 - ETA: 8:00 - loss: 0.3897 - accuracy: 0.82 - ETA: 7:58 - loss: 0.3897 - accuracy: 0.82 - ETA: 7:57 - loss: 0.3895 - accuracy: 0.82 - ETA: 7:55 - loss: 0.3895 - accuracy: 0.82 - ETA: 7:54 - loss: 0.3894 - accuracy: 0.82 - ETA: 7:52 - loss: 0.3895 - accuracy: 0.82 - ETA: 7:51 - loss: 0.3894 - accuracy: 0.82 - ETA: 7:49 - loss: 0.3894 - accuracy: 0.82 - ETA: 7:48 - loss: 0.3893 - accuracy: 0.82 - ETA: 7:46 - loss: 0.3892 - accuracy: 0.82 - ETA: 7:45 - loss: 0.3891 - accuracy: 0.82 - ETA: 7:43 - loss: 0.3889 - accuracy: 0.82 - ETA: 7:42 - loss: 0.3888 - accuracy: 0.82 - ETA: 7:40 - loss: 0.3887 - accuracy: 0.82 - ETA: 7:39 - loss: 0.3886 - accuracy: 0.82 - ETA: 7:37 - loss: 0.3887 - accuracy: 0.82 - ETA: 7:36 - loss: 0.3886 - accuracy: 0.82 - ETA: 7:34 - loss: 0.3887 - accuracy: 0.82 - ETA: 7:33 - loss: 0.3885 - accuracy: 0.82 - ETA: 7:31 - loss: 0.3885 - accuracy: 0.82 - ETA: 7:30 - loss: 0.3883 - accuracy: 0.82 - ETA: 7:28 - loss: 0.3883 - accuracy: 0.82 - ETA: 7:27 - loss: 0.3885 - accuracy: 0.82 - ETA: 7:26 - loss: 0.3883 - accuracy: 0.82 - ETA: 7:24 - loss: 0.3882 - accuracy: 0.82 - ETA: 7:23 - loss: 0.3880 - accuracy: 0.82 - ETA: 7:21 - loss: 0.3880 - accuracy: 0.82 - ETA: 7:20 - loss: 0.3880 - accuracy: 0.82 - ETA: 7:18 - loss: 0.3878 - accuracy: 0.82 - ETA: 7:17 - loss: 0.3879 - accuracy: 0.82 - ETA: 7:15 - loss: 0.3878 - accuracy: 0.82 - ETA: 7:14 - loss: 0.3877 - accuracy: 0.82 - ETA: 7:13 - loss: 0.3876 - accuracy: 0.82 - ETA: 7:11 - loss: 0.3875 - accuracy: 0.82 - ETA: 7:10 - loss: 0.3876 - accuracy: 0.82 - ETA: 7:08 - loss: 0.3875 - accuracy: 0.82 - ETA: 7:07 - loss: 0.3874 - accuracy: 0.82 - ETA: 7:05 - loss: 0.3873 - accuracy: 0.82 - ETA: 7:04 - loss: 0.3873 - accuracy: 0.82 - ETA: 7:03 - loss: 0.3871 - accuracy: 0.82 - ETA: 7:01 - loss: 0.3871 - accuracy: 0.82 - ETA: 7:00 - loss: 0.3871 - accuracy: 0.82 - ETA: 6:58 - loss: 0.3869 - accuracy: 0.82 - ETA: 6:57 - loss: 0.3869 - accuracy: 0.82 - ETA: 6:55 - loss: 0.3868 - accuracy: 0.82 - ETA: 6:54 - loss: 0.3868 - accuracy: 0.82 - ETA: 6:52 - loss: 0.3868 - accuracy: 0.82 - ETA: 6:51 - loss: 0.3867 - accuracy: 0.82 - ETA: 6:49 - loss: 0.3866 - accuracy: 0.82 - ETA: 6:48 - loss: 0.3865 - accuracy: 0.82 - ETA: 6:46 - loss: 0.3864 - accuracy: 0.82 - ETA: 6:45 - loss: 0.3863 - accuracy: 0.82 - ETA: 6:44 - loss: 0.3862 - accuracy: 0.82 - ETA: 6:42 - loss: 0.3862 - accuracy: 0.82 - ETA: 6:41 - loss: 0.3861 - accuracy: 0.82 - ETA: 6:39 - loss: 0.3860 - accuracy: 0.82 - ETA: 6:38 - loss: 0.3859 - accuracy: 0.82 - ETA: 6:36 - loss: 0.3858 - accuracy: 0.82 - ETA: 6:35 - loss: 0.3857 - accuracy: 0.82 - ETA: 6:33 - loss: 0.3856 - accuracy: 0.82 - ETA: 6:32 - loss: 0.3855 - accuracy: 0.82 - ETA: 6:30 - loss: 0.3855 - accuracy: 0.82 - ETA: 6:29 - loss: 0.3854 - accuracy: 0.82 - ETA: 6:27 - loss: 0.3853 - accuracy: 0.82 - ETA: 6:26 - loss: 0.3853 - accuracy: 0.82 - ETA: 6:24 - loss: 0.3852 - accuracy: 0.82 - ETA: 6:23 - loss: 0.3852 - accuracy: 0.82 - ETA: 6:21 - loss: 0.3852 - accuracy: 0.82 - ETA: 6:20 - loss: 0.3851 - accuracy: 0.82 - ETA: 6:18 - loss: 0.3851 - accuracy: 0.82 - ETA: 6:17 - loss: 0.3850 - accuracy: 0.82 - ETA: 6:15 - loss: 0.3850 - accuracy: 0.82 - ETA: 6:14 - loss: 0.3848 - accuracy: 0.82 - ETA: 6:12 - loss: 0.3847 - accuracy: 0.82 - ETA: 6:11 - loss: 0.3847 - accuracy: 0.82 - ETA: 6:09 - loss: 0.3847 - accuracy: 0.82 - ETA: 6:08 - loss: 0.3847 - accuracy: 0.82 - ETA: 6:06 - loss: 0.3847 - accuracy: 0.82 - ETA: 6:05 - loss: 0.3847 - accuracy: 0.82 - ETA: 6:03 - loss: 0.3848 - accuracy: 0.82 - ETA: 6:02 - loss: 0.3847 - accuracy: 0.82 - ETA: 6:00 - loss: 0.3847 - accuracy: 0.82 - ETA: 5:59 - loss: 0.3846 - accuracy: 0.82 - ETA: 5:57 - loss: 0.3845 - accuracy: 0.82 - ETA: 5:56 - loss: 0.3844 - accuracy: 0.82 - ETA: 5:54 - loss: 0.3843 - accuracy: 0.82 - ETA: 5:53 - loss: 0.3843 - accuracy: 0.82 - ETA: 5:52 - loss: 0.3842 - accuracy: 0.82 - ETA: 5:50 - loss: 0.3841 - accuracy: 0.82 - ETA: 5:49 - loss: 0.3840 - accuracy: 0.82 - ETA: 5:47 - loss: 0.3839 - accuracy: 0.82 - ETA: 5:46 - loss: 0.3839 - accuracy: 0.82 - ETA: 5:44 - loss: 0.3838 - accuracy: 0.82 - ETA: 5:43 - loss: 0.3838 - accuracy: 0.82 - ETA: 5:41 - loss: 0.3837 - accuracy: 0.8285"
     ]
    },
    {
     "name": "stdout",
     "output_type": "stream",
     "text": [
      "108100/112907 [===========================>..] - ETA: 5:40 - loss: 0.3838 - accuracy: 0.82 - ETA: 5:38 - loss: 0.3837 - accuracy: 0.82 - ETA: 5:37 - loss: 0.3836 - accuracy: 0.82 - ETA: 5:35 - loss: 0.3836 - accuracy: 0.82 - ETA: 5:34 - loss: 0.3836 - accuracy: 0.82 - ETA: 5:32 - loss: 0.3835 - accuracy: 0.82 - ETA: 5:31 - loss: 0.3835 - accuracy: 0.82 - ETA: 5:29 - loss: 0.3834 - accuracy: 0.82 - ETA: 5:28 - loss: 0.3833 - accuracy: 0.82 - ETA: 5:26 - loss: 0.3833 - accuracy: 0.82 - ETA: 5:25 - loss: 0.3833 - accuracy: 0.82 - ETA: 5:23 - loss: 0.3832 - accuracy: 0.82 - ETA: 5:22 - loss: 0.3833 - accuracy: 0.82 - ETA: 5:20 - loss: 0.3832 - accuracy: 0.82 - ETA: 5:19 - loss: 0.3831 - accuracy: 0.82 - ETA: 5:17 - loss: 0.3829 - accuracy: 0.82 - ETA: 5:16 - loss: 0.3829 - accuracy: 0.82 - ETA: 5:14 - loss: 0.3828 - accuracy: 0.82 - ETA: 5:13 - loss: 0.3828 - accuracy: 0.82 - ETA: 5:11 - loss: 0.3827 - accuracy: 0.82 - ETA: 5:10 - loss: 0.3827 - accuracy: 0.82 - ETA: 5:08 - loss: 0.3826 - accuracy: 0.82 - ETA: 5:07 - loss: 0.3825 - accuracy: 0.82 - ETA: 5:05 - loss: 0.3824 - accuracy: 0.82 - ETA: 5:04 - loss: 0.3824 - accuracy: 0.82 - ETA: 5:03 - loss: 0.3824 - accuracy: 0.82 - ETA: 5:01 - loss: 0.3823 - accuracy: 0.82 - ETA: 5:00 - loss: 0.3822 - accuracy: 0.82 - ETA: 4:58 - loss: 0.3821 - accuracy: 0.82 - ETA: 4:57 - loss: 0.3822 - accuracy: 0.82 - ETA: 4:55 - loss: 0.3821 - accuracy: 0.82 - ETA: 4:54 - loss: 0.3820 - accuracy: 0.82 - ETA: 4:53 - loss: 0.3820 - accuracy: 0.82 - ETA: 4:51 - loss: 0.3821 - accuracy: 0.82 - ETA: 4:50 - loss: 0.3819 - accuracy: 0.82 - ETA: 4:48 - loss: 0.3818 - accuracy: 0.82 - ETA: 4:47 - loss: 0.3819 - accuracy: 0.82 - ETA: 4:45 - loss: 0.3819 - accuracy: 0.82 - ETA: 4:44 - loss: 0.3819 - accuracy: 0.82 - ETA: 4:42 - loss: 0.3818 - accuracy: 0.82 - ETA: 4:41 - loss: 0.3818 - accuracy: 0.82 - ETA: 4:39 - loss: 0.3818 - accuracy: 0.82 - ETA: 4:38 - loss: 0.3817 - accuracy: 0.82 - ETA: 4:36 - loss: 0.3817 - accuracy: 0.82 - ETA: 4:35 - loss: 0.3815 - accuracy: 0.83 - ETA: 4:34 - loss: 0.3815 - accuracy: 0.83 - ETA: 4:32 - loss: 0.3815 - accuracy: 0.83 - ETA: 4:31 - loss: 0.3815 - accuracy: 0.83 - ETA: 4:29 - loss: 0.3815 - accuracy: 0.83 - ETA: 4:28 - loss: 0.3813 - accuracy: 0.83 - ETA: 4:27 - loss: 0.3813 - accuracy: 0.83 - ETA: 4:25 - loss: 0.3812 - accuracy: 0.83 - ETA: 4:24 - loss: 0.3811 - accuracy: 0.83 - ETA: 4:22 - loss: 0.3810 - accuracy: 0.83 - ETA: 4:21 - loss: 0.3810 - accuracy: 0.83 - ETA: 4:19 - loss: 0.3809 - accuracy: 0.83 - ETA: 4:18 - loss: 0.3809 - accuracy: 0.83 - ETA: 4:16 - loss: 0.3808 - accuracy: 0.83 - ETA: 4:15 - loss: 0.3808 - accuracy: 0.83 - ETA: 4:14 - loss: 0.3808 - accuracy: 0.83 - ETA: 4:12 - loss: 0.3807 - accuracy: 0.83 - ETA: 4:11 - loss: 0.3808 - accuracy: 0.83 - ETA: 4:09 - loss: 0.3807 - accuracy: 0.83 - ETA: 4:08 - loss: 0.3806 - accuracy: 0.83 - ETA: 4:06 - loss: 0.3806 - accuracy: 0.83 - ETA: 4:05 - loss: 0.3805 - accuracy: 0.83 - ETA: 4:03 - loss: 0.3805 - accuracy: 0.83 - ETA: 4:02 - loss: 0.3804 - accuracy: 0.83 - ETA: 4:00 - loss: 0.3804 - accuracy: 0.83 - ETA: 3:59 - loss: 0.3803 - accuracy: 0.83 - ETA: 3:57 - loss: 0.3803 - accuracy: 0.83 - ETA: 3:56 - loss: 0.3802 - accuracy: 0.83 - ETA: 3:54 - loss: 0.3801 - accuracy: 0.83 - ETA: 3:53 - loss: 0.3801 - accuracy: 0.83 - ETA: 3:51 - loss: 0.3800 - accuracy: 0.83 - ETA: 3:50 - loss: 0.3799 - accuracy: 0.83 - ETA: 3:49 - loss: 0.3798 - accuracy: 0.83 - ETA: 3:47 - loss: 0.3797 - accuracy: 0.83 - ETA: 3:46 - loss: 0.3796 - accuracy: 0.83 - ETA: 3:44 - loss: 0.3797 - accuracy: 0.83 - ETA: 3:43 - loss: 0.3796 - accuracy: 0.83 - ETA: 3:41 - loss: 0.3795 - accuracy: 0.83 - ETA: 3:40 - loss: 0.3794 - accuracy: 0.83 - ETA: 3:39 - loss: 0.3793 - accuracy: 0.83 - ETA: 3:37 - loss: 0.3793 - accuracy: 0.83 - ETA: 3:36 - loss: 0.3792 - accuracy: 0.83 - ETA: 3:34 - loss: 0.3792 - accuracy: 0.83 - ETA: 3:33 - loss: 0.3791 - accuracy: 0.83 - ETA: 3:31 - loss: 0.3790 - accuracy: 0.83 - ETA: 3:30 - loss: 0.3790 - accuracy: 0.83 - ETA: 3:28 - loss: 0.3788 - accuracy: 0.83 - ETA: 3:27 - loss: 0.3788 - accuracy: 0.83 - ETA: 3:25 - loss: 0.3788 - accuracy: 0.83 - ETA: 3:24 - loss: 0.3787 - accuracy: 0.83 - ETA: 3:22 - loss: 0.3787 - accuracy: 0.83 - ETA: 3:21 - loss: 0.3786 - accuracy: 0.83 - ETA: 3:19 - loss: 0.3786 - accuracy: 0.83 - ETA: 3:18 - loss: 0.3786 - accuracy: 0.83 - ETA: 3:17 - loss: 0.3786 - accuracy: 0.83 - ETA: 3:15 - loss: 0.3786 - accuracy: 0.83 - ETA: 3:14 - loss: 0.3786 - accuracy: 0.83 - ETA: 3:12 - loss: 0.3786 - accuracy: 0.83 - ETA: 3:11 - loss: 0.3784 - accuracy: 0.83 - ETA: 3:09 - loss: 0.3784 - accuracy: 0.83 - ETA: 3:08 - loss: 0.3783 - accuracy: 0.83 - ETA: 3:06 - loss: 0.3782 - accuracy: 0.83 - ETA: 3:05 - loss: 0.3781 - accuracy: 0.83 - ETA: 3:03 - loss: 0.3780 - accuracy: 0.83 - ETA: 3:02 - loss: 0.3779 - accuracy: 0.83 - ETA: 3:00 - loss: 0.3778 - accuracy: 0.83 - ETA: 2:59 - loss: 0.3779 - accuracy: 0.83 - ETA: 2:57 - loss: 0.3778 - accuracy: 0.83 - ETA: 2:56 - loss: 0.3777 - accuracy: 0.83 - ETA: 2:54 - loss: 0.3777 - accuracy: 0.83 - ETA: 2:53 - loss: 0.3776 - accuracy: 0.83 - ETA: 2:51 - loss: 0.3776 - accuracy: 0.83 - ETA: 2:50 - loss: 0.3775 - accuracy: 0.83 - ETA: 2:49 - loss: 0.3774 - accuracy: 0.83 - ETA: 2:47 - loss: 0.3774 - accuracy: 0.83 - ETA: 2:46 - loss: 0.3774 - accuracy: 0.83 - ETA: 2:44 - loss: 0.3772 - accuracy: 0.83 - ETA: 2:43 - loss: 0.3771 - accuracy: 0.83 - ETA: 2:41 - loss: 0.3771 - accuracy: 0.83 - ETA: 2:40 - loss: 0.3769 - accuracy: 0.83 - ETA: 2:38 - loss: 0.3769 - accuracy: 0.83 - ETA: 2:37 - loss: 0.3770 - accuracy: 0.83 - ETA: 2:35 - loss: 0.3769 - accuracy: 0.83 - ETA: 2:34 - loss: 0.3769 - accuracy: 0.83 - ETA: 2:32 - loss: 0.3768 - accuracy: 0.83 - ETA: 2:31 - loss: 0.3767 - accuracy: 0.83 - ETA: 2:29 - loss: 0.3768 - accuracy: 0.83 - ETA: 2:28 - loss: 0.3768 - accuracy: 0.83 - ETA: 2:27 - loss: 0.3767 - accuracy: 0.83 - ETA: 2:25 - loss: 0.3766 - accuracy: 0.83 - ETA: 2:24 - loss: 0.3765 - accuracy: 0.83 - ETA: 2:22 - loss: 0.3766 - accuracy: 0.83 - ETA: 2:21 - loss: 0.3766 - accuracy: 0.83 - ETA: 2:19 - loss: 0.3765 - accuracy: 0.83 - ETA: 2:18 - loss: 0.3765 - accuracy: 0.83 - ETA: 2:16 - loss: 0.3764 - accuracy: 0.83 - ETA: 2:15 - loss: 0.3764 - accuracy: 0.83 - ETA: 2:13 - loss: 0.3763 - accuracy: 0.83 - ETA: 2:12 - loss: 0.3763 - accuracy: 0.83 - ETA: 2:10 - loss: 0.3762 - accuracy: 0.83 - ETA: 2:09 - loss: 0.3762 - accuracy: 0.83 - ETA: 2:07 - loss: 0.3762 - accuracy: 0.83 - ETA: 2:06 - loss: 0.3760 - accuracy: 0.83 - ETA: 2:05 - loss: 0.3760 - accuracy: 0.83 - ETA: 2:03 - loss: 0.3759 - accuracy: 0.83 - ETA: 2:02 - loss: 0.3758 - accuracy: 0.83 - ETA: 2:00 - loss: 0.3758 - accuracy: 0.83 - ETA: 1:59 - loss: 0.3757 - accuracy: 0.83 - ETA: 1:57 - loss: 0.3756 - accuracy: 0.83 - ETA: 1:56 - loss: 0.3757 - accuracy: 0.83 - ETA: 1:54 - loss: 0.3756 - accuracy: 0.83 - ETA: 1:53 - loss: 0.3756 - accuracy: 0.83 - ETA: 1:51 - loss: 0.3755 - accuracy: 0.83 - ETA: 1:50 - loss: 0.3755 - accuracy: 0.83 - ETA: 1:48 - loss: 0.3755 - accuracy: 0.83 - ETA: 1:47 - loss: 0.3754 - accuracy: 0.83 - ETA: 1:46 - loss: 0.3754 - accuracy: 0.83 - ETA: 1:44 - loss: 0.3753 - accuracy: 0.83 - ETA: 1:43 - loss: 0.3753 - accuracy: 0.83 - ETA: 1:41 - loss: 0.3752 - accuracy: 0.83 - ETA: 1:40 - loss: 0.3752 - accuracy: 0.83 - ETA: 1:38 - loss: 0.3751 - accuracy: 0.83 - ETA: 1:37 - loss: 0.3751 - accuracy: 0.83 - ETA: 1:35 - loss: 0.3750 - accuracy: 0.83 - ETA: 1:34 - loss: 0.3750 - accuracy: 0.83 - ETA: 1:32 - loss: 0.3749 - accuracy: 0.83 - ETA: 1:31 - loss: 0.3749 - accuracy: 0.83 - ETA: 1:30 - loss: 0.3748 - accuracy: 0.83 - ETA: 1:28 - loss: 0.3747 - accuracy: 0.83 - ETA: 1:27 - loss: 0.3746 - accuracy: 0.83 - ETA: 1:25 - loss: 0.3747 - accuracy: 0.83 - ETA: 1:24 - loss: 0.3748 - accuracy: 0.83 - ETA: 1:22 - loss: 0.3748 - accuracy: 0.83 - ETA: 1:21 - loss: 0.3747 - accuracy: 0.83 - ETA: 1:19 - loss: 0.3746 - accuracy: 0.83 - ETA: 1:18 - loss: 0.3746 - accuracy: 0.83 - ETA: 1:16 - loss: 0.3746 - accuracy: 0.83 - ETA: 1:15 - loss: 0.3745 - accuracy: 0.83 - ETA: 1:13 - loss: 0.3745 - accuracy: 0.83 - ETA: 1:12 - loss: 0.3745 - accuracy: 0.83 - ETA: 1:11 - loss: 0.3744 - accuracy: 0.83 - ETA: 1:09 - loss: 0.3744 - accuracy: 0.8338"
     ]
    },
    {
     "name": "stdout",
     "output_type": "stream",
     "text": [
      "112907/112907 [==============================] - ETA: 1:08 - loss: 0.3744 - accuracy: 0.83 - ETA: 1:06 - loss: 0.3743 - accuracy: 0.83 - ETA: 1:05 - loss: 0.3742 - accuracy: 0.83 - ETA: 1:03 - loss: 0.3741 - accuracy: 0.83 - ETA: 1:02 - loss: 0.3740 - accuracy: 0.83 - ETA: 1:00 - loss: 0.3740 - accuracy: 0.83 - ETA: 59s - loss: 0.3739 - accuracy: 0.8340 - ETA: 58s - loss: 0.3739 - accuracy: 0.834 - ETA: 56s - loss: 0.3738 - accuracy: 0.834 - ETA: 55s - loss: 0.3738 - accuracy: 0.834 - ETA: 53s - loss: 0.3738 - accuracy: 0.834 - ETA: 52s - loss: 0.3738 - accuracy: 0.834 - ETA: 50s - loss: 0.3738 - accuracy: 0.834 - ETA: 49s - loss: 0.3737 - accuracy: 0.834 - ETA: 47s - loss: 0.3736 - accuracy: 0.834 - ETA: 46s - loss: 0.3736 - accuracy: 0.834 - ETA: 44s - loss: 0.3736 - accuracy: 0.834 - ETA: 43s - loss: 0.3735 - accuracy: 0.834 - ETA: 42s - loss: 0.3736 - accuracy: 0.834 - ETA: 40s - loss: 0.3735 - accuracy: 0.834 - ETA: 39s - loss: 0.3735 - accuracy: 0.834 - ETA: 37s - loss: 0.3734 - accuracy: 0.834 - ETA: 36s - loss: 0.3733 - accuracy: 0.834 - ETA: 34s - loss: 0.3733 - accuracy: 0.834 - ETA: 33s - loss: 0.3733 - accuracy: 0.834 - ETA: 31s - loss: 0.3733 - accuracy: 0.834 - ETA: 30s - loss: 0.3733 - accuracy: 0.834 - ETA: 29s - loss: 0.3732 - accuracy: 0.834 - ETA: 27s - loss: 0.3732 - accuracy: 0.834 - ETA: 26s - loss: 0.3732 - accuracy: 0.834 - ETA: 24s - loss: 0.3731 - accuracy: 0.834 - ETA: 23s - loss: 0.3730 - accuracy: 0.834 - ETA: 21s - loss: 0.3729 - accuracy: 0.834 - ETA: 20s - loss: 0.3728 - accuracy: 0.834 - ETA: 18s - loss: 0.3728 - accuracy: 0.834 - ETA: 17s - loss: 0.3727 - accuracy: 0.834 - ETA: 15s - loss: 0.3726 - accuracy: 0.834 - ETA: 14s - loss: 0.3727 - accuracy: 0.834 - ETA: 13s - loss: 0.3727 - accuracy: 0.834 - ETA: 11s - loss: 0.3727 - accuracy: 0.834 - ETA: 10s - loss: 0.3727 - accuracy: 0.834 - ETA: 8s - loss: 0.3726 - accuracy: 0.834 - ETA: 7s - loss: 0.3726 - accuracy: 0.83 - ETA: 5s - loss: 0.3725 - accuracy: 0.83 - ETA: 4s - loss: 0.3724 - accuracy: 0.83 - ETA: 2s - loss: 0.3723 - accuracy: 0.83 - ETA: 1s - loss: 0.3722 - accuracy: 0.83 - ETA: 0s - loss: 0.3722 - accuracy: 0.83 - 1760s 16ms/step - loss: 0.3722 - accuracy: 0.8349 - val_loss: 0.3181 - val_accuracy: 0.8628\n",
      "Epoch 2/3\n"
     ]
    },
    {
     "name": "stdout",
     "output_type": "stream",
     "text": [
      " 17800/112907 [===>..........................] - ETA: 21:27 - loss: 0.2084 - accuracy: 0.930 - ETA: 21:53 - loss: 0.2766 - accuracy: 0.890 - ETA: 22:05 - loss: 0.2616 - accuracy: 0.893 - ETA: 22:41 - loss: 0.2627 - accuracy: 0.897 - ETA: 22:37 - loss: 0.2446 - accuracy: 0.906 - ETA: 22:38 - loss: 0.2496 - accuracy: 0.908 - ETA: 22:39 - loss: 0.2379 - accuracy: 0.914 - ETA: 22:38 - loss: 0.2282 - accuracy: 0.917 - ETA: 22:36 - loss: 0.2341 - accuracy: 0.913 - ETA: 22:34 - loss: 0.2346 - accuracy: 0.911 - ETA: 22:50 - loss: 0.2487 - accuracy: 0.905 - ETA: 23:05 - loss: 0.2561 - accuracy: 0.902 - ETA: 23:15 - loss: 0.2560 - accuracy: 0.902 - ETA: 23:17 - loss: 0.2527 - accuracy: 0.902 - ETA: 23:15 - loss: 0.2554 - accuracy: 0.900 - ETA: 23:15 - loss: 0.2608 - accuracy: 0.898 - ETA: 23:12 - loss: 0.2600 - accuracy: 0.900 - ETA: 23:09 - loss: 0.2561 - accuracy: 0.901 - ETA: 23:05 - loss: 0.2587 - accuracy: 0.900 - ETA: 23:01 - loss: 0.2625 - accuracy: 0.896 - ETA: 23:00 - loss: 0.2661 - accuracy: 0.894 - ETA: 22:57 - loss: 0.2645 - accuracy: 0.894 - ETA: 22:53 - loss: 0.2644 - accuracy: 0.894 - ETA: 22:50 - loss: 0.2664 - accuracy: 0.892 - ETA: 22:47 - loss: 0.2680 - accuracy: 0.890 - ETA: 22:47 - loss: 0.2703 - accuracy: 0.890 - ETA: 22:44 - loss: 0.2726 - accuracy: 0.888 - ETA: 22:43 - loss: 0.2748 - accuracy: 0.887 - ETA: 22:40 - loss: 0.2738 - accuracy: 0.887 - ETA: 22:38 - loss: 0.2743 - accuracy: 0.888 - ETA: 22:35 - loss: 0.2750 - accuracy: 0.888 - ETA: 22:33 - loss: 0.2748 - accuracy: 0.887 - ETA: 22:31 - loss: 0.2732 - accuracy: 0.887 - ETA: 22:28 - loss: 0.2750 - accuracy: 0.885 - ETA: 22:29 - loss: 0.2764 - accuracy: 0.885 - ETA: 22:29 - loss: 0.2766 - accuracy: 0.886 - ETA: 22:30 - loss: 0.2774 - accuracy: 0.884 - ETA: 22:28 - loss: 0.2776 - accuracy: 0.885 - ETA: 22:26 - loss: 0.2776 - accuracy: 0.884 - ETA: 22:27 - loss: 0.2778 - accuracy: 0.885 - ETA: 22:25 - loss: 0.2761 - accuracy: 0.886 - ETA: 22:24 - loss: 0.2760 - accuracy: 0.886 - ETA: 22:25 - loss: 0.2766 - accuracy: 0.887 - ETA: 22:25 - loss: 0.2763 - accuracy: 0.887 - ETA: 22:27 - loss: 0.2751 - accuracy: 0.888 - ETA: 22:29 - loss: 0.2756 - accuracy: 0.888 - ETA: 22:29 - loss: 0.2757 - accuracy: 0.887 - ETA: 22:28 - loss: 0.2756 - accuracy: 0.887 - ETA: 22:27 - loss: 0.2752 - accuracy: 0.887 - ETA: 22:25 - loss: 0.2761 - accuracy: 0.887 - ETA: 22:24 - loss: 0.2741 - accuracy: 0.887 - ETA: 22:22 - loss: 0.2760 - accuracy: 0.886 - ETA: 22:21 - loss: 0.2769 - accuracy: 0.886 - ETA: 22:20 - loss: 0.2771 - accuracy: 0.886 - ETA: 22:19 - loss: 0.2765 - accuracy: 0.886 - ETA: 22:17 - loss: 0.2755 - accuracy: 0.887 - ETA: 22:16 - loss: 0.2760 - accuracy: 0.887 - ETA: 22:14 - loss: 0.2749 - accuracy: 0.887 - ETA: 22:13 - loss: 0.2760 - accuracy: 0.887 - ETA: 22:11 - loss: 0.2759 - accuracy: 0.886 - ETA: 22:09 - loss: 0.2753 - accuracy: 0.887 - ETA: 22:08 - loss: 0.2754 - accuracy: 0.887 - ETA: 22:06 - loss: 0.2758 - accuracy: 0.886 - ETA: 22:05 - loss: 0.2747 - accuracy: 0.887 - ETA: 22:03 - loss: 0.2748 - accuracy: 0.886 - ETA: 22:01 - loss: 0.2745 - accuracy: 0.886 - ETA: 22:00 - loss: 0.2742 - accuracy: 0.887 - ETA: 22:00 - loss: 0.2739 - accuracy: 0.887 - ETA: 21:59 - loss: 0.2730 - accuracy: 0.887 - ETA: 22:00 - loss: 0.2727 - accuracy: 0.888 - ETA: 22:00 - loss: 0.2722 - accuracy: 0.888 - ETA: 21:58 - loss: 0.2724 - accuracy: 0.887 - ETA: 21:57 - loss: 0.2720 - accuracy: 0.887 - ETA: 21:55 - loss: 0.2711 - accuracy: 0.888 - ETA: 21:56 - loss: 0.2710 - accuracy: 0.888 - ETA: 21:55 - loss: 0.2707 - accuracy: 0.888 - ETA: 21:55 - loss: 0.2712 - accuracy: 0.888 - ETA: 21:55 - loss: 0.2706 - accuracy: 0.889 - ETA: 21:54 - loss: 0.2713 - accuracy: 0.888 - ETA: 21:53 - loss: 0.2711 - accuracy: 0.888 - ETA: 21:51 - loss: 0.2716 - accuracy: 0.888 - ETA: 21:50 - loss: 0.2708 - accuracy: 0.888 - ETA: 21:48 - loss: 0.2716 - accuracy: 0.888 - ETA: 21:47 - loss: 0.2711 - accuracy: 0.888 - ETA: 21:45 - loss: 0.2705 - accuracy: 0.889 - ETA: 21:43 - loss: 0.2702 - accuracy: 0.889 - ETA: 21:41 - loss: 0.2700 - accuracy: 0.889 - ETA: 21:40 - loss: 0.2697 - accuracy: 0.889 - ETA: 21:38 - loss: 0.2691 - accuracy: 0.889 - ETA: 21:36 - loss: 0.2696 - accuracy: 0.889 - ETA: 21:35 - loss: 0.2692 - accuracy: 0.889 - ETA: 21:36 - loss: 0.2699 - accuracy: 0.889 - ETA: 21:35 - loss: 0.2697 - accuracy: 0.889 - ETA: 21:33 - loss: 0.2689 - accuracy: 0.890 - ETA: 21:34 - loss: 0.2695 - accuracy: 0.889 - ETA: 21:33 - loss: 0.2697 - accuracy: 0.889 - ETA: 21:31 - loss: 0.2702 - accuracy: 0.889 - ETA: 21:30 - loss: 0.2694 - accuracy: 0.889 - ETA: 21:29 - loss: 0.2688 - accuracy: 0.889 - ETA: 21:28 - loss: 0.2684 - accuracy: 0.889 - ETA: 21:27 - loss: 0.2679 - accuracy: 0.890 - ETA: 21:27 - loss: 0.2681 - accuracy: 0.889 - ETA: 21:25 - loss: 0.2674 - accuracy: 0.890 - ETA: 21:24 - loss: 0.2678 - accuracy: 0.890 - ETA: 21:23 - loss: 0.2671 - accuracy: 0.890 - ETA: 21:22 - loss: 0.2673 - accuracy: 0.890 - ETA: 21:22 - loss: 0.2685 - accuracy: 0.889 - ETA: 21:24 - loss: 0.2686 - accuracy: 0.889 - ETA: 21:24 - loss: 0.2679 - accuracy: 0.889 - ETA: 21:23 - loss: 0.2668 - accuracy: 0.890 - ETA: 21:22 - loss: 0.2671 - accuracy: 0.890 - ETA: 21:22 - loss: 0.2668 - accuracy: 0.890 - ETA: 21:21 - loss: 0.2679 - accuracy: 0.889 - ETA: 21:19 - loss: 0.2683 - accuracy: 0.889 - ETA: 21:18 - loss: 0.2688 - accuracy: 0.889 - ETA: 21:17 - loss: 0.2689 - accuracy: 0.889 - ETA: 21:15 - loss: 0.2693 - accuracy: 0.889 - ETA: 21:14 - loss: 0.2691 - accuracy: 0.889 - ETA: 21:13 - loss: 0.2687 - accuracy: 0.889 - ETA: 21:12 - loss: 0.2689 - accuracy: 0.889 - ETA: 21:12 - loss: 0.2688 - accuracy: 0.889 - ETA: 21:10 - loss: 0.2687 - accuracy: 0.889 - ETA: 21:08 - loss: 0.2691 - accuracy: 0.889 - ETA: 21:07 - loss: 0.2685 - accuracy: 0.890 - ETA: 21:06 - loss: 0.2683 - accuracy: 0.890 - ETA: 21:04 - loss: 0.2689 - accuracy: 0.889 - ETA: 21:03 - loss: 0.2694 - accuracy: 0.890 - ETA: 21:01 - loss: 0.2686 - accuracy: 0.890 - ETA: 21:00 - loss: 0.2689 - accuracy: 0.890 - ETA: 20:59 - loss: 0.2686 - accuracy: 0.890 - ETA: 20:58 - loss: 0.2686 - accuracy: 0.890 - ETA: 20:56 - loss: 0.2679 - accuracy: 0.890 - ETA: 20:55 - loss: 0.2684 - accuracy: 0.890 - ETA: 20:53 - loss: 0.2677 - accuracy: 0.890 - ETA: 20:52 - loss: 0.2678 - accuracy: 0.890 - ETA: 20:50 - loss: 0.2676 - accuracy: 0.890 - ETA: 20:49 - loss: 0.2688 - accuracy: 0.890 - ETA: 20:48 - loss: 0.2685 - accuracy: 0.890 - ETA: 20:47 - loss: 0.2683 - accuracy: 0.890 - ETA: 20:45 - loss: 0.2683 - accuracy: 0.890 - ETA: 20:44 - loss: 0.2683 - accuracy: 0.891 - ETA: 20:43 - loss: 0.2686 - accuracy: 0.890 - ETA: 20:41 - loss: 0.2687 - accuracy: 0.890 - ETA: 20:40 - loss: 0.2684 - accuracy: 0.891 - ETA: 20:39 - loss: 0.2682 - accuracy: 0.891 - ETA: 20:39 - loss: 0.2677 - accuracy: 0.891 - ETA: 20:40 - loss: 0.2677 - accuracy: 0.891 - ETA: 20:39 - loss: 0.2682 - accuracy: 0.891 - ETA: 20:39 - loss: 0.2678 - accuracy: 0.891 - ETA: 20:37 - loss: 0.2674 - accuracy: 0.891 - ETA: 20:36 - loss: 0.2675 - accuracy: 0.891 - ETA: 20:35 - loss: 0.2673 - accuracy: 0.891 - ETA: 20:34 - loss: 0.2673 - accuracy: 0.892 - ETA: 20:32 - loss: 0.2676 - accuracy: 0.891 - ETA: 20:33 - loss: 0.2672 - accuracy: 0.892 - ETA: 20:32 - loss: 0.2672 - accuracy: 0.892 - ETA: 20:32 - loss: 0.2678 - accuracy: 0.891 - ETA: 20:32 - loss: 0.2676 - accuracy: 0.891 - ETA: 20:30 - loss: 0.2677 - accuracy: 0.891 - ETA: 20:29 - loss: 0.2677 - accuracy: 0.891 - ETA: 20:28 - loss: 0.2681 - accuracy: 0.891 - ETA: 20:26 - loss: 0.2678 - accuracy: 0.891 - ETA: 20:25 - loss: 0.2675 - accuracy: 0.891 - ETA: 20:23 - loss: 0.2674 - accuracy: 0.891 - ETA: 20:22 - loss: 0.2683 - accuracy: 0.891 - ETA: 20:20 - loss: 0.2684 - accuracy: 0.891 - ETA: 20:19 - loss: 0.2679 - accuracy: 0.891 - ETA: 20:17 - loss: 0.2679 - accuracy: 0.891 - ETA: 20:16 - loss: 0.2683 - accuracy: 0.891 - ETA: 20:15 - loss: 0.2679 - accuracy: 0.891 - ETA: 20:13 - loss: 0.2683 - accuracy: 0.890 - ETA: 20:12 - loss: 0.2679 - accuracy: 0.891 - ETA: 20:10 - loss: 0.2680 - accuracy: 0.891 - ETA: 20:09 - loss: 0.2674 - accuracy: 0.891 - ETA: 20:08 - loss: 0.2670 - accuracy: 0.891 - ETA: 20:07 - loss: 0.2671 - accuracy: 0.891 - ETA: 20:05 - loss: 0.2667 - accuracy: 0.891 - ETA: 20:03 - loss: 0.2662 - accuracy: 0.8921 35600/112907 [========>.....................] - ETA: 20:02 - loss: 0.2665 - accuracy: 0.892 - ETA: 20:00 - loss: 0.2663 - accuracy: 0.892 - ETA: 19:59 - loss: 0.2660 - accuracy: 0.892 - ETA: 19:57 - loss: 0.2656 - accuracy: 0.892 - ETA: 19:56 - loss: 0.2653 - accuracy: 0.892 - ETA: 19:55 - loss: 0.2649 - accuracy: 0.892 - ETA: 19:54 - loss: 0.2651 - accuracy: 0.892 - ETA: 19:53 - loss: 0.2653 - accuracy: 0.892 - ETA: 19:51 - loss: 0.2654 - accuracy: 0.892 - ETA: 19:50 - loss: 0.2653 - accuracy: 0.892 - ETA: 19:48 - loss: 0.2652 - accuracy: 0.892 - ETA: 19:47 - loss: 0.2656 - accuracy: 0.891 - ETA: 19:45 - loss: 0.2661 - accuracy: 0.891 - ETA: 19:47 - loss: 0.2658 - accuracy: 0.891 - ETA: 19:47 - loss: 0.2656 - accuracy: 0.891 - ETA: 19:46 - loss: 0.2658 - accuracy: 0.891 - ETA: 19:44 - loss: 0.2651 - accuracy: 0.892 - ETA: 19:43 - loss: 0.2652 - accuracy: 0.891 - ETA: 19:41 - loss: 0.2655 - accuracy: 0.891 - ETA: 19:40 - loss: 0.2654 - accuracy: 0.891 - ETA: 19:38 - loss: 0.2653 - accuracy: 0.891 - ETA: 19:38 - loss: 0.2649 - accuracy: 0.891 - ETA: 19:37 - loss: 0.2649 - accuracy: 0.891 - ETA: 19:36 - loss: 0.2650 - accuracy: 0.891 - ETA: 19:35 - loss: 0.2651 - accuracy: 0.891 - ETA: 19:34 - loss: 0.2647 - accuracy: 0.891 - ETA: 19:32 - loss: 0.2643 - accuracy: 0.891 - ETA: 19:31 - loss: 0.2641 - accuracy: 0.891 - ETA: 19:30 - loss: 0.2643 - accuracy: 0.891 - ETA: 19:28 - loss: 0.2641 - accuracy: 0.891 - ETA: 19:26 - loss: 0.2642 - accuracy: 0.891 - ETA: 19:25 - loss: 0.2644 - accuracy: 0.891 - ETA: 19:23 - loss: 0.2644 - accuracy: 0.891 - ETA: 19:22 - loss: 0.2642 - accuracy: 0.891 - ETA: 19:20 - loss: 0.2640 - accuracy: 0.891 - ETA: 19:19 - loss: 0.2635 - accuracy: 0.891 - ETA: 19:17 - loss: 0.2634 - accuracy: 0.891 - ETA: 19:16 - loss: 0.2635 - accuracy: 0.891 - ETA: 19:14 - loss: 0.2640 - accuracy: 0.891 - ETA: 19:13 - loss: 0.2640 - accuracy: 0.891 - ETA: 19:11 - loss: 0.2645 - accuracy: 0.891 - ETA: 19:10 - loss: 0.2644 - accuracy: 0.891 - ETA: 19:08 - loss: 0.2642 - accuracy: 0.891 - ETA: 19:07 - loss: 0.2641 - accuracy: 0.891 - ETA: 19:06 - loss: 0.2640 - accuracy: 0.891 - ETA: 19:04 - loss: 0.2643 - accuracy: 0.891 - ETA: 19:03 - loss: 0.2644 - accuracy: 0.891 - ETA: 19:02 - loss: 0.2644 - accuracy: 0.891 - ETA: 19:00 - loss: 0.2643 - accuracy: 0.891 - ETA: 18:59 - loss: 0.2646 - accuracy: 0.891 - ETA: 18:57 - loss: 0.2644 - accuracy: 0.891 - ETA: 18:56 - loss: 0.2644 - accuracy: 0.891 - ETA: 18:55 - loss: 0.2648 - accuracy: 0.890 - ETA: 18:54 - loss: 0.2649 - accuracy: 0.890 - ETA: 18:53 - loss: 0.2647 - accuracy: 0.891 - ETA: 18:53 - loss: 0.2646 - accuracy: 0.891 - ETA: 18:52 - loss: 0.2649 - accuracy: 0.890 - ETA: 18:51 - loss: 0.2651 - accuracy: 0.890 - ETA: 18:50 - loss: 0.2650 - accuracy: 0.890 - ETA: 18:48 - loss: 0.2649 - accuracy: 0.890 - ETA: 18:47 - loss: 0.2649 - accuracy: 0.890 - ETA: 18:46 - loss: 0.2651 - accuracy: 0.890 - ETA: 18:44 - loss: 0.2653 - accuracy: 0.890 - ETA: 18:43 - loss: 0.2653 - accuracy: 0.890 - ETA: 18:42 - loss: 0.2658 - accuracy: 0.890 - ETA: 18:41 - loss: 0.2659 - accuracy: 0.889 - ETA: 18:39 - loss: 0.2664 - accuracy: 0.889 - ETA: 18:38 - loss: 0.2662 - accuracy: 0.889 - ETA: 18:37 - loss: 0.2659 - accuracy: 0.889 - ETA: 18:35 - loss: 0.2656 - accuracy: 0.890 - ETA: 18:34 - loss: 0.2657 - accuracy: 0.889 - ETA: 18:33 - loss: 0.2659 - accuracy: 0.889 - ETA: 18:31 - loss: 0.2658 - accuracy: 0.889 - ETA: 18:30 - loss: 0.2658 - accuracy: 0.889 - ETA: 18:29 - loss: 0.2657 - accuracy: 0.889 - ETA: 18:27 - loss: 0.2657 - accuracy: 0.889 - ETA: 18:26 - loss: 0.2657 - accuracy: 0.889 - ETA: 18:25 - loss: 0.2654 - accuracy: 0.889 - ETA: 18:24 - loss: 0.2657 - accuracy: 0.889 - ETA: 18:22 - loss: 0.2657 - accuracy: 0.889 - ETA: 18:21 - loss: 0.2657 - accuracy: 0.889 - ETA: 18:20 - loss: 0.2655 - accuracy: 0.889 - ETA: 18:18 - loss: 0.2653 - accuracy: 0.890 - ETA: 18:17 - loss: 0.2650 - accuracy: 0.890 - ETA: 18:16 - loss: 0.2649 - accuracy: 0.890 - ETA: 18:15 - loss: 0.2652 - accuracy: 0.890 - ETA: 18:14 - loss: 0.2650 - accuracy: 0.890 - ETA: 18:13 - loss: 0.2647 - accuracy: 0.890 - ETA: 18:12 - loss: 0.2646 - accuracy: 0.890 - ETA: 18:11 - loss: 0.2648 - accuracy: 0.890 - ETA: 18:09 - loss: 0.2645 - accuracy: 0.890 - ETA: 18:08 - loss: 0.2644 - accuracy: 0.890 - ETA: 18:06 - loss: 0.2646 - accuracy: 0.890 - ETA: 18:05 - loss: 0.2648 - accuracy: 0.890 - ETA: 18:04 - loss: 0.2651 - accuracy: 0.890 - ETA: 18:02 - loss: 0.2650 - accuracy: 0.890 - ETA: 18:01 - loss: 0.2653 - accuracy: 0.890 - ETA: 17:59 - loss: 0.2653 - accuracy: 0.890 - ETA: 17:58 - loss: 0.2653 - accuracy: 0.890 - ETA: 17:57 - loss: 0.2666 - accuracy: 0.889 - ETA: 17:55 - loss: 0.2666 - accuracy: 0.889 - ETA: 17:54 - loss: 0.2665 - accuracy: 0.889 - ETA: 17:52 - loss: 0.2667 - accuracy: 0.889 - ETA: 17:51 - loss: 0.2668 - accuracy: 0.890 - ETA: 17:50 - loss: 0.2666 - accuracy: 0.890 - ETA: 17:48 - loss: 0.2666 - accuracy: 0.890 - ETA: 17:47 - loss: 0.2666 - accuracy: 0.890 - ETA: 17:46 - loss: 0.2665 - accuracy: 0.890 - ETA: 17:44 - loss: 0.2668 - accuracy: 0.890 - ETA: 17:43 - loss: 0.2667 - accuracy: 0.890 - ETA: 17:42 - loss: 0.2668 - accuracy: 0.890 - ETA: 17:41 - loss: 0.2666 - accuracy: 0.890 - ETA: 17:40 - loss: 0.2662 - accuracy: 0.890 - ETA: 17:38 - loss: 0.2660 - accuracy: 0.890 - ETA: 17:37 - loss: 0.2659 - accuracy: 0.890 - ETA: 17:36 - loss: 0.2658 - accuracy: 0.890 - ETA: 17:35 - loss: 0.2658 - accuracy: 0.890 - ETA: 17:34 - loss: 0.2658 - accuracy: 0.890 - ETA: 17:33 - loss: 0.2654 - accuracy: 0.890 - ETA: 17:32 - loss: 0.2655 - accuracy: 0.890 - ETA: 17:31 - loss: 0.2655 - accuracy: 0.890 - ETA: 17:30 - loss: 0.2656 - accuracy: 0.890 - ETA: 17:28 - loss: 0.2653 - accuracy: 0.890 - ETA: 17:27 - loss: 0.2652 - accuracy: 0.890 - ETA: 17:26 - loss: 0.2650 - accuracy: 0.890 - ETA: 17:25 - loss: 0.2649 - accuracy: 0.890 - ETA: 17:24 - loss: 0.2649 - accuracy: 0.890 - ETA: 17:23 - loss: 0.2653 - accuracy: 0.890 - ETA: 17:21 - loss: 0.2655 - accuracy: 0.890 - ETA: 17:20 - loss: 0.2655 - accuracy: 0.890 - ETA: 17:19 - loss: 0.2655 - accuracy: 0.890 - ETA: 17:17 - loss: 0.2657 - accuracy: 0.890 - ETA: 17:16 - loss: 0.2659 - accuracy: 0.890 - ETA: 17:14 - loss: 0.2657 - accuracy: 0.890 - ETA: 17:13 - loss: 0.2658 - accuracy: 0.890 - ETA: 17:11 - loss: 0.2656 - accuracy: 0.890 - ETA: 17:10 - loss: 0.2656 - accuracy: 0.890 - ETA: 17:09 - loss: 0.2658 - accuracy: 0.890 - ETA: 17:08 - loss: 0.2659 - accuracy: 0.890 - ETA: 17:06 - loss: 0.2658 - accuracy: 0.890 - ETA: 17:05 - loss: 0.2659 - accuracy: 0.890 - ETA: 17:04 - loss: 0.2658 - accuracy: 0.890 - ETA: 17:02 - loss: 0.2657 - accuracy: 0.890 - ETA: 17:01 - loss: 0.2657 - accuracy: 0.890 - ETA: 17:00 - loss: 0.2655 - accuracy: 0.891 - ETA: 16:58 - loss: 0.2656 - accuracy: 0.890 - ETA: 16:57 - loss: 0.2657 - accuracy: 0.890 - ETA: 16:56 - loss: 0.2655 - accuracy: 0.891 - ETA: 16:55 - loss: 0.2654 - accuracy: 0.891 - ETA: 16:53 - loss: 0.2653 - accuracy: 0.891 - ETA: 16:52 - loss: 0.2653 - accuracy: 0.891 - ETA: 16:51 - loss: 0.2654 - accuracy: 0.891 - ETA: 16:50 - loss: 0.2652 - accuracy: 0.891 - ETA: 16:49 - loss: 0.2651 - accuracy: 0.891 - ETA: 16:47 - loss: 0.2651 - accuracy: 0.891 - ETA: 16:46 - loss: 0.2651 - accuracy: 0.891 - ETA: 16:45 - loss: 0.2651 - accuracy: 0.891 - ETA: 16:43 - loss: 0.2650 - accuracy: 0.891 - ETA: 16:42 - loss: 0.2651 - accuracy: 0.891 - ETA: 16:40 - loss: 0.2650 - accuracy: 0.891 - ETA: 16:39 - loss: 0.2653 - accuracy: 0.890 - ETA: 16:38 - loss: 0.2651 - accuracy: 0.890 - ETA: 16:37 - loss: 0.2650 - accuracy: 0.891 - ETA: 16:35 - loss: 0.2650 - accuracy: 0.891 - ETA: 16:34 - loss: 0.2650 - accuracy: 0.891 - ETA: 16:33 - loss: 0.2647 - accuracy: 0.891 - ETA: 16:31 - loss: 0.2646 - accuracy: 0.891 - ETA: 16:30 - loss: 0.2644 - accuracy: 0.891 - ETA: 16:29 - loss: 0.2642 - accuracy: 0.891 - ETA: 16:27 - loss: 0.2645 - accuracy: 0.891 - ETA: 16:26 - loss: 0.2645 - accuracy: 0.891 - ETA: 16:24 - loss: 0.2648 - accuracy: 0.891 - ETA: 16:23 - loss: 0.2648 - accuracy: 0.891 - ETA: 16:22 - loss: 0.2648 - accuracy: 0.891 - ETA: 16:21 - loss: 0.2649 - accuracy: 0.891 - ETA: 16:20 - loss: 0.2649 - accuracy: 0.890 - ETA: 16:18 - loss: 0.2648 - accuracy: 0.890 - ETA: 16:17 - loss: 0.2647 - accuracy: 0.8910"
     ]
    },
    {
     "name": "stdout",
     "output_type": "stream",
     "text": [
      " 53400/112907 [=============>................] - ETA: 16:16 - loss: 0.2649 - accuracy: 0.890 - ETA: 16:14 - loss: 0.2650 - accuracy: 0.890 - ETA: 16:13 - loss: 0.2651 - accuracy: 0.890 - ETA: 16:12 - loss: 0.2650 - accuracy: 0.890 - ETA: 16:11 - loss: 0.2651 - accuracy: 0.890 - ETA: 16:09 - loss: 0.2654 - accuracy: 0.890 - ETA: 16:08 - loss: 0.2653 - accuracy: 0.890 - ETA: 16:07 - loss: 0.2652 - accuracy: 0.890 - ETA: 16:06 - loss: 0.2652 - accuracy: 0.890 - ETA: 16:04 - loss: 0.2652 - accuracy: 0.890 - ETA: 16:03 - loss: 0.2650 - accuracy: 0.890 - ETA: 16:02 - loss: 0.2650 - accuracy: 0.890 - ETA: 16:00 - loss: 0.2650 - accuracy: 0.890 - ETA: 15:59 - loss: 0.2648 - accuracy: 0.890 - ETA: 15:58 - loss: 0.2647 - accuracy: 0.890 - ETA: 15:56 - loss: 0.2648 - accuracy: 0.890 - ETA: 15:55 - loss: 0.2650 - accuracy: 0.890 - ETA: 15:53 - loss: 0.2648 - accuracy: 0.890 - ETA: 15:52 - loss: 0.2646 - accuracy: 0.890 - ETA: 15:51 - loss: 0.2646 - accuracy: 0.890 - ETA: 15:49 - loss: 0.2646 - accuracy: 0.890 - ETA: 15:48 - loss: 0.2648 - accuracy: 0.890 - ETA: 15:47 - loss: 0.2649 - accuracy: 0.890 - ETA: 15:45 - loss: 0.2649 - accuracy: 0.890 - ETA: 15:44 - loss: 0.2651 - accuracy: 0.890 - ETA: 15:43 - loss: 0.2653 - accuracy: 0.890 - ETA: 15:41 - loss: 0.2652 - accuracy: 0.890 - ETA: 15:40 - loss: 0.2653 - accuracy: 0.890 - ETA: 15:39 - loss: 0.2651 - accuracy: 0.890 - ETA: 15:37 - loss: 0.2652 - accuracy: 0.890 - ETA: 15:36 - loss: 0.2650 - accuracy: 0.890 - ETA: 15:35 - loss: 0.2653 - accuracy: 0.890 - ETA: 15:33 - loss: 0.2652 - accuracy: 0.890 - ETA: 15:32 - loss: 0.2651 - accuracy: 0.890 - ETA: 15:31 - loss: 0.2650 - accuracy: 0.890 - ETA: 15:30 - loss: 0.2649 - accuracy: 0.890 - ETA: 15:29 - loss: 0.2652 - accuracy: 0.890 - ETA: 15:28 - loss: 0.2651 - accuracy: 0.890 - ETA: 15:27 - loss: 0.2651 - accuracy: 0.890 - ETA: 15:26 - loss: 0.2650 - accuracy: 0.890 - ETA: 15:25 - loss: 0.2650 - accuracy: 0.890 - ETA: 15:24 - loss: 0.2651 - accuracy: 0.890 - ETA: 15:22 - loss: 0.2652 - accuracy: 0.890 - ETA: 15:21 - loss: 0.2650 - accuracy: 0.890 - ETA: 15:20 - loss: 0.2650 - accuracy: 0.890 - ETA: 15:19 - loss: 0.2650 - accuracy: 0.890 - ETA: 15:18 - loss: 0.2649 - accuracy: 0.890 - ETA: 15:17 - loss: 0.2649 - accuracy: 0.890 - ETA: 15:16 - loss: 0.2647 - accuracy: 0.890 - ETA: 15:14 - loss: 0.2646 - accuracy: 0.890 - ETA: 15:13 - loss: 0.2643 - accuracy: 0.890 - ETA: 15:12 - loss: 0.2642 - accuracy: 0.890 - ETA: 15:10 - loss: 0.2643 - accuracy: 0.890 - ETA: 15:09 - loss: 0.2643 - accuracy: 0.890 - ETA: 15:08 - loss: 0.2642 - accuracy: 0.890 - ETA: 15:06 - loss: 0.2643 - accuracy: 0.890 - ETA: 15:05 - loss: 0.2644 - accuracy: 0.890 - ETA: 15:04 - loss: 0.2645 - accuracy: 0.890 - ETA: 15:02 - loss: 0.2644 - accuracy: 0.890 - ETA: 15:01 - loss: 0.2645 - accuracy: 0.890 - ETA: 15:00 - loss: 0.2645 - accuracy: 0.890 - ETA: 14:58 - loss: 0.2644 - accuracy: 0.890 - ETA: 14:57 - loss: 0.2645 - accuracy: 0.890 - ETA: 14:56 - loss: 0.2645 - accuracy: 0.890 - ETA: 14:54 - loss: 0.2644 - accuracy: 0.890 - ETA: 14:53 - loss: 0.2644 - accuracy: 0.890 - ETA: 14:52 - loss: 0.2643 - accuracy: 0.890 - ETA: 14:51 - loss: 0.2643 - accuracy: 0.890 - ETA: 14:49 - loss: 0.2645 - accuracy: 0.890 - ETA: 14:48 - loss: 0.2643 - accuracy: 0.890 - ETA: 14:47 - loss: 0.2643 - accuracy: 0.890 - ETA: 14:46 - loss: 0.2645 - accuracy: 0.890 - ETA: 14:45 - loss: 0.2645 - accuracy: 0.890 - ETA: 14:43 - loss: 0.2644 - accuracy: 0.890 - ETA: 14:42 - loss: 0.2647 - accuracy: 0.890 - ETA: 14:41 - loss: 0.2647 - accuracy: 0.890 - ETA: 14:39 - loss: 0.2649 - accuracy: 0.890 - ETA: 14:38 - loss: 0.2649 - accuracy: 0.890 - ETA: 14:37 - loss: 0.2648 - accuracy: 0.890 - ETA: 14:36 - loss: 0.2646 - accuracy: 0.890 - ETA: 14:34 - loss: 0.2646 - accuracy: 0.890 - ETA: 14:33 - loss: 0.2647 - accuracy: 0.890 - ETA: 14:32 - loss: 0.2645 - accuracy: 0.890 - ETA: 14:30 - loss: 0.2648 - accuracy: 0.890 - ETA: 14:29 - loss: 0.2649 - accuracy: 0.890 - ETA: 14:28 - loss: 0.2649 - accuracy: 0.890 - ETA: 14:26 - loss: 0.2647 - accuracy: 0.890 - ETA: 14:26 - loss: 0.2645 - accuracy: 0.890 - ETA: 14:24 - loss: 0.2645 - accuracy: 0.890 - ETA: 14:23 - loss: 0.2645 - accuracy: 0.890 - ETA: 14:22 - loss: 0.2649 - accuracy: 0.890 - ETA: 14:21 - loss: 0.2650 - accuracy: 0.890 - ETA: 14:19 - loss: 0.2649 - accuracy: 0.890 - ETA: 14:18 - loss: 0.2653 - accuracy: 0.890 - ETA: 14:17 - loss: 0.2652 - accuracy: 0.890 - ETA: 14:16 - loss: 0.2652 - accuracy: 0.890 - ETA: 14:14 - loss: 0.2654 - accuracy: 0.890 - ETA: 14:13 - loss: 0.2655 - accuracy: 0.890 - ETA: 14:12 - loss: 0.2653 - accuracy: 0.890 - ETA: 14:11 - loss: 0.2651 - accuracy: 0.890 - ETA: 14:10 - loss: 0.2652 - accuracy: 0.890 - ETA: 14:09 - loss: 0.2653 - accuracy: 0.890 - ETA: 14:07 - loss: 0.2654 - accuracy: 0.890 - ETA: 14:06 - loss: 0.2654 - accuracy: 0.890 - ETA: 14:05 - loss: 0.2654 - accuracy: 0.890 - ETA: 14:04 - loss: 0.2654 - accuracy: 0.890 - ETA: 14:02 - loss: 0.2654 - accuracy: 0.890 - ETA: 14:01 - loss: 0.2655 - accuracy: 0.890 - ETA: 14:00 - loss: 0.2657 - accuracy: 0.889 - ETA: 13:59 - loss: 0.2657 - accuracy: 0.889 - ETA: 13:57 - loss: 0.2656 - accuracy: 0.889 - ETA: 13:56 - loss: 0.2656 - accuracy: 0.889 - ETA: 13:55 - loss: 0.2657 - accuracy: 0.889 - ETA: 13:53 - loss: 0.2657 - accuracy: 0.889 - ETA: 13:52 - loss: 0.2656 - accuracy: 0.889 - ETA: 13:51 - loss: 0.2657 - accuracy: 0.889 - ETA: 13:49 - loss: 0.2658 - accuracy: 0.889 - ETA: 13:48 - loss: 0.2657 - accuracy: 0.889 - ETA: 13:47 - loss: 0.2657 - accuracy: 0.889 - ETA: 13:46 - loss: 0.2655 - accuracy: 0.889 - ETA: 13:44 - loss: 0.2655 - accuracy: 0.889 - ETA: 13:43 - loss: 0.2656 - accuracy: 0.889 - ETA: 13:42 - loss: 0.2656 - accuracy: 0.889 - ETA: 13:41 - loss: 0.2655 - accuracy: 0.889 - ETA: 13:40 - loss: 0.2656 - accuracy: 0.889 - ETA: 13:38 - loss: 0.2659 - accuracy: 0.889 - ETA: 13:37 - loss: 0.2660 - accuracy: 0.889 - ETA: 13:36 - loss: 0.2661 - accuracy: 0.889 - ETA: 13:35 - loss: 0.2662 - accuracy: 0.889 - ETA: 13:34 - loss: 0.2661 - accuracy: 0.889 - ETA: 13:32 - loss: 0.2662 - accuracy: 0.889 - ETA: 13:31 - loss: 0.2662 - accuracy: 0.889 - ETA: 13:30 - loss: 0.2662 - accuracy: 0.889 - ETA: 13:29 - loss: 0.2663 - accuracy: 0.889 - ETA: 13:27 - loss: 0.2662 - accuracy: 0.889 - ETA: 13:26 - loss: 0.2662 - accuracy: 0.889 - ETA: 13:25 - loss: 0.2661 - accuracy: 0.889 - ETA: 13:24 - loss: 0.2661 - accuracy: 0.889 - ETA: 13:22 - loss: 0.2660 - accuracy: 0.889 - ETA: 13:21 - loss: 0.2659 - accuracy: 0.889 - ETA: 13:20 - loss: 0.2661 - accuracy: 0.889 - ETA: 13:19 - loss: 0.2661 - accuracy: 0.889 - ETA: 13:17 - loss: 0.2660 - accuracy: 0.889 - ETA: 13:16 - loss: 0.2661 - accuracy: 0.889 - ETA: 13:15 - loss: 0.2659 - accuracy: 0.889 - ETA: 13:13 - loss: 0.2659 - accuracy: 0.889 - ETA: 13:12 - loss: 0.2661 - accuracy: 0.889 - ETA: 13:11 - loss: 0.2660 - accuracy: 0.889 - ETA: 13:09 - loss: 0.2658 - accuracy: 0.889 - ETA: 13:08 - loss: 0.2658 - accuracy: 0.889 - ETA: 13:07 - loss: 0.2659 - accuracy: 0.889 - ETA: 13:05 - loss: 0.2659 - accuracy: 0.889 - ETA: 13:04 - loss: 0.2658 - accuracy: 0.889 - ETA: 13:03 - loss: 0.2658 - accuracy: 0.889 - ETA: 13:03 - loss: 0.2656 - accuracy: 0.889 - ETA: 13:04 - loss: 0.2654 - accuracy: 0.889 - ETA: 13:03 - loss: 0.2653 - accuracy: 0.889 - ETA: 13:03 - loss: 0.2654 - accuracy: 0.889 - ETA: 13:03 - loss: 0.2654 - accuracy: 0.889 - ETA: 13:02 - loss: 0.2654 - accuracy: 0.889 - ETA: 13:01 - loss: 0.2652 - accuracy: 0.889 - ETA: 13:01 - loss: 0.2651 - accuracy: 0.889 - ETA: 13:00 - loss: 0.2650 - accuracy: 0.889 - ETA: 12:59 - loss: 0.2649 - accuracy: 0.889 - ETA: 12:58 - loss: 0.2650 - accuracy: 0.889 - ETA: 12:58 - loss: 0.2650 - accuracy: 0.889 - ETA: 12:57 - loss: 0.2649 - accuracy: 0.889 - ETA: 12:56 - loss: 0.2649 - accuracy: 0.889 - ETA: 12:55 - loss: 0.2648 - accuracy: 0.889 - ETA: 12:53 - loss: 0.2647 - accuracy: 0.889 - ETA: 12:52 - loss: 0.2649 - accuracy: 0.889 - ETA: 12:51 - loss: 0.2648 - accuracy: 0.889 - ETA: 12:50 - loss: 0.2647 - accuracy: 0.889 - ETA: 12:49 - loss: 0.2645 - accuracy: 0.889 - ETA: 12:47 - loss: 0.2645 - accuracy: 0.889 - ETA: 12:46 - loss: 0.2644 - accuracy: 0.889 - ETA: 12:45 - loss: 0.2642 - accuracy: 0.889 - ETA: 12:45 - loss: 0.2642 - accuracy: 0.8898"
     ]
    },
    {
     "name": "stdout",
     "output_type": "stream",
     "text": [
      " 71300/112907 [=================>............] - ETA: 12:44 - loss: 0.2642 - accuracy: 0.889 - ETA: 12:43 - loss: 0.2641 - accuracy: 0.889 - ETA: 12:42 - loss: 0.2640 - accuracy: 0.889 - ETA: 12:41 - loss: 0.2639 - accuracy: 0.889 - ETA: 12:40 - loss: 0.2639 - accuracy: 0.889 - ETA: 12:39 - loss: 0.2638 - accuracy: 0.889 - ETA: 12:38 - loss: 0.2637 - accuracy: 0.889 - ETA: 12:37 - loss: 0.2636 - accuracy: 0.889 - ETA: 12:36 - loss: 0.2636 - accuracy: 0.889 - ETA: 12:35 - loss: 0.2634 - accuracy: 0.890 - ETA: 12:34 - loss: 0.2635 - accuracy: 0.889 - ETA: 12:33 - loss: 0.2634 - accuracy: 0.889 - ETA: 12:31 - loss: 0.2634 - accuracy: 0.890 - ETA: 12:30 - loss: 0.2634 - accuracy: 0.890 - ETA: 12:29 - loss: 0.2633 - accuracy: 0.890 - ETA: 12:28 - loss: 0.2635 - accuracy: 0.889 - ETA: 12:26 - loss: 0.2634 - accuracy: 0.889 - ETA: 12:25 - loss: 0.2635 - accuracy: 0.889 - ETA: 12:23 - loss: 0.2634 - accuracy: 0.889 - ETA: 12:22 - loss: 0.2636 - accuracy: 0.889 - ETA: 12:21 - loss: 0.2637 - accuracy: 0.889 - ETA: 12:19 - loss: 0.2638 - accuracy: 0.889 - ETA: 12:18 - loss: 0.2637 - accuracy: 0.889 - ETA: 12:16 - loss: 0.2637 - accuracy: 0.889 - ETA: 12:15 - loss: 0.2641 - accuracy: 0.889 - ETA: 12:14 - loss: 0.2640 - accuracy: 0.889 - ETA: 12:12 - loss: 0.2640 - accuracy: 0.889 - ETA: 12:11 - loss: 0.2639 - accuracy: 0.889 - ETA: 12:10 - loss: 0.2639 - accuracy: 0.889 - ETA: 12:08 - loss: 0.2640 - accuracy: 0.889 - ETA: 12:07 - loss: 0.2639 - accuracy: 0.889 - ETA: 12:06 - loss: 0.2640 - accuracy: 0.889 - ETA: 12:04 - loss: 0.2640 - accuracy: 0.889 - ETA: 12:03 - loss: 0.2638 - accuracy: 0.889 - ETA: 12:02 - loss: 0.2640 - accuracy: 0.889 - ETA: 12:01 - loss: 0.2639 - accuracy: 0.889 - ETA: 12:00 - loss: 0.2639 - accuracy: 0.889 - ETA: 11:58 - loss: 0.2639 - accuracy: 0.889 - ETA: 11:57 - loss: 0.2640 - accuracy: 0.889 - ETA: 11:56 - loss: 0.2640 - accuracy: 0.889 - ETA: 11:54 - loss: 0.2639 - accuracy: 0.889 - ETA: 11:53 - loss: 0.2640 - accuracy: 0.889 - ETA: 11:52 - loss: 0.2639 - accuracy: 0.889 - ETA: 11:50 - loss: 0.2640 - accuracy: 0.889 - ETA: 11:49 - loss: 0.2640 - accuracy: 0.889 - ETA: 11:48 - loss: 0.2640 - accuracy: 0.889 - ETA: 11:46 - loss: 0.2640 - accuracy: 0.889 - ETA: 11:45 - loss: 0.2640 - accuracy: 0.889 - ETA: 11:44 - loss: 0.2639 - accuracy: 0.889 - ETA: 11:42 - loss: 0.2639 - accuracy: 0.889 - ETA: 11:41 - loss: 0.2640 - accuracy: 0.889 - ETA: 11:40 - loss: 0.2639 - accuracy: 0.889 - ETA: 11:39 - loss: 0.2638 - accuracy: 0.889 - ETA: 11:38 - loss: 0.2637 - accuracy: 0.889 - ETA: 11:37 - loss: 0.2636 - accuracy: 0.889 - ETA: 11:35 - loss: 0.2636 - accuracy: 0.889 - ETA: 11:34 - loss: 0.2636 - accuracy: 0.889 - ETA: 11:33 - loss: 0.2636 - accuracy: 0.889 - ETA: 11:32 - loss: 0.2636 - accuracy: 0.889 - ETA: 11:31 - loss: 0.2635 - accuracy: 0.890 - ETA: 11:30 - loss: 0.2635 - accuracy: 0.890 - ETA: 11:28 - loss: 0.2635 - accuracy: 0.890 - ETA: 11:27 - loss: 0.2636 - accuracy: 0.890 - ETA: 11:27 - loss: 0.2638 - accuracy: 0.889 - ETA: 11:26 - loss: 0.2637 - accuracy: 0.889 - ETA: 11:25 - loss: 0.2638 - accuracy: 0.889 - ETA: 11:24 - loss: 0.2639 - accuracy: 0.889 - ETA: 11:22 - loss: 0.2639 - accuracy: 0.889 - ETA: 11:21 - loss: 0.2638 - accuracy: 0.889 - ETA: 11:20 - loss: 0.2638 - accuracy: 0.889 - ETA: 11:19 - loss: 0.2637 - accuracy: 0.889 - ETA: 11:18 - loss: 0.2637 - accuracy: 0.889 - ETA: 11:17 - loss: 0.2637 - accuracy: 0.889 - ETA: 11:15 - loss: 0.2636 - accuracy: 0.889 - ETA: 11:14 - loss: 0.2636 - accuracy: 0.889 - ETA: 11:13 - loss: 0.2635 - accuracy: 0.889 - ETA: 11:12 - loss: 0.2636 - accuracy: 0.889 - ETA: 11:11 - loss: 0.2634 - accuracy: 0.890 - ETA: 11:09 - loss: 0.2635 - accuracy: 0.889 - ETA: 11:08 - loss: 0.2634 - accuracy: 0.890 - ETA: 11:07 - loss: 0.2634 - accuracy: 0.890 - ETA: 11:06 - loss: 0.2633 - accuracy: 0.890 - ETA: 11:04 - loss: 0.2634 - accuracy: 0.890 - ETA: 11:03 - loss: 0.2633 - accuracy: 0.890 - ETA: 11:02 - loss: 0.2633 - accuracy: 0.890 - ETA: 11:01 - loss: 0.2634 - accuracy: 0.890 - ETA: 10:59 - loss: 0.2634 - accuracy: 0.890 - ETA: 10:58 - loss: 0.2635 - accuracy: 0.890 - ETA: 10:57 - loss: 0.2635 - accuracy: 0.890 - ETA: 10:56 - loss: 0.2635 - accuracy: 0.890 - ETA: 10:54 - loss: 0.2635 - accuracy: 0.890 - ETA: 10:53 - loss: 0.2635 - accuracy: 0.890 - ETA: 10:52 - loss: 0.2635 - accuracy: 0.890 - ETA: 10:51 - loss: 0.2635 - accuracy: 0.890 - ETA: 10:50 - loss: 0.2635 - accuracy: 0.890 - ETA: 10:49 - loss: 0.2635 - accuracy: 0.890 - ETA: 10:48 - loss: 0.2636 - accuracy: 0.890 - ETA: 10:46 - loss: 0.2635 - accuracy: 0.890 - ETA: 10:45 - loss: 0.2634 - accuracy: 0.890 - ETA: 10:44 - loss: 0.2635 - accuracy: 0.890 - ETA: 10:43 - loss: 0.2635 - accuracy: 0.890 - ETA: 10:42 - loss: 0.2635 - accuracy: 0.890 - ETA: 10:40 - loss: 0.2635 - accuracy: 0.890 - ETA: 10:39 - loss: 0.2634 - accuracy: 0.890 - ETA: 10:38 - loss: 0.2634 - accuracy: 0.890 - ETA: 10:37 - loss: 0.2635 - accuracy: 0.890 - ETA: 10:36 - loss: 0.2634 - accuracy: 0.890 - ETA: 10:34 - loss: 0.2635 - accuracy: 0.890 - ETA: 10:33 - loss: 0.2635 - accuracy: 0.890 - ETA: 10:32 - loss: 0.2635 - accuracy: 0.890 - ETA: 10:31 - loss: 0.2635 - accuracy: 0.890 - ETA: 10:30 - loss: 0.2635 - accuracy: 0.890 - ETA: 10:29 - loss: 0.2634 - accuracy: 0.890 - ETA: 10:27 - loss: 0.2633 - accuracy: 0.890 - ETA: 10:26 - loss: 0.2635 - accuracy: 0.890 - ETA: 10:25 - loss: 0.2635 - accuracy: 0.890 - ETA: 10:24 - loss: 0.2636 - accuracy: 0.890 - ETA: 10:23 - loss: 0.2636 - accuracy: 0.890 - ETA: 10:22 - loss: 0.2636 - accuracy: 0.890 - ETA: 10:21 - loss: 0.2635 - accuracy: 0.890 - ETA: 10:19 - loss: 0.2635 - accuracy: 0.890 - ETA: 10:18 - loss: 0.2636 - accuracy: 0.890 - ETA: 10:17 - loss: 0.2636 - accuracy: 0.890 - ETA: 10:16 - loss: 0.2634 - accuracy: 0.890 - ETA: 10:15 - loss: 0.2633 - accuracy: 0.890 - ETA: 10:14 - loss: 0.2634 - accuracy: 0.890 - ETA: 10:12 - loss: 0.2635 - accuracy: 0.890 - ETA: 10:11 - loss: 0.2634 - accuracy: 0.890 - ETA: 10:10 - loss: 0.2635 - accuracy: 0.890 - ETA: 10:09 - loss: 0.2635 - accuracy: 0.890 - ETA: 10:08 - loss: 0.2634 - accuracy: 0.890 - ETA: 10:06 - loss: 0.2634 - accuracy: 0.890 - ETA: 10:05 - loss: 0.2635 - accuracy: 0.890 - ETA: 10:04 - loss: 0.2636 - accuracy: 0.890 - ETA: 10:03 - loss: 0.2636 - accuracy: 0.890 - ETA: 10:02 - loss: 0.2635 - accuracy: 0.890 - ETA: 10:01 - loss: 0.2636 - accuracy: 0.890 - ETA: 10:00 - loss: 0.2635 - accuracy: 0.890 - ETA: 9:59 - loss: 0.2634 - accuracy: 0.890 - ETA: 9:58 - loss: 0.2634 - accuracy: 0.89 - ETA: 9:57 - loss: 0.2633 - accuracy: 0.89 - ETA: 9:56 - loss: 0.2633 - accuracy: 0.89 - ETA: 9:54 - loss: 0.2632 - accuracy: 0.89 - ETA: 9:53 - loss: 0.2632 - accuracy: 0.89 - ETA: 9:52 - loss: 0.2633 - accuracy: 0.89 - ETA: 9:51 - loss: 0.2632 - accuracy: 0.89 - ETA: 9:50 - loss: 0.2632 - accuracy: 0.89 - ETA: 9:48 - loss: 0.2631 - accuracy: 0.89 - ETA: 9:47 - loss: 0.2631 - accuracy: 0.89 - ETA: 9:46 - loss: 0.2631 - accuracy: 0.89 - ETA: 9:45 - loss: 0.2629 - accuracy: 0.89 - ETA: 9:43 - loss: 0.2629 - accuracy: 0.89 - ETA: 9:42 - loss: 0.2629 - accuracy: 0.89 - ETA: 9:41 - loss: 0.2630 - accuracy: 0.89 - ETA: 9:40 - loss: 0.2629 - accuracy: 0.89 - ETA: 9:38 - loss: 0.2631 - accuracy: 0.89 - ETA: 9:37 - loss: 0.2632 - accuracy: 0.89 - ETA: 9:36 - loss: 0.2631 - accuracy: 0.89 - ETA: 9:35 - loss: 0.2633 - accuracy: 0.89 - ETA: 9:33 - loss: 0.2633 - accuracy: 0.89 - ETA: 9:32 - loss: 0.2633 - accuracy: 0.89 - ETA: 9:31 - loss: 0.2633 - accuracy: 0.89 - ETA: 9:30 - loss: 0.2633 - accuracy: 0.89 - ETA: 9:28 - loss: 0.2633 - accuracy: 0.89 - ETA: 9:27 - loss: 0.2634 - accuracy: 0.89 - ETA: 9:26 - loss: 0.2635 - accuracy: 0.89 - ETA: 9:24 - loss: 0.2635 - accuracy: 0.89 - ETA: 9:23 - loss: 0.2634 - accuracy: 0.89 - ETA: 9:22 - loss: 0.2634 - accuracy: 0.89 - ETA: 9:20 - loss: 0.2634 - accuracy: 0.89 - ETA: 9:19 - loss: 0.2634 - accuracy: 0.89 - ETA: 9:18 - loss: 0.2634 - accuracy: 0.89 - ETA: 9:17 - loss: 0.2633 - accuracy: 0.89 - ETA: 9:15 - loss: 0.2632 - accuracy: 0.89 - ETA: 9:14 - loss: 0.2632 - accuracy: 0.89 - ETA: 9:13 - loss: 0.2633 - accuracy: 0.89 - ETA: 9:12 - loss: 0.2633 - accuracy: 0.89 - ETA: 9:11 - loss: 0.2633 - accuracy: 0.89 - ETA: 9:10 - loss: 0.2632 - accuracy: 0.8902"
     ]
    },
    {
     "name": "stdout",
     "output_type": "stream",
     "text": [
      " 89900/112907 [======================>.......] - ETA: 9:09 - loss: 0.2632 - accuracy: 0.89 - ETA: 9:07 - loss: 0.2631 - accuracy: 0.89 - ETA: 9:07 - loss: 0.2633 - accuracy: 0.89 - ETA: 9:06 - loss: 0.2633 - accuracy: 0.89 - ETA: 9:04 - loss: 0.2632 - accuracy: 0.89 - ETA: 9:03 - loss: 0.2632 - accuracy: 0.89 - ETA: 9:02 - loss: 0.2632 - accuracy: 0.89 - ETA: 9:01 - loss: 0.2632 - accuracy: 0.89 - ETA: 9:00 - loss: 0.2633 - accuracy: 0.89 - ETA: 8:59 - loss: 0.2632 - accuracy: 0.89 - ETA: 8:57 - loss: 0.2632 - accuracy: 0.89 - ETA: 8:56 - loss: 0.2632 - accuracy: 0.89 - ETA: 8:55 - loss: 0.2633 - accuracy: 0.89 - ETA: 8:54 - loss: 0.2632 - accuracy: 0.89 - ETA: 8:52 - loss: 0.2631 - accuracy: 0.89 - ETA: 8:51 - loss: 0.2632 - accuracy: 0.89 - ETA: 8:50 - loss: 0.2631 - accuracy: 0.89 - ETA: 8:49 - loss: 0.2631 - accuracy: 0.89 - ETA: 8:47 - loss: 0.2631 - accuracy: 0.89 - ETA: 8:46 - loss: 0.2631 - accuracy: 0.89 - ETA: 8:45 - loss: 0.2630 - accuracy: 0.89 - ETA: 8:43 - loss: 0.2630 - accuracy: 0.89 - ETA: 8:42 - loss: 0.2629 - accuracy: 0.89 - ETA: 8:41 - loss: 0.2629 - accuracy: 0.89 - ETA: 8:40 - loss: 0.2628 - accuracy: 0.89 - ETA: 8:39 - loss: 0.2629 - accuracy: 0.89 - ETA: 8:37 - loss: 0.2629 - accuracy: 0.89 - ETA: 8:36 - loss: 0.2628 - accuracy: 0.89 - ETA: 8:35 - loss: 0.2627 - accuracy: 0.89 - ETA: 8:33 - loss: 0.2626 - accuracy: 0.89 - ETA: 8:32 - loss: 0.2627 - accuracy: 0.89 - ETA: 8:31 - loss: 0.2627 - accuracy: 0.89 - ETA: 8:30 - loss: 0.2627 - accuracy: 0.89 - ETA: 8:28 - loss: 0.2626 - accuracy: 0.89 - ETA: 8:27 - loss: 0.2628 - accuracy: 0.89 - ETA: 8:26 - loss: 0.2628 - accuracy: 0.89 - ETA: 8:25 - loss: 0.2629 - accuracy: 0.89 - ETA: 8:24 - loss: 0.2628 - accuracy: 0.89 - ETA: 8:23 - loss: 0.2628 - accuracy: 0.89 - ETA: 8:21 - loss: 0.2628 - accuracy: 0.89 - ETA: 8:20 - loss: 0.2628 - accuracy: 0.89 - ETA: 8:19 - loss: 0.2629 - accuracy: 0.89 - ETA: 8:17 - loss: 0.2628 - accuracy: 0.89 - ETA: 8:16 - loss: 0.2628 - accuracy: 0.89 - ETA: 8:15 - loss: 0.2628 - accuracy: 0.89 - ETA: 8:13 - loss: 0.2629 - accuracy: 0.89 - ETA: 8:12 - loss: 0.2628 - accuracy: 0.89 - ETA: 8:11 - loss: 0.2629 - accuracy: 0.89 - ETA: 8:10 - loss: 0.2629 - accuracy: 0.89 - ETA: 8:09 - loss: 0.2628 - accuracy: 0.89 - ETA: 8:07 - loss: 0.2628 - accuracy: 0.89 - ETA: 8:06 - loss: 0.2628 - accuracy: 0.89 - ETA: 8:05 - loss: 0.2627 - accuracy: 0.89 - ETA: 8:03 - loss: 0.2626 - accuracy: 0.89 - ETA: 8:02 - loss: 0.2625 - accuracy: 0.89 - ETA: 8:01 - loss: 0.2625 - accuracy: 0.89 - ETA: 7:59 - loss: 0.2624 - accuracy: 0.89 - ETA: 7:58 - loss: 0.2624 - accuracy: 0.89 - ETA: 7:57 - loss: 0.2625 - accuracy: 0.89 - ETA: 7:55 - loss: 0.2623 - accuracy: 0.89 - ETA: 7:54 - loss: 0.2626 - accuracy: 0.89 - ETA: 7:53 - loss: 0.2627 - accuracy: 0.89 - ETA: 7:51 - loss: 0.2627 - accuracy: 0.89 - ETA: 7:50 - loss: 0.2627 - accuracy: 0.89 - ETA: 7:49 - loss: 0.2627 - accuracy: 0.89 - ETA: 7:47 - loss: 0.2627 - accuracy: 0.89 - ETA: 7:46 - loss: 0.2627 - accuracy: 0.89 - ETA: 7:45 - loss: 0.2626 - accuracy: 0.89 - ETA: 7:44 - loss: 0.2626 - accuracy: 0.89 - ETA: 7:42 - loss: 0.2627 - accuracy: 0.89 - ETA: 7:41 - loss: 0.2628 - accuracy: 0.89 - ETA: 7:40 - loss: 0.2628 - accuracy: 0.89 - ETA: 7:38 - loss: 0.2628 - accuracy: 0.89 - ETA: 7:37 - loss: 0.2627 - accuracy: 0.89 - ETA: 7:36 - loss: 0.2627 - accuracy: 0.89 - ETA: 7:34 - loss: 0.2626 - accuracy: 0.89 - ETA: 7:33 - loss: 0.2626 - accuracy: 0.89 - ETA: 7:32 - loss: 0.2626 - accuracy: 0.89 - ETA: 7:31 - loss: 0.2625 - accuracy: 0.89 - ETA: 7:30 - loss: 0.2625 - accuracy: 0.89 - ETA: 7:29 - loss: 0.2625 - accuracy: 0.89 - ETA: 7:27 - loss: 0.2625 - accuracy: 0.89 - ETA: 7:26 - loss: 0.2623 - accuracy: 0.89 - ETA: 7:25 - loss: 0.2622 - accuracy: 0.89 - ETA: 7:23 - loss: 0.2621 - accuracy: 0.89 - ETA: 7:22 - loss: 0.2620 - accuracy: 0.89 - ETA: 7:21 - loss: 0.2619 - accuracy: 0.89 - ETA: 7:19 - loss: 0.2619 - accuracy: 0.89 - ETA: 7:18 - loss: 0.2619 - accuracy: 0.89 - ETA: 7:17 - loss: 0.2619 - accuracy: 0.89 - ETA: 7:16 - loss: 0.2619 - accuracy: 0.89 - ETA: 7:14 - loss: 0.2620 - accuracy: 0.89 - ETA: 7:13 - loss: 0.2620 - accuracy: 0.89 - ETA: 7:12 - loss: 0.2619 - accuracy: 0.89 - ETA: 7:11 - loss: 0.2619 - accuracy: 0.89 - ETA: 7:10 - loss: 0.2620 - accuracy: 0.89 - ETA: 7:08 - loss: 0.2620 - accuracy: 0.89 - ETA: 7:07 - loss: 0.2619 - accuracy: 0.89 - ETA: 7:06 - loss: 0.2618 - accuracy: 0.89 - ETA: 7:05 - loss: 0.2619 - accuracy: 0.89 - ETA: 7:04 - loss: 0.2619 - accuracy: 0.89 - ETA: 7:03 - loss: 0.2620 - accuracy: 0.89 - ETA: 7:01 - loss: 0.2619 - accuracy: 0.89 - ETA: 7:00 - loss: 0.2619 - accuracy: 0.89 - ETA: 6:59 - loss: 0.2618 - accuracy: 0.89 - ETA: 6:57 - loss: 0.2619 - accuracy: 0.89 - ETA: 6:56 - loss: 0.2619 - accuracy: 0.89 - ETA: 6:55 - loss: 0.2619 - accuracy: 0.89 - ETA: 6:53 - loss: 0.2618 - accuracy: 0.89 - ETA: 6:52 - loss: 0.2618 - accuracy: 0.89 - ETA: 6:51 - loss: 0.2619 - accuracy: 0.89 - ETA: 6:50 - loss: 0.2618 - accuracy: 0.89 - ETA: 6:48 - loss: 0.2618 - accuracy: 0.89 - ETA: 6:47 - loss: 0.2618 - accuracy: 0.89 - ETA: 6:46 - loss: 0.2619 - accuracy: 0.89 - ETA: 6:44 - loss: 0.2619 - accuracy: 0.89 - ETA: 6:43 - loss: 0.2619 - accuracy: 0.89 - ETA: 6:42 - loss: 0.2619 - accuracy: 0.89 - ETA: 6:40 - loss: 0.2620 - accuracy: 0.89 - ETA: 6:39 - loss: 0.2620 - accuracy: 0.89 - ETA: 6:38 - loss: 0.2620 - accuracy: 0.89 - ETA: 6:36 - loss: 0.2621 - accuracy: 0.89 - ETA: 6:35 - loss: 0.2622 - accuracy: 0.89 - ETA: 6:34 - loss: 0.2622 - accuracy: 0.89 - ETA: 6:32 - loss: 0.2621 - accuracy: 0.89 - ETA: 6:31 - loss: 0.2621 - accuracy: 0.89 - ETA: 6:30 - loss: 0.2621 - accuracy: 0.89 - ETA: 6:28 - loss: 0.2621 - accuracy: 0.89 - ETA: 6:27 - loss: 0.2621 - accuracy: 0.89 - ETA: 6:26 - loss: 0.2621 - accuracy: 0.89 - ETA: 6:25 - loss: 0.2620 - accuracy: 0.89 - ETA: 6:23 - loss: 0.2621 - accuracy: 0.89 - ETA: 6:22 - loss: 0.2620 - accuracy: 0.89 - ETA: 6:21 - loss: 0.2619 - accuracy: 0.89 - ETA: 6:19 - loss: 0.2617 - accuracy: 0.89 - ETA: 6:18 - loss: 0.2615 - accuracy: 0.89 - ETA: 6:17 - loss: 0.2616 - accuracy: 0.89 - ETA: 6:16 - loss: 0.2615 - accuracy: 0.89 - ETA: 6:14 - loss: 0.2615 - accuracy: 0.89 - ETA: 6:13 - loss: 0.2614 - accuracy: 0.89 - ETA: 6:12 - loss: 0.2613 - accuracy: 0.89 - ETA: 6:10 - loss: 0.2613 - accuracy: 0.89 - ETA: 6:09 - loss: 0.2613 - accuracy: 0.89 - ETA: 6:08 - loss: 0.2612 - accuracy: 0.89 - ETA: 6:06 - loss: 0.2612 - accuracy: 0.89 - ETA: 6:05 - loss: 0.2611 - accuracy: 0.89 - ETA: 6:04 - loss: 0.2611 - accuracy: 0.89 - ETA: 6:03 - loss: 0.2611 - accuracy: 0.89 - ETA: 6:01 - loss: 0.2610 - accuracy: 0.89 - ETA: 6:00 - loss: 0.2609 - accuracy: 0.89 - ETA: 5:59 - loss: 0.2609 - accuracy: 0.89 - ETA: 5:57 - loss: 0.2609 - accuracy: 0.89 - ETA: 5:56 - loss: 0.2608 - accuracy: 0.89 - ETA: 5:55 - loss: 0.2608 - accuracy: 0.89 - ETA: 5:54 - loss: 0.2607 - accuracy: 0.89 - ETA: 5:53 - loss: 0.2608 - accuracy: 0.89 - ETA: 5:51 - loss: 0.2607 - accuracy: 0.89 - ETA: 5:50 - loss: 0.2607 - accuracy: 0.89 - ETA: 5:49 - loss: 0.2607 - accuracy: 0.89 - ETA: 5:47 - loss: 0.2607 - accuracy: 0.89 - ETA: 5:46 - loss: 0.2606 - accuracy: 0.89 - ETA: 5:45 - loss: 0.2606 - accuracy: 0.89 - ETA: 5:43 - loss: 0.2607 - accuracy: 0.89 - ETA: 5:42 - loss: 0.2607 - accuracy: 0.89 - ETA: 5:41 - loss: 0.2606 - accuracy: 0.89 - ETA: 5:39 - loss: 0.2605 - accuracy: 0.89 - ETA: 5:38 - loss: 0.2605 - accuracy: 0.89 - ETA: 5:37 - loss: 0.2606 - accuracy: 0.89 - ETA: 5:35 - loss: 0.2606 - accuracy: 0.89 - ETA: 5:34 - loss: 0.2605 - accuracy: 0.89 - ETA: 5:33 - loss: 0.2605 - accuracy: 0.89 - ETA: 5:31 - loss: 0.2605 - accuracy: 0.89 - ETA: 5:30 - loss: 0.2605 - accuracy: 0.89 - ETA: 5:29 - loss: 0.2604 - accuracy: 0.89 - ETA: 5:27 - loss: 0.2603 - accuracy: 0.89 - ETA: 5:26 - loss: 0.2603 - accuracy: 0.89 - ETA: 5:25 - loss: 0.2602 - accuracy: 0.89 - ETA: 5:23 - loss: 0.2602 - accuracy: 0.89 - ETA: 5:22 - loss: 0.2601 - accuracy: 0.89 - ETA: 5:21 - loss: 0.2600 - accuracy: 0.89 - ETA: 5:19 - loss: 0.2599 - accuracy: 0.89 - ETA: 5:18 - loss: 0.2600 - accuracy: 0.89 - ETA: 5:17 - loss: 0.2600 - accuracy: 0.89 - ETA: 5:15 - loss: 0.2600 - accuracy: 0.89 - ETA: 5:14 - loss: 0.2600 - accuracy: 0.89 - ETA: 5:12 - loss: 0.2600 - accuracy: 0.8921"
     ]
    },
    {
     "name": "stdout",
     "output_type": "stream",
     "text": [
      "108500/112907 [===========================>..] - ETA: 5:11 - loss: 0.2599 - accuracy: 0.89 - ETA: 5:10 - loss: 0.2600 - accuracy: 0.89 - ETA: 5:08 - loss: 0.2600 - accuracy: 0.89 - ETA: 5:07 - loss: 0.2600 - accuracy: 0.89 - ETA: 5:06 - loss: 0.2599 - accuracy: 0.89 - ETA: 5:04 - loss: 0.2599 - accuracy: 0.89 - ETA: 5:03 - loss: 0.2598 - accuracy: 0.89 - ETA: 5:02 - loss: 0.2598 - accuracy: 0.89 - ETA: 5:00 - loss: 0.2597 - accuracy: 0.89 - ETA: 4:59 - loss: 0.2597 - accuracy: 0.89 - ETA: 4:58 - loss: 0.2598 - accuracy: 0.89 - ETA: 4:56 - loss: 0.2599 - accuracy: 0.89 - ETA: 4:55 - loss: 0.2599 - accuracy: 0.89 - ETA: 4:54 - loss: 0.2599 - accuracy: 0.89 - ETA: 4:52 - loss: 0.2600 - accuracy: 0.89 - ETA: 4:51 - loss: 0.2600 - accuracy: 0.89 - ETA: 4:50 - loss: 0.2600 - accuracy: 0.89 - ETA: 4:48 - loss: 0.2600 - accuracy: 0.89 - ETA: 4:47 - loss: 0.2601 - accuracy: 0.89 - ETA: 4:46 - loss: 0.2600 - accuracy: 0.89 - ETA: 4:44 - loss: 0.2600 - accuracy: 0.89 - ETA: 4:43 - loss: 0.2600 - accuracy: 0.89 - ETA: 4:42 - loss: 0.2599 - accuracy: 0.89 - ETA: 4:40 - loss: 0.2598 - accuracy: 0.89 - ETA: 4:39 - loss: 0.2599 - accuracy: 0.89 - ETA: 4:38 - loss: 0.2598 - accuracy: 0.89 - ETA: 4:36 - loss: 0.2598 - accuracy: 0.89 - ETA: 4:35 - loss: 0.2598 - accuracy: 0.89 - ETA: 4:34 - loss: 0.2599 - accuracy: 0.89 - ETA: 4:32 - loss: 0.2599 - accuracy: 0.89 - ETA: 4:31 - loss: 0.2599 - accuracy: 0.89 - ETA: 4:30 - loss: 0.2600 - accuracy: 0.89 - ETA: 4:28 - loss: 0.2598 - accuracy: 0.89 - ETA: 4:27 - loss: 0.2598 - accuracy: 0.89 - ETA: 4:26 - loss: 0.2599 - accuracy: 0.89 - ETA: 4:24 - loss: 0.2599 - accuracy: 0.89 - ETA: 4:23 - loss: 0.2598 - accuracy: 0.89 - ETA: 4:22 - loss: 0.2598 - accuracy: 0.89 - ETA: 4:20 - loss: 0.2598 - accuracy: 0.89 - ETA: 4:19 - loss: 0.2599 - accuracy: 0.89 - ETA: 4:18 - loss: 0.2599 - accuracy: 0.89 - ETA: 4:16 - loss: 0.2598 - accuracy: 0.89 - ETA: 4:15 - loss: 0.2598 - accuracy: 0.89 - ETA: 4:14 - loss: 0.2598 - accuracy: 0.89 - ETA: 4:12 - loss: 0.2597 - accuracy: 0.89 - ETA: 4:11 - loss: 0.2597 - accuracy: 0.89 - ETA: 4:09 - loss: 0.2598 - accuracy: 0.89 - ETA: 4:08 - loss: 0.2598 - accuracy: 0.89 - ETA: 4:07 - loss: 0.2599 - accuracy: 0.89 - ETA: 4:05 - loss: 0.2598 - accuracy: 0.89 - ETA: 4:04 - loss: 0.2599 - accuracy: 0.89 - ETA: 4:03 - loss: 0.2598 - accuracy: 0.89 - ETA: 4:01 - loss: 0.2597 - accuracy: 0.89 - ETA: 4:00 - loss: 0.2597 - accuracy: 0.89 - ETA: 3:59 - loss: 0.2597 - accuracy: 0.89 - ETA: 3:57 - loss: 0.2597 - accuracy: 0.89 - ETA: 3:56 - loss: 0.2596 - accuracy: 0.89 - ETA: 3:55 - loss: 0.2596 - accuracy: 0.89 - ETA: 3:53 - loss: 0.2596 - accuracy: 0.89 - ETA: 3:52 - loss: 0.2596 - accuracy: 0.89 - ETA: 3:51 - loss: 0.2596 - accuracy: 0.89 - ETA: 3:49 - loss: 0.2595 - accuracy: 0.89 - ETA: 3:48 - loss: 0.2595 - accuracy: 0.89 - ETA: 3:47 - loss: 0.2595 - accuracy: 0.89 - ETA: 3:45 - loss: 0.2595 - accuracy: 0.89 - ETA: 3:44 - loss: 0.2597 - accuracy: 0.89 - ETA: 3:43 - loss: 0.2597 - accuracy: 0.89 - ETA: 3:41 - loss: 0.2597 - accuracy: 0.89 - ETA: 3:40 - loss: 0.2596 - accuracy: 0.89 - ETA: 3:39 - loss: 0.2596 - accuracy: 0.89 - ETA: 3:37 - loss: 0.2596 - accuracy: 0.89 - ETA: 3:36 - loss: 0.2595 - accuracy: 0.89 - ETA: 3:34 - loss: 0.2594 - accuracy: 0.89 - ETA: 3:33 - loss: 0.2594 - accuracy: 0.89 - ETA: 3:32 - loss: 0.2595 - accuracy: 0.89 - ETA: 3:30 - loss: 0.2594 - accuracy: 0.89 - ETA: 3:29 - loss: 0.2593 - accuracy: 0.89 - ETA: 3:28 - loss: 0.2592 - accuracy: 0.89 - ETA: 3:26 - loss: 0.2593 - accuracy: 0.89 - ETA: 3:25 - loss: 0.2594 - accuracy: 0.89 - ETA: 3:24 - loss: 0.2594 - accuracy: 0.89 - ETA: 3:22 - loss: 0.2594 - accuracy: 0.89 - ETA: 3:21 - loss: 0.2594 - accuracy: 0.89 - ETA: 3:20 - loss: 0.2595 - accuracy: 0.89 - ETA: 3:18 - loss: 0.2595 - accuracy: 0.89 - ETA: 3:17 - loss: 0.2595 - accuracy: 0.89 - ETA: 3:16 - loss: 0.2595 - accuracy: 0.89 - ETA: 3:14 - loss: 0.2596 - accuracy: 0.89 - ETA: 3:13 - loss: 0.2595 - accuracy: 0.89 - ETA: 3:12 - loss: 0.2595 - accuracy: 0.89 - ETA: 3:10 - loss: 0.2594 - accuracy: 0.89 - ETA: 3:09 - loss: 0.2594 - accuracy: 0.89 - ETA: 3:08 - loss: 0.2593 - accuracy: 0.89 - ETA: 3:06 - loss: 0.2592 - accuracy: 0.89 - ETA: 3:05 - loss: 0.2592 - accuracy: 0.89 - ETA: 3:04 - loss: 0.2591 - accuracy: 0.89 - ETA: 3:02 - loss: 0.2591 - accuracy: 0.89 - ETA: 3:01 - loss: 0.2590 - accuracy: 0.89 - ETA: 2:59 - loss: 0.2590 - accuracy: 0.89 - ETA: 2:58 - loss: 0.2590 - accuracy: 0.89 - ETA: 2:57 - loss: 0.2590 - accuracy: 0.89 - ETA: 2:55 - loss: 0.2590 - accuracy: 0.89 - ETA: 2:54 - loss: 0.2590 - accuracy: 0.89 - ETA: 2:53 - loss: 0.2590 - accuracy: 0.89 - ETA: 2:51 - loss: 0.2589 - accuracy: 0.89 - ETA: 2:50 - loss: 0.2591 - accuracy: 0.89 - ETA: 2:49 - loss: 0.2591 - accuracy: 0.89 - ETA: 2:47 - loss: 0.2590 - accuracy: 0.89 - ETA: 2:46 - loss: 0.2590 - accuracy: 0.89 - ETA: 2:45 - loss: 0.2590 - accuracy: 0.89 - ETA: 2:43 - loss: 0.2590 - accuracy: 0.89 - ETA: 2:42 - loss: 0.2590 - accuracy: 0.89 - ETA: 2:41 - loss: 0.2590 - accuracy: 0.89 - ETA: 2:39 - loss: 0.2590 - accuracy: 0.89 - ETA: 2:38 - loss: 0.2590 - accuracy: 0.89 - ETA: 2:37 - loss: 0.2590 - accuracy: 0.89 - ETA: 2:35 - loss: 0.2590 - accuracy: 0.89 - ETA: 2:34 - loss: 0.2589 - accuracy: 0.89 - ETA: 2:33 - loss: 0.2590 - accuracy: 0.89 - ETA: 2:31 - loss: 0.2590 - accuracy: 0.89 - ETA: 2:30 - loss: 0.2591 - accuracy: 0.89 - ETA: 2:29 - loss: 0.2592 - accuracy: 0.89 - ETA: 2:27 - loss: 0.2591 - accuracy: 0.89 - ETA: 2:26 - loss: 0.2591 - accuracy: 0.89 - ETA: 2:24 - loss: 0.2590 - accuracy: 0.89 - ETA: 2:23 - loss: 0.2591 - accuracy: 0.89 - ETA: 2:22 - loss: 0.2591 - accuracy: 0.89 - ETA: 2:20 - loss: 0.2591 - accuracy: 0.89 - ETA: 2:19 - loss: 0.2591 - accuracy: 0.89 - ETA: 2:18 - loss: 0.2591 - accuracy: 0.89 - ETA: 2:16 - loss: 0.2591 - accuracy: 0.89 - ETA: 2:15 - loss: 0.2591 - accuracy: 0.89 - ETA: 2:14 - loss: 0.2591 - accuracy: 0.89 - ETA: 2:12 - loss: 0.2593 - accuracy: 0.89 - ETA: 2:11 - loss: 0.2592 - accuracy: 0.89 - ETA: 2:09 - loss: 0.2591 - accuracy: 0.89 - ETA: 2:08 - loss: 0.2591 - accuracy: 0.89 - ETA: 2:07 - loss: 0.2591 - accuracy: 0.89 - ETA: 2:05 - loss: 0.2591 - accuracy: 0.89 - ETA: 2:04 - loss: 0.2591 - accuracy: 0.89 - ETA: 2:03 - loss: 0.2590 - accuracy: 0.89 - ETA: 2:01 - loss: 0.2591 - accuracy: 0.89 - ETA: 2:00 - loss: 0.2591 - accuracy: 0.89 - ETA: 1:59 - loss: 0.2590 - accuracy: 0.89 - ETA: 1:57 - loss: 0.2590 - accuracy: 0.89 - ETA: 1:56 - loss: 0.2591 - accuracy: 0.89 - ETA: 1:54 - loss: 0.2591 - accuracy: 0.89 - ETA: 1:53 - loss: 0.2590 - accuracy: 0.89 - ETA: 1:52 - loss: 0.2590 - accuracy: 0.89 - ETA: 1:50 - loss: 0.2590 - accuracy: 0.89 - ETA: 1:49 - loss: 0.2591 - accuracy: 0.89 - ETA: 1:48 - loss: 0.2590 - accuracy: 0.89 - ETA: 1:46 - loss: 0.2590 - accuracy: 0.89 - ETA: 1:45 - loss: 0.2590 - accuracy: 0.89 - ETA: 1:44 - loss: 0.2590 - accuracy: 0.89 - ETA: 1:42 - loss: 0.2590 - accuracy: 0.89 - ETA: 1:41 - loss: 0.2591 - accuracy: 0.89 - ETA: 1:39 - loss: 0.2590 - accuracy: 0.89 - ETA: 1:38 - loss: 0.2590 - accuracy: 0.89 - ETA: 1:37 - loss: 0.2590 - accuracy: 0.89 - ETA: 1:35 - loss: 0.2589 - accuracy: 0.89 - ETA: 1:34 - loss: 0.2589 - accuracy: 0.89 - ETA: 1:32 - loss: 0.2589 - accuracy: 0.89 - ETA: 1:31 - loss: 0.2590 - accuracy: 0.89 - ETA: 1:30 - loss: 0.2590 - accuracy: 0.89 - ETA: 1:28 - loss: 0.2589 - accuracy: 0.89 - ETA: 1:27 - loss: 0.2588 - accuracy: 0.89 - ETA: 1:26 - loss: 0.2589 - accuracy: 0.89 - ETA: 1:24 - loss: 0.2589 - accuracy: 0.89 - ETA: 1:23 - loss: 0.2588 - accuracy: 0.89 - ETA: 1:21 - loss: 0.2587 - accuracy: 0.89 - ETA: 1:20 - loss: 0.2587 - accuracy: 0.89 - ETA: 1:19 - loss: 0.2588 - accuracy: 0.89 - ETA: 1:17 - loss: 0.2588 - accuracy: 0.89 - ETA: 1:16 - loss: 0.2589 - accuracy: 0.89 - ETA: 1:15 - loss: 0.2588 - accuracy: 0.89 - ETA: 1:13 - loss: 0.2587 - accuracy: 0.89 - ETA: 1:12 - loss: 0.2587 - accuracy: 0.89 - ETA: 1:10 - loss: 0.2586 - accuracy: 0.89 - ETA: 1:09 - loss: 0.2586 - accuracy: 0.89 - ETA: 1:08 - loss: 0.2586 - accuracy: 0.89 - ETA: 1:06 - loss: 0.2587 - accuracy: 0.89 - ETA: 1:05 - loss: 0.2587 - accuracy: 0.89 - ETA: 1:04 - loss: 0.2587 - accuracy: 0.89 - ETA: 1:02 - loss: 0.2587 - accuracy: 0.89 - ETA: 1:01 - loss: 0.2587 - accuracy: 0.8928"
     ]
    },
    {
     "name": "stdout",
     "output_type": "stream",
     "text": [
      "112907/112907 [==============================] - ETA: 59s - loss: 0.2586 - accuracy: 0.8928 - ETA: 58s - loss: 0.2586 - accuracy: 0.892 - ETA: 57s - loss: 0.2586 - accuracy: 0.892 - ETA: 55s - loss: 0.2587 - accuracy: 0.892 - ETA: 54s - loss: 0.2587 - accuracy: 0.892 - ETA: 52s - loss: 0.2588 - accuracy: 0.892 - ETA: 51s - loss: 0.2588 - accuracy: 0.892 - ETA: 50s - loss: 0.2588 - accuracy: 0.892 - ETA: 48s - loss: 0.2588 - accuracy: 0.892 - ETA: 47s - loss: 0.2587 - accuracy: 0.892 - ETA: 45s - loss: 0.2587 - accuracy: 0.892 - ETA: 44s - loss: 0.2587 - accuracy: 0.892 - ETA: 43s - loss: 0.2588 - accuracy: 0.892 - ETA: 41s - loss: 0.2588 - accuracy: 0.892 - ETA: 40s - loss: 0.2587 - accuracy: 0.892 - ETA: 39s - loss: 0.2588 - accuracy: 0.892 - ETA: 37s - loss: 0.2587 - accuracy: 0.892 - ETA: 36s - loss: 0.2588 - accuracy: 0.892 - ETA: 34s - loss: 0.2588 - accuracy: 0.892 - ETA: 33s - loss: 0.2588 - accuracy: 0.892 - ETA: 32s - loss: 0.2588 - accuracy: 0.892 - ETA: 30s - loss: 0.2588 - accuracy: 0.892 - ETA: 29s - loss: 0.2588 - accuracy: 0.892 - ETA: 27s - loss: 0.2587 - accuracy: 0.892 - ETA: 26s - loss: 0.2587 - accuracy: 0.892 - ETA: 25s - loss: 0.2586 - accuracy: 0.892 - ETA: 23s - loss: 0.2587 - accuracy: 0.892 - ETA: 22s - loss: 0.2587 - accuracy: 0.892 - ETA: 20s - loss: 0.2586 - accuracy: 0.892 - ETA: 19s - loss: 0.2587 - accuracy: 0.892 - ETA: 18s - loss: 0.2587 - accuracy: 0.892 - ETA: 16s - loss: 0.2587 - accuracy: 0.892 - ETA: 15s - loss: 0.2587 - accuracy: 0.892 - ETA: 13s - loss: 0.2587 - accuracy: 0.892 - ETA: 12s - loss: 0.2587 - accuracy: 0.892 - ETA: 11s - loss: 0.2587 - accuracy: 0.892 - ETA: 9s - loss: 0.2586 - accuracy: 0.892 - ETA: 8s - loss: 0.2585 - accuracy: 0.89 - ETA: 7s - loss: 0.2585 - accuracy: 0.89 - ETA: 5s - loss: 0.2586 - accuracy: 0.89 - ETA: 4s - loss: 0.2586 - accuracy: 0.89 - ETA: 2s - loss: 0.2585 - accuracy: 0.89 - ETA: 1s - loss: 0.2585 - accuracy: 0.89 - ETA: 0s - loss: 0.2585 - accuracy: 0.89 - 1719s 15ms/step - loss: 0.2585 - accuracy: 0.8929 - val_loss: 0.2881 - val_accuracy: 0.8839\n",
      "Epoch 3/3\n"
     ]
    },
    {
     "name": "stdout",
     "output_type": "stream",
     "text": [
      " 17800/112907 [===>..........................] - ETA: 25:31 - loss: 0.1405 - accuracy: 0.940 - ETA: 25:16 - loss: 0.1403 - accuracy: 0.945 - ETA: 25:07 - loss: 0.1415 - accuracy: 0.946 - ETA: 25:27 - loss: 0.1513 - accuracy: 0.947 - ETA: 25:21 - loss: 0.1426 - accuracy: 0.948 - ETA: 25:39 - loss: 0.1413 - accuracy: 0.948 - ETA: 25:34 - loss: 0.1402 - accuracy: 0.951 - ETA: 25:05 - loss: 0.1408 - accuracy: 0.952 - ETA: 24:44 - loss: 0.1487 - accuracy: 0.946 - ETA: 24:29 - loss: 0.1524 - accuracy: 0.942 - ETA: 24:26 - loss: 0.1602 - accuracy: 0.938 - ETA: 24:20 - loss: 0.1610 - accuracy: 0.937 - ETA: 24:20 - loss: 0.1581 - accuracy: 0.938 - ETA: 24:18 - loss: 0.1588 - accuracy: 0.940 - ETA: 24:13 - loss: 0.1600 - accuracy: 0.940 - ETA: 24:05 - loss: 0.1612 - accuracy: 0.938 - ETA: 23:57 - loss: 0.1603 - accuracy: 0.938 - ETA: 23:56 - loss: 0.1630 - accuracy: 0.937 - ETA: 23:54 - loss: 0.1626 - accuracy: 0.937 - ETA: 23:48 - loss: 0.1671 - accuracy: 0.934 - ETA: 23:43 - loss: 0.1674 - accuracy: 0.933 - ETA: 23:38 - loss: 0.1682 - accuracy: 0.932 - ETA: 23:34 - loss: 0.1665 - accuracy: 0.933 - ETA: 23:30 - loss: 0.1647 - accuracy: 0.933 - ETA: 23:27 - loss: 0.1634 - accuracy: 0.935 - ETA: 23:21 - loss: 0.1634 - accuracy: 0.935 - ETA: 23:17 - loss: 0.1667 - accuracy: 0.934 - ETA: 23:13 - loss: 0.1658 - accuracy: 0.934 - ETA: 23:09 - loss: 0.1664 - accuracy: 0.934 - ETA: 23:06 - loss: 0.1656 - accuracy: 0.934 - ETA: 23:01 - loss: 0.1656 - accuracy: 0.934 - ETA: 22:58 - loss: 0.1659 - accuracy: 0.934 - ETA: 22:55 - loss: 0.1658 - accuracy: 0.934 - ETA: 22:51 - loss: 0.1694 - accuracy: 0.932 - ETA: 22:48 - loss: 0.1692 - accuracy: 0.932 - ETA: 22:47 - loss: 0.1700 - accuracy: 0.931 - ETA: 22:47 - loss: 0.1678 - accuracy: 0.933 - ETA: 22:46 - loss: 0.1670 - accuracy: 0.932 - ETA: 22:44 - loss: 0.1655 - accuracy: 0.933 - ETA: 22:41 - loss: 0.1650 - accuracy: 0.933 - ETA: 22:37 - loss: 0.1635 - accuracy: 0.934 - ETA: 22:35 - loss: 0.1624 - accuracy: 0.935 - ETA: 22:33 - loss: 0.1614 - accuracy: 0.935 - ETA: 22:34 - loss: 0.1609 - accuracy: 0.935 - ETA: 22:33 - loss: 0.1604 - accuracy: 0.936 - ETA: 22:32 - loss: 0.1592 - accuracy: 0.937 - ETA: 22:30 - loss: 0.1572 - accuracy: 0.937 - ETA: 22:29 - loss: 0.1572 - accuracy: 0.938 - ETA: 22:26 - loss: 0.1561 - accuracy: 0.938 - ETA: 22:24 - loss: 0.1557 - accuracy: 0.939 - ETA: 22:24 - loss: 0.1550 - accuracy: 0.939 - ETA: 22:21 - loss: 0.1539 - accuracy: 0.939 - ETA: 22:19 - loss: 0.1548 - accuracy: 0.939 - ETA: 22:18 - loss: 0.1547 - accuracy: 0.939 - ETA: 22:16 - loss: 0.1540 - accuracy: 0.939 - ETA: 22:13 - loss: 0.1534 - accuracy: 0.939 - ETA: 22:12 - loss: 0.1546 - accuracy: 0.938 - ETA: 22:10 - loss: 0.1546 - accuracy: 0.939 - ETA: 22:08 - loss: 0.1543 - accuracy: 0.939 - ETA: 22:06 - loss: 0.1548 - accuracy: 0.938 - ETA: 22:04 - loss: 0.1548 - accuracy: 0.938 - ETA: 22:02 - loss: 0.1554 - accuracy: 0.938 - ETA: 22:00 - loss: 0.1541 - accuracy: 0.938 - ETA: 21:58 - loss: 0.1538 - accuracy: 0.939 - ETA: 21:56 - loss: 0.1529 - accuracy: 0.939 - ETA: 21:54 - loss: 0.1535 - accuracy: 0.939 - ETA: 21:52 - loss: 0.1540 - accuracy: 0.939 - ETA: 21:52 - loss: 0.1536 - accuracy: 0.940 - ETA: 21:52 - loss: 0.1532 - accuracy: 0.939 - ETA: 21:52 - loss: 0.1530 - accuracy: 0.939 - ETA: 21:51 - loss: 0.1532 - accuracy: 0.939 - ETA: 21:49 - loss: 0.1538 - accuracy: 0.939 - ETA: 21:47 - loss: 0.1538 - accuracy: 0.939 - ETA: 21:45 - loss: 0.1538 - accuracy: 0.939 - ETA: 21:43 - loss: 0.1538 - accuracy: 0.939 - ETA: 21:44 - loss: 0.1540 - accuracy: 0.939 - ETA: 21:47 - loss: 0.1551 - accuracy: 0.939 - ETA: 21:48 - loss: 0.1548 - accuracy: 0.939 - ETA: 21:50 - loss: 0.1544 - accuracy: 0.939 - ETA: 21:52 - loss: 0.1542 - accuracy: 0.939 - ETA: 21:53 - loss: 0.1543 - accuracy: 0.939 - ETA: 21:52 - loss: 0.1540 - accuracy: 0.939 - ETA: 21:53 - loss: 0.1543 - accuracy: 0.939 - ETA: 21:55 - loss: 0.1537 - accuracy: 0.939 - ETA: 21:56 - loss: 0.1541 - accuracy: 0.939 - ETA: 21:58 - loss: 0.1559 - accuracy: 0.938 - ETA: 21:58 - loss: 0.1554 - accuracy: 0.939 - ETA: 22:00 - loss: 0.1550 - accuracy: 0.939 - ETA: 21:58 - loss: 0.1559 - accuracy: 0.939 - ETA: 21:55 - loss: 0.1555 - accuracy: 0.939 - ETA: 21:53 - loss: 0.1562 - accuracy: 0.938 - ETA: 21:51 - loss: 0.1560 - accuracy: 0.939 - ETA: 21:49 - loss: 0.1560 - accuracy: 0.939 - ETA: 21:47 - loss: 0.1565 - accuracy: 0.939 - ETA: 21:45 - loss: 0.1565 - accuracy: 0.939 - ETA: 21:43 - loss: 0.1567 - accuracy: 0.939 - ETA: 21:41 - loss: 0.1566 - accuracy: 0.939 - ETA: 21:39 - loss: 0.1565 - accuracy: 0.939 - ETA: 21:37 - loss: 0.1567 - accuracy: 0.939 - ETA: 21:37 - loss: 0.1568 - accuracy: 0.938 - ETA: 21:35 - loss: 0.1571 - accuracy: 0.938 - ETA: 21:34 - loss: 0.1569 - accuracy: 0.938 - ETA: 21:32 - loss: 0.1563 - accuracy: 0.939 - ETA: 21:30 - loss: 0.1565 - accuracy: 0.939 - ETA: 21:28 - loss: 0.1564 - accuracy: 0.939 - ETA: 21:27 - loss: 0.1577 - accuracy: 0.938 - ETA: 21:27 - loss: 0.1585 - accuracy: 0.938 - ETA: 21:25 - loss: 0.1583 - accuracy: 0.938 - ETA: 21:24 - loss: 0.1582 - accuracy: 0.938 - ETA: 21:24 - loss: 0.1586 - accuracy: 0.938 - ETA: 21:23 - loss: 0.1583 - accuracy: 0.938 - ETA: 21:22 - loss: 0.1578 - accuracy: 0.938 - ETA: 21:21 - loss: 0.1579 - accuracy: 0.938 - ETA: 21:20 - loss: 0.1589 - accuracy: 0.938 - ETA: 21:18 - loss: 0.1591 - accuracy: 0.938 - ETA: 21:16 - loss: 0.1586 - accuracy: 0.938 - ETA: 21:16 - loss: 0.1587 - accuracy: 0.938 - ETA: 21:14 - loss: 0.1589 - accuracy: 0.938 - ETA: 21:12 - loss: 0.1581 - accuracy: 0.938 - ETA: 21:11 - loss: 0.1574 - accuracy: 0.939 - ETA: 21:10 - loss: 0.1575 - accuracy: 0.939 - ETA: 21:08 - loss: 0.1572 - accuracy: 0.939 - ETA: 21:06 - loss: 0.1572 - accuracy: 0.939 - ETA: 21:05 - loss: 0.1571 - accuracy: 0.939 - ETA: 21:03 - loss: 0.1565 - accuracy: 0.939 - ETA: 21:01 - loss: 0.1566 - accuracy: 0.939 - ETA: 20:59 - loss: 0.1565 - accuracy: 0.939 - ETA: 20:58 - loss: 0.1565 - accuracy: 0.939 - ETA: 20:56 - loss: 0.1558 - accuracy: 0.939 - ETA: 20:54 - loss: 0.1556 - accuracy: 0.939 - ETA: 20:53 - loss: 0.1552 - accuracy: 0.939 - ETA: 20:52 - loss: 0.1558 - accuracy: 0.939 - ETA: 20:50 - loss: 0.1564 - accuracy: 0.939 - ETA: 20:48 - loss: 0.1565 - accuracy: 0.939 - ETA: 20:47 - loss: 0.1572 - accuracy: 0.938 - ETA: 20:45 - loss: 0.1579 - accuracy: 0.938 - ETA: 20:44 - loss: 0.1577 - accuracy: 0.938 - ETA: 20:42 - loss: 0.1577 - accuracy: 0.938 - ETA: 20:41 - loss: 0.1575 - accuracy: 0.938 - ETA: 20:40 - loss: 0.1569 - accuracy: 0.939 - ETA: 20:39 - loss: 0.1570 - accuracy: 0.939 - ETA: 20:38 - loss: 0.1571 - accuracy: 0.939 - ETA: 20:36 - loss: 0.1575 - accuracy: 0.939 - ETA: 20:35 - loss: 0.1577 - accuracy: 0.939 - ETA: 20:33 - loss: 0.1578 - accuracy: 0.939 - ETA: 20:32 - loss: 0.1578 - accuracy: 0.939 - ETA: 20:30 - loss: 0.1575 - accuracy: 0.939 - ETA: 20:29 - loss: 0.1572 - accuracy: 0.939 - ETA: 20:27 - loss: 0.1572 - accuracy: 0.939 - ETA: 20:26 - loss: 0.1569 - accuracy: 0.939 - ETA: 20:26 - loss: 0.1566 - accuracy: 0.939 - ETA: 20:25 - loss: 0.1568 - accuracy: 0.939 - ETA: 20:23 - loss: 0.1569 - accuracy: 0.939 - ETA: 20:22 - loss: 0.1572 - accuracy: 0.939 - ETA: 20:20 - loss: 0.1569 - accuracy: 0.939 - ETA: 20:19 - loss: 0.1569 - accuracy: 0.939 - ETA: 20:17 - loss: 0.1570 - accuracy: 0.939 - ETA: 20:15 - loss: 0.1566 - accuracy: 0.939 - ETA: 20:14 - loss: 0.1565 - accuracy: 0.939 - ETA: 20:12 - loss: 0.1569 - accuracy: 0.939 - ETA: 20:11 - loss: 0.1569 - accuracy: 0.939 - ETA: 20:09 - loss: 0.1567 - accuracy: 0.939 - ETA: 20:08 - loss: 0.1565 - accuracy: 0.940 - ETA: 20:07 - loss: 0.1561 - accuracy: 0.940 - ETA: 20:06 - loss: 0.1564 - accuracy: 0.939 - ETA: 20:04 - loss: 0.1566 - accuracy: 0.939 - ETA: 20:03 - loss: 0.1564 - accuracy: 0.939 - ETA: 20:01 - loss: 0.1567 - accuracy: 0.939 - ETA: 20:00 - loss: 0.1573 - accuracy: 0.939 - ETA: 19:58 - loss: 0.1580 - accuracy: 0.939 - ETA: 19:57 - loss: 0.1579 - accuracy: 0.939 - ETA: 19:58 - loss: 0.1580 - accuracy: 0.939 - ETA: 19:58 - loss: 0.1585 - accuracy: 0.939 - ETA: 19:58 - loss: 0.1586 - accuracy: 0.938 - ETA: 19:57 - loss: 0.1589 - accuracy: 0.938 - ETA: 19:56 - loss: 0.1588 - accuracy: 0.938 - ETA: 19:54 - loss: 0.1589 - accuracy: 0.938 - ETA: 19:53 - loss: 0.1593 - accuracy: 0.9384 35600/112907 [========>.....................] - ETA: 19:51 - loss: 0.1592 - accuracy: 0.938 - ETA: 19:50 - loss: 0.1592 - accuracy: 0.938 - ETA: 19:48 - loss: 0.1596 - accuracy: 0.938 - ETA: 19:47 - loss: 0.1598 - accuracy: 0.938 - ETA: 19:45 - loss: 0.1599 - accuracy: 0.938 - ETA: 19:44 - loss: 0.1600 - accuracy: 0.938 - ETA: 19:42 - loss: 0.1600 - accuracy: 0.938 - ETA: 19:41 - loss: 0.1598 - accuracy: 0.938 - ETA: 19:39 - loss: 0.1599 - accuracy: 0.937 - ETA: 19:37 - loss: 0.1597 - accuracy: 0.938 - ETA: 19:36 - loss: 0.1593 - accuracy: 0.938 - ETA: 19:35 - loss: 0.1591 - accuracy: 0.938 - ETA: 19:33 - loss: 0.1589 - accuracy: 0.938 - ETA: 19:32 - loss: 0.1590 - accuracy: 0.938 - ETA: 19:30 - loss: 0.1588 - accuracy: 0.938 - ETA: 19:29 - loss: 0.1587 - accuracy: 0.938 - ETA: 19:27 - loss: 0.1588 - accuracy: 0.938 - ETA: 19:26 - loss: 0.1589 - accuracy: 0.938 - ETA: 19:25 - loss: 0.1595 - accuracy: 0.938 - ETA: 19:24 - loss: 0.1592 - accuracy: 0.938 - ETA: 19:22 - loss: 0.1594 - accuracy: 0.938 - ETA: 19:21 - loss: 0.1590 - accuracy: 0.938 - ETA: 19:19 - loss: 0.1589 - accuracy: 0.938 - ETA: 19:18 - loss: 0.1590 - accuracy: 0.938 - ETA: 19:17 - loss: 0.1590 - accuracy: 0.938 - ETA: 19:15 - loss: 0.1590 - accuracy: 0.938 - ETA: 19:14 - loss: 0.1592 - accuracy: 0.937 - ETA: 19:12 - loss: 0.1594 - accuracy: 0.937 - ETA: 19:11 - loss: 0.1594 - accuracy: 0.937 - ETA: 19:09 - loss: 0.1593 - accuracy: 0.937 - ETA: 19:08 - loss: 0.1594 - accuracy: 0.937 - ETA: 19:06 - loss: 0.1599 - accuracy: 0.937 - ETA: 19:05 - loss: 0.1601 - accuracy: 0.937 - ETA: 19:04 - loss: 0.1600 - accuracy: 0.937 - ETA: 19:02 - loss: 0.1600 - accuracy: 0.937 - ETA: 19:01 - loss: 0.1599 - accuracy: 0.937 - ETA: 19:00 - loss: 0.1596 - accuracy: 0.937 - ETA: 18:58 - loss: 0.1597 - accuracy: 0.937 - ETA: 18:57 - loss: 0.1598 - accuracy: 0.937 - ETA: 18:56 - loss: 0.1597 - accuracy: 0.937 - ETA: 18:55 - loss: 0.1592 - accuracy: 0.937 - ETA: 18:54 - loss: 0.1591 - accuracy: 0.938 - ETA: 18:52 - loss: 0.1589 - accuracy: 0.938 - ETA: 18:51 - loss: 0.1587 - accuracy: 0.938 - ETA: 18:49 - loss: 0.1591 - accuracy: 0.938 - ETA: 18:48 - loss: 0.1590 - accuracy: 0.938 - ETA: 18:47 - loss: 0.1592 - accuracy: 0.938 - ETA: 18:46 - loss: 0.1591 - accuracy: 0.938 - ETA: 18:44 - loss: 0.1593 - accuracy: 0.938 - ETA: 18:43 - loss: 0.1591 - accuracy: 0.938 - ETA: 18:41 - loss: 0.1591 - accuracy: 0.938 - ETA: 18:40 - loss: 0.1588 - accuracy: 0.938 - ETA: 18:38 - loss: 0.1588 - accuracy: 0.938 - ETA: 18:37 - loss: 0.1592 - accuracy: 0.938 - ETA: 18:35 - loss: 0.1597 - accuracy: 0.938 - ETA: 18:34 - loss: 0.1598 - accuracy: 0.938 - ETA: 18:33 - loss: 0.1600 - accuracy: 0.938 - ETA: 18:31 - loss: 0.1600 - accuracy: 0.938 - ETA: 18:30 - loss: 0.1603 - accuracy: 0.937 - ETA: 18:29 - loss: 0.1605 - accuracy: 0.938 - ETA: 18:27 - loss: 0.1606 - accuracy: 0.938 - ETA: 18:26 - loss: 0.1611 - accuracy: 0.937 - ETA: 18:25 - loss: 0.1610 - accuracy: 0.937 - ETA: 18:23 - loss: 0.1610 - accuracy: 0.937 - ETA: 18:22 - loss: 0.1610 - accuracy: 0.937 - ETA: 18:21 - loss: 0.1607 - accuracy: 0.938 - ETA: 18:20 - loss: 0.1607 - accuracy: 0.937 - ETA: 18:19 - loss: 0.1609 - accuracy: 0.937 - ETA: 18:18 - loss: 0.1609 - accuracy: 0.937 - ETA: 18:16 - loss: 0.1612 - accuracy: 0.937 - ETA: 18:15 - loss: 0.1611 - accuracy: 0.937 - ETA: 18:14 - loss: 0.1610 - accuracy: 0.937 - ETA: 18:12 - loss: 0.1614 - accuracy: 0.937 - ETA: 18:11 - loss: 0.1614 - accuracy: 0.937 - ETA: 18:09 - loss: 0.1617 - accuracy: 0.937 - ETA: 18:08 - loss: 0.1617 - accuracy: 0.937 - ETA: 18:07 - loss: 0.1617 - accuracy: 0.937 - ETA: 18:06 - loss: 0.1616 - accuracy: 0.937 - ETA: 18:04 - loss: 0.1617 - accuracy: 0.937 - ETA: 18:03 - loss: 0.1621 - accuracy: 0.937 - ETA: 18:01 - loss: 0.1626 - accuracy: 0.937 - ETA: 18:00 - loss: 0.1626 - accuracy: 0.937 - ETA: 17:59 - loss: 0.1626 - accuracy: 0.937 - ETA: 17:57 - loss: 0.1628 - accuracy: 0.936 - ETA: 17:56 - loss: 0.1629 - accuracy: 0.936 - ETA: 17:55 - loss: 0.1629 - accuracy: 0.936 - ETA: 17:54 - loss: 0.1628 - accuracy: 0.936 - ETA: 17:52 - loss: 0.1626 - accuracy: 0.937 - ETA: 17:51 - loss: 0.1624 - accuracy: 0.937 - ETA: 17:49 - loss: 0.1621 - accuracy: 0.937 - ETA: 17:48 - loss: 0.1621 - accuracy: 0.937 - ETA: 17:47 - loss: 0.1618 - accuracy: 0.937 - ETA: 17:46 - loss: 0.1618 - accuracy: 0.937 - ETA: 17:45 - loss: 0.1618 - accuracy: 0.937 - ETA: 17:43 - loss: 0.1622 - accuracy: 0.937 - ETA: 17:42 - loss: 0.1623 - accuracy: 0.937 - ETA: 17:41 - loss: 0.1620 - accuracy: 0.937 - ETA: 17:40 - loss: 0.1618 - accuracy: 0.937 - ETA: 17:39 - loss: 0.1619 - accuracy: 0.937 - ETA: 17:38 - loss: 0.1618 - accuracy: 0.937 - ETA: 17:37 - loss: 0.1622 - accuracy: 0.937 - ETA: 17:35 - loss: 0.1620 - accuracy: 0.937 - ETA: 17:34 - loss: 0.1620 - accuracy: 0.937 - ETA: 17:33 - loss: 0.1620 - accuracy: 0.937 - ETA: 17:32 - loss: 0.1621 - accuracy: 0.937 - ETA: 17:31 - loss: 0.1618 - accuracy: 0.937 - ETA: 17:30 - loss: 0.1619 - accuracy: 0.937 - ETA: 17:28 - loss: 0.1620 - accuracy: 0.937 - ETA: 17:27 - loss: 0.1620 - accuracy: 0.937 - ETA: 17:26 - loss: 0.1624 - accuracy: 0.937 - ETA: 17:24 - loss: 0.1622 - accuracy: 0.937 - ETA: 17:23 - loss: 0.1626 - accuracy: 0.937 - ETA: 17:22 - loss: 0.1625 - accuracy: 0.937 - ETA: 17:21 - loss: 0.1626 - accuracy: 0.937 - ETA: 17:19 - loss: 0.1627 - accuracy: 0.936 - ETA: 17:18 - loss: 0.1628 - accuracy: 0.936 - ETA: 17:17 - loss: 0.1629 - accuracy: 0.936 - ETA: 17:15 - loss: 0.1631 - accuracy: 0.936 - ETA: 17:14 - loss: 0.1632 - accuracy: 0.936 - ETA: 17:13 - loss: 0.1633 - accuracy: 0.936 - ETA: 17:11 - loss: 0.1633 - accuracy: 0.936 - ETA: 17:10 - loss: 0.1632 - accuracy: 0.936 - ETA: 17:09 - loss: 0.1631 - accuracy: 0.936 - ETA: 17:08 - loss: 0.1631 - accuracy: 0.936 - ETA: 17:06 - loss: 0.1631 - accuracy: 0.936 - ETA: 17:05 - loss: 0.1632 - accuracy: 0.936 - ETA: 17:04 - loss: 0.1632 - accuracy: 0.936 - ETA: 17:03 - loss: 0.1632 - accuracy: 0.936 - ETA: 17:01 - loss: 0.1632 - accuracy: 0.936 - ETA: 17:00 - loss: 0.1633 - accuracy: 0.936 - ETA: 16:59 - loss: 0.1634 - accuracy: 0.936 - ETA: 16:57 - loss: 0.1634 - accuracy: 0.936 - ETA: 16:56 - loss: 0.1633 - accuracy: 0.936 - ETA: 16:55 - loss: 0.1632 - accuracy: 0.936 - ETA: 16:53 - loss: 0.1631 - accuracy: 0.936 - ETA: 16:52 - loss: 0.1632 - accuracy: 0.936 - ETA: 16:51 - loss: 0.1632 - accuracy: 0.936 - ETA: 16:49 - loss: 0.1638 - accuracy: 0.936 - ETA: 16:48 - loss: 0.1636 - accuracy: 0.936 - ETA: 16:47 - loss: 0.1637 - accuracy: 0.936 - ETA: 16:46 - loss: 0.1637 - accuracy: 0.936 - ETA: 16:44 - loss: 0.1637 - accuracy: 0.936 - ETA: 16:43 - loss: 0.1636 - accuracy: 0.936 - ETA: 16:42 - loss: 0.1637 - accuracy: 0.936 - ETA: 16:41 - loss: 0.1639 - accuracy: 0.936 - ETA: 16:40 - loss: 0.1637 - accuracy: 0.936 - ETA: 16:38 - loss: 0.1637 - accuracy: 0.936 - ETA: 16:37 - loss: 0.1637 - accuracy: 0.936 - ETA: 16:36 - loss: 0.1638 - accuracy: 0.936 - ETA: 16:35 - loss: 0.1636 - accuracy: 0.936 - ETA: 16:33 - loss: 0.1637 - accuracy: 0.936 - ETA: 16:32 - loss: 0.1637 - accuracy: 0.936 - ETA: 16:31 - loss: 0.1639 - accuracy: 0.936 - ETA: 16:29 - loss: 0.1639 - accuracy: 0.936 - ETA: 16:28 - loss: 0.1639 - accuracy: 0.936 - ETA: 16:27 - loss: 0.1639 - accuracy: 0.936 - ETA: 16:26 - loss: 0.1639 - accuracy: 0.936 - ETA: 16:25 - loss: 0.1640 - accuracy: 0.936 - ETA: 16:24 - loss: 0.1641 - accuracy: 0.936 - ETA: 16:22 - loss: 0.1643 - accuracy: 0.936 - ETA: 16:21 - loss: 0.1641 - accuracy: 0.936 - ETA: 16:20 - loss: 0.1642 - accuracy: 0.936 - ETA: 16:19 - loss: 0.1644 - accuracy: 0.936 - ETA: 16:17 - loss: 0.1644 - accuracy: 0.936 - ETA: 16:16 - loss: 0.1645 - accuracy: 0.936 - ETA: 16:15 - loss: 0.1644 - accuracy: 0.936 - ETA: 16:14 - loss: 0.1641 - accuracy: 0.936 - ETA: 16:12 - loss: 0.1643 - accuracy: 0.936 - ETA: 16:11 - loss: 0.1643 - accuracy: 0.936 - ETA: 16:10 - loss: 0.1645 - accuracy: 0.936 - ETA: 16:08 - loss: 0.1644 - accuracy: 0.936 - ETA: 16:07 - loss: 0.1643 - accuracy: 0.936 - ETA: 16:06 - loss: 0.1642 - accuracy: 0.936 - ETA: 16:04 - loss: 0.1641 - accuracy: 0.936 - ETA: 16:03 - loss: 0.1642 - accuracy: 0.936 - ETA: 16:02 - loss: 0.1641 - accuracy: 0.936 - ETA: 16:00 - loss: 0.1639 - accuracy: 0.936 - ETA: 15:59 - loss: 0.1640 - accuracy: 0.9363"
     ]
    },
    {
     "name": "stdout",
     "output_type": "stream",
     "text": [
      " 53400/112907 [=============>................] - ETA: 15:58 - loss: 0.1640 - accuracy: 0.936 - ETA: 15:57 - loss: 0.1642 - accuracy: 0.936 - ETA: 15:56 - loss: 0.1641 - accuracy: 0.936 - ETA: 15:55 - loss: 0.1645 - accuracy: 0.936 - ETA: 15:53 - loss: 0.1645 - accuracy: 0.936 - ETA: 15:52 - loss: 0.1646 - accuracy: 0.936 - ETA: 15:51 - loss: 0.1649 - accuracy: 0.935 - ETA: 15:49 - loss: 0.1647 - accuracy: 0.936 - ETA: 15:48 - loss: 0.1645 - accuracy: 0.936 - ETA: 15:48 - loss: 0.1643 - accuracy: 0.936 - ETA: 15:47 - loss: 0.1643 - accuracy: 0.936 - ETA: 15:46 - loss: 0.1642 - accuracy: 0.936 - ETA: 15:45 - loss: 0.1641 - accuracy: 0.936 - ETA: 15:44 - loss: 0.1641 - accuracy: 0.936 - ETA: 15:43 - loss: 0.1641 - accuracy: 0.936 - ETA: 15:41 - loss: 0.1640 - accuracy: 0.936 - ETA: 15:40 - loss: 0.1639 - accuracy: 0.936 - ETA: 15:39 - loss: 0.1640 - accuracy: 0.936 - ETA: 15:38 - loss: 0.1640 - accuracy: 0.936 - ETA: 15:37 - loss: 0.1639 - accuracy: 0.936 - ETA: 15:35 - loss: 0.1638 - accuracy: 0.936 - ETA: 15:34 - loss: 0.1636 - accuracy: 0.936 - ETA: 15:33 - loss: 0.1635 - accuracy: 0.936 - ETA: 15:31 - loss: 0.1636 - accuracy: 0.936 - ETA: 15:30 - loss: 0.1642 - accuracy: 0.936 - ETA: 15:29 - loss: 0.1643 - accuracy: 0.936 - ETA: 15:28 - loss: 0.1643 - accuracy: 0.936 - ETA: 15:26 - loss: 0.1643 - accuracy: 0.936 - ETA: 15:25 - loss: 0.1644 - accuracy: 0.936 - ETA: 15:24 - loss: 0.1643 - accuracy: 0.936 - ETA: 15:23 - loss: 0.1641 - accuracy: 0.936 - ETA: 15:21 - loss: 0.1643 - accuracy: 0.936 - ETA: 15:20 - loss: 0.1642 - accuracy: 0.936 - ETA: 15:19 - loss: 0.1645 - accuracy: 0.935 - ETA: 15:18 - loss: 0.1644 - accuracy: 0.936 - ETA: 15:16 - loss: 0.1647 - accuracy: 0.935 - ETA: 15:15 - loss: 0.1648 - accuracy: 0.935 - ETA: 15:14 - loss: 0.1646 - accuracy: 0.936 - ETA: 15:13 - loss: 0.1650 - accuracy: 0.935 - ETA: 15:11 - loss: 0.1651 - accuracy: 0.935 - ETA: 15:10 - loss: 0.1651 - accuracy: 0.935 - ETA: 15:09 - loss: 0.1653 - accuracy: 0.935 - ETA: 15:07 - loss: 0.1651 - accuracy: 0.935 - ETA: 15:06 - loss: 0.1651 - accuracy: 0.935 - ETA: 15:05 - loss: 0.1649 - accuracy: 0.936 - ETA: 15:04 - loss: 0.1650 - accuracy: 0.936 - ETA: 15:03 - loss: 0.1649 - accuracy: 0.936 - ETA: 15:02 - loss: 0.1650 - accuracy: 0.936 - ETA: 15:02 - loss: 0.1649 - accuracy: 0.936 - ETA: 15:01 - loss: 0.1649 - accuracy: 0.936 - ETA: 15:00 - loss: 0.1647 - accuracy: 0.936 - ETA: 14:59 - loss: 0.1647 - accuracy: 0.936 - ETA: 14:57 - loss: 0.1649 - accuracy: 0.935 - ETA: 14:56 - loss: 0.1649 - accuracy: 0.936 - ETA: 14:55 - loss: 0.1647 - accuracy: 0.936 - ETA: 14:54 - loss: 0.1650 - accuracy: 0.935 - ETA: 14:53 - loss: 0.1651 - accuracy: 0.935 - ETA: 14:52 - loss: 0.1650 - accuracy: 0.936 - ETA: 14:51 - loss: 0.1651 - accuracy: 0.935 - ETA: 14:50 - loss: 0.1652 - accuracy: 0.935 - ETA: 14:48 - loss: 0.1653 - accuracy: 0.935 - ETA: 14:47 - loss: 0.1653 - accuracy: 0.935 - ETA: 14:46 - loss: 0.1652 - accuracy: 0.935 - ETA: 14:45 - loss: 0.1652 - accuracy: 0.935 - ETA: 14:44 - loss: 0.1652 - accuracy: 0.935 - ETA: 14:43 - loss: 0.1651 - accuracy: 0.935 - ETA: 14:43 - loss: 0.1650 - accuracy: 0.936 - ETA: 14:42 - loss: 0.1650 - accuracy: 0.935 - ETA: 14:41 - loss: 0.1650 - accuracy: 0.936 - ETA: 14:40 - loss: 0.1648 - accuracy: 0.936 - ETA: 14:39 - loss: 0.1649 - accuracy: 0.936 - ETA: 14:39 - loss: 0.1649 - accuracy: 0.936 - ETA: 14:38 - loss: 0.1649 - accuracy: 0.936 - ETA: 14:37 - loss: 0.1647 - accuracy: 0.936 - ETA: 14:36 - loss: 0.1647 - accuracy: 0.936 - ETA: 14:35 - loss: 0.1647 - accuracy: 0.936 - ETA: 14:33 - loss: 0.1645 - accuracy: 0.936 - ETA: 14:32 - loss: 0.1646 - accuracy: 0.936 - ETA: 14:31 - loss: 0.1646 - accuracy: 0.936 - ETA: 14:30 - loss: 0.1645 - accuracy: 0.936 - ETA: 14:29 - loss: 0.1644 - accuracy: 0.936 - ETA: 14:28 - loss: 0.1642 - accuracy: 0.936 - ETA: 14:27 - loss: 0.1641 - accuracy: 0.936 - ETA: 14:26 - loss: 0.1642 - accuracy: 0.936 - ETA: 14:25 - loss: 0.1640 - accuracy: 0.936 - ETA: 14:24 - loss: 0.1641 - accuracy: 0.936 - ETA: 14:23 - loss: 0.1639 - accuracy: 0.936 - ETA: 14:21 - loss: 0.1639 - accuracy: 0.936 - ETA: 14:20 - loss: 0.1641 - accuracy: 0.936 - ETA: 14:19 - loss: 0.1642 - accuracy: 0.936 - ETA: 14:18 - loss: 0.1640 - accuracy: 0.936 - ETA: 14:17 - loss: 0.1642 - accuracy: 0.936 - ETA: 14:16 - loss: 0.1641 - accuracy: 0.936 - ETA: 14:15 - loss: 0.1641 - accuracy: 0.936 - ETA: 14:14 - loss: 0.1640 - accuracy: 0.936 - ETA: 14:12 - loss: 0.1640 - accuracy: 0.936 - ETA: 14:11 - loss: 0.1642 - accuracy: 0.936 - ETA: 14:10 - loss: 0.1641 - accuracy: 0.936 - ETA: 14:09 - loss: 0.1642 - accuracy: 0.936 - ETA: 14:08 - loss: 0.1641 - accuracy: 0.936 - ETA: 14:08 - loss: 0.1639 - accuracy: 0.936 - ETA: 14:07 - loss: 0.1640 - accuracy: 0.936 - ETA: 14:06 - loss: 0.1641 - accuracy: 0.936 - ETA: 14:05 - loss: 0.1641 - accuracy: 0.936 - ETA: 14:03 - loss: 0.1641 - accuracy: 0.936 - ETA: 14:02 - loss: 0.1642 - accuracy: 0.936 - ETA: 14:01 - loss: 0.1642 - accuracy: 0.936 - ETA: 14:00 - loss: 0.1642 - accuracy: 0.936 - ETA: 13:59 - loss: 0.1644 - accuracy: 0.936 - ETA: 13:57 - loss: 0.1644 - accuracy: 0.936 - ETA: 13:56 - loss: 0.1645 - accuracy: 0.936 - ETA: 13:55 - loss: 0.1646 - accuracy: 0.936 - ETA: 13:54 - loss: 0.1646 - accuracy: 0.936 - ETA: 13:53 - loss: 0.1647 - accuracy: 0.936 - ETA: 13:52 - loss: 0.1648 - accuracy: 0.936 - ETA: 13:50 - loss: 0.1648 - accuracy: 0.936 - ETA: 13:49 - loss: 0.1648 - accuracy: 0.936 - ETA: 13:49 - loss: 0.1647 - accuracy: 0.936 - ETA: 13:47 - loss: 0.1647 - accuracy: 0.936 - ETA: 13:46 - loss: 0.1648 - accuracy: 0.935 - ETA: 13:45 - loss: 0.1647 - accuracy: 0.936 - ETA: 13:44 - loss: 0.1647 - accuracy: 0.936 - ETA: 13:43 - loss: 0.1647 - accuracy: 0.935 - ETA: 13:41 - loss: 0.1647 - accuracy: 0.936 - ETA: 13:40 - loss: 0.1648 - accuracy: 0.935 - ETA: 13:39 - loss: 0.1648 - accuracy: 0.935 - ETA: 13:37 - loss: 0.1649 - accuracy: 0.935 - ETA: 13:36 - loss: 0.1648 - accuracy: 0.935 - ETA: 13:35 - loss: 0.1647 - accuracy: 0.935 - ETA: 13:33 - loss: 0.1647 - accuracy: 0.935 - ETA: 13:32 - loss: 0.1646 - accuracy: 0.935 - ETA: 13:31 - loss: 0.1644 - accuracy: 0.936 - ETA: 13:30 - loss: 0.1647 - accuracy: 0.935 - ETA: 13:28 - loss: 0.1646 - accuracy: 0.935 - ETA: 13:27 - loss: 0.1647 - accuracy: 0.935 - ETA: 13:26 - loss: 0.1646 - accuracy: 0.935 - ETA: 13:25 - loss: 0.1645 - accuracy: 0.935 - ETA: 13:24 - loss: 0.1645 - accuracy: 0.935 - ETA: 13:22 - loss: 0.1646 - accuracy: 0.935 - ETA: 13:21 - loss: 0.1645 - accuracy: 0.935 - ETA: 13:20 - loss: 0.1643 - accuracy: 0.936 - ETA: 13:19 - loss: 0.1643 - accuracy: 0.936 - ETA: 13:17 - loss: 0.1644 - accuracy: 0.936 - ETA: 13:16 - loss: 0.1644 - accuracy: 0.936 - ETA: 13:15 - loss: 0.1644 - accuracy: 0.935 - ETA: 13:14 - loss: 0.1643 - accuracy: 0.936 - ETA: 13:12 - loss: 0.1644 - accuracy: 0.936 - ETA: 13:11 - loss: 0.1643 - accuracy: 0.936 - ETA: 13:10 - loss: 0.1642 - accuracy: 0.936 - ETA: 13:09 - loss: 0.1642 - accuracy: 0.936 - ETA: 13:07 - loss: 0.1645 - accuracy: 0.935 - ETA: 13:06 - loss: 0.1644 - accuracy: 0.936 - ETA: 13:05 - loss: 0.1644 - accuracy: 0.935 - ETA: 13:04 - loss: 0.1645 - accuracy: 0.935 - ETA: 13:02 - loss: 0.1646 - accuracy: 0.935 - ETA: 13:01 - loss: 0.1648 - accuracy: 0.935 - ETA: 13:00 - loss: 0.1648 - accuracy: 0.935 - ETA: 12:59 - loss: 0.1648 - accuracy: 0.935 - ETA: 12:58 - loss: 0.1647 - accuracy: 0.935 - ETA: 12:57 - loss: 0.1646 - accuracy: 0.935 - ETA: 12:56 - loss: 0.1644 - accuracy: 0.935 - ETA: 12:55 - loss: 0.1644 - accuracy: 0.935 - ETA: 12:54 - loss: 0.1643 - accuracy: 0.936 - ETA: 12:53 - loss: 0.1642 - accuracy: 0.936 - ETA: 12:52 - loss: 0.1641 - accuracy: 0.936 - ETA: 12:51 - loss: 0.1642 - accuracy: 0.936 - ETA: 12:50 - loss: 0.1643 - accuracy: 0.936 - ETA: 12:49 - loss: 0.1642 - accuracy: 0.936 - ETA: 12:49 - loss: 0.1643 - accuracy: 0.936 - ETA: 12:49 - loss: 0.1643 - accuracy: 0.936 - ETA: 12:48 - loss: 0.1642 - accuracy: 0.936 - ETA: 12:47 - loss: 0.1642 - accuracy: 0.936 - ETA: 12:46 - loss: 0.1644 - accuracy: 0.936 - ETA: 12:45 - loss: 0.1644 - accuracy: 0.935 - ETA: 12:44 - loss: 0.1644 - accuracy: 0.936 - ETA: 12:43 - loss: 0.1643 - accuracy: 0.936 - ETA: 12:42 - loss: 0.1642 - accuracy: 0.936 - ETA: 12:41 - loss: 0.1642 - accuracy: 0.9360"
     ]
    },
    {
     "name": "stdout",
     "output_type": "stream",
     "text": [
      " 71300/112907 [=================>............] - ETA: 12:40 - loss: 0.1642 - accuracy: 0.936 - ETA: 12:39 - loss: 0.1641 - accuracy: 0.936 - ETA: 12:39 - loss: 0.1641 - accuracy: 0.936 - ETA: 12:38 - loss: 0.1641 - accuracy: 0.936 - ETA: 12:36 - loss: 0.1642 - accuracy: 0.936 - ETA: 12:36 - loss: 0.1644 - accuracy: 0.935 - ETA: 12:35 - loss: 0.1643 - accuracy: 0.936 - ETA: 12:34 - loss: 0.1641 - accuracy: 0.936 - ETA: 12:33 - loss: 0.1640 - accuracy: 0.936 - ETA: 12:32 - loss: 0.1641 - accuracy: 0.936 - ETA: 12:31 - loss: 0.1642 - accuracy: 0.935 - ETA: 12:30 - loss: 0.1642 - accuracy: 0.936 - ETA: 12:29 - loss: 0.1641 - accuracy: 0.936 - ETA: 12:28 - loss: 0.1640 - accuracy: 0.936 - ETA: 12:27 - loss: 0.1640 - accuracy: 0.936 - ETA: 12:26 - loss: 0.1640 - accuracy: 0.936 - ETA: 12:25 - loss: 0.1640 - accuracy: 0.936 - ETA: 12:23 - loss: 0.1638 - accuracy: 0.936 - ETA: 12:22 - loss: 0.1640 - accuracy: 0.936 - ETA: 12:21 - loss: 0.1639 - accuracy: 0.936 - ETA: 12:20 - loss: 0.1639 - accuracy: 0.936 - ETA: 12:19 - loss: 0.1638 - accuracy: 0.936 - ETA: 12:18 - loss: 0.1639 - accuracy: 0.936 - ETA: 12:17 - loss: 0.1638 - accuracy: 0.936 - ETA: 12:16 - loss: 0.1637 - accuracy: 0.936 - ETA: 12:15 - loss: 0.1637 - accuracy: 0.936 - ETA: 12:14 - loss: 0.1636 - accuracy: 0.936 - ETA: 12:13 - loss: 0.1637 - accuracy: 0.936 - ETA: 12:12 - loss: 0.1637 - accuracy: 0.936 - ETA: 12:11 - loss: 0.1635 - accuracy: 0.936 - ETA: 12:09 - loss: 0.1635 - accuracy: 0.936 - ETA: 12:08 - loss: 0.1634 - accuracy: 0.936 - ETA: 12:07 - loss: 0.1634 - accuracy: 0.936 - ETA: 12:06 - loss: 0.1635 - accuracy: 0.936 - ETA: 12:05 - loss: 0.1634 - accuracy: 0.936 - ETA: 12:03 - loss: 0.1637 - accuracy: 0.936 - ETA: 12:02 - loss: 0.1636 - accuracy: 0.936 - ETA: 12:01 - loss: 0.1636 - accuracy: 0.936 - ETA: 12:00 - loss: 0.1636 - accuracy: 0.936 - ETA: 11:59 - loss: 0.1637 - accuracy: 0.936 - ETA: 11:58 - loss: 0.1637 - accuracy: 0.936 - ETA: 11:57 - loss: 0.1635 - accuracy: 0.936 - ETA: 11:55 - loss: 0.1636 - accuracy: 0.936 - ETA: 11:54 - loss: 0.1635 - accuracy: 0.936 - ETA: 11:53 - loss: 0.1634 - accuracy: 0.936 - ETA: 11:52 - loss: 0.1635 - accuracy: 0.936 - ETA: 11:50 - loss: 0.1635 - accuracy: 0.936 - ETA: 11:49 - loss: 0.1634 - accuracy: 0.936 - ETA: 11:48 - loss: 0.1634 - accuracy: 0.936 - ETA: 11:47 - loss: 0.1635 - accuracy: 0.936 - ETA: 11:46 - loss: 0.1636 - accuracy: 0.936 - ETA: 11:45 - loss: 0.1638 - accuracy: 0.936 - ETA: 11:44 - loss: 0.1638 - accuracy: 0.936 - ETA: 11:43 - loss: 0.1638 - accuracy: 0.936 - ETA: 11:42 - loss: 0.1637 - accuracy: 0.936 - ETA: 11:41 - loss: 0.1637 - accuracy: 0.936 - ETA: 11:39 - loss: 0.1638 - accuracy: 0.936 - ETA: 11:38 - loss: 0.1637 - accuracy: 0.936 - ETA: 11:37 - loss: 0.1636 - accuracy: 0.936 - ETA: 11:36 - loss: 0.1637 - accuracy: 0.936 - ETA: 11:35 - loss: 0.1637 - accuracy: 0.936 - ETA: 11:34 - loss: 0.1636 - accuracy: 0.936 - ETA: 11:33 - loss: 0.1636 - accuracy: 0.936 - ETA: 11:32 - loss: 0.1635 - accuracy: 0.936 - ETA: 11:31 - loss: 0.1637 - accuracy: 0.936 - ETA: 11:29 - loss: 0.1637 - accuracy: 0.936 - ETA: 11:29 - loss: 0.1638 - accuracy: 0.936 - ETA: 11:27 - loss: 0.1638 - accuracy: 0.936 - ETA: 11:26 - loss: 0.1637 - accuracy: 0.936 - ETA: 11:25 - loss: 0.1638 - accuracy: 0.936 - ETA: 11:24 - loss: 0.1637 - accuracy: 0.936 - ETA: 11:23 - loss: 0.1637 - accuracy: 0.936 - ETA: 11:22 - loss: 0.1636 - accuracy: 0.936 - ETA: 11:21 - loss: 0.1636 - accuracy: 0.936 - ETA: 11:20 - loss: 0.1635 - accuracy: 0.936 - ETA: 11:19 - loss: 0.1634 - accuracy: 0.936 - ETA: 11:18 - loss: 0.1635 - accuracy: 0.936 - ETA: 11:16 - loss: 0.1638 - accuracy: 0.936 - ETA: 11:15 - loss: 0.1638 - accuracy: 0.936 - ETA: 11:14 - loss: 0.1638 - accuracy: 0.936 - ETA: 11:13 - loss: 0.1638 - accuracy: 0.936 - ETA: 11:12 - loss: 0.1640 - accuracy: 0.936 - ETA: 11:11 - loss: 0.1639 - accuracy: 0.936 - ETA: 11:09 - loss: 0.1639 - accuracy: 0.936 - ETA: 11:08 - loss: 0.1641 - accuracy: 0.936 - ETA: 11:07 - loss: 0.1642 - accuracy: 0.936 - ETA: 11:06 - loss: 0.1644 - accuracy: 0.936 - ETA: 11:05 - loss: 0.1644 - accuracy: 0.936 - ETA: 11:03 - loss: 0.1643 - accuracy: 0.936 - ETA: 11:02 - loss: 0.1642 - accuracy: 0.936 - ETA: 11:01 - loss: 0.1642 - accuracy: 0.936 - ETA: 11:00 - loss: 0.1644 - accuracy: 0.936 - ETA: 10:59 - loss: 0.1645 - accuracy: 0.936 - ETA: 10:57 - loss: 0.1646 - accuracy: 0.936 - ETA: 10:56 - loss: 0.1647 - accuracy: 0.936 - ETA: 10:55 - loss: 0.1647 - accuracy: 0.936 - ETA: 10:53 - loss: 0.1648 - accuracy: 0.936 - ETA: 10:52 - loss: 0.1647 - accuracy: 0.936 - ETA: 10:51 - loss: 0.1647 - accuracy: 0.936 - ETA: 10:50 - loss: 0.1646 - accuracy: 0.936 - ETA: 10:48 - loss: 0.1646 - accuracy: 0.936 - ETA: 10:47 - loss: 0.1647 - accuracy: 0.936 - ETA: 10:46 - loss: 0.1649 - accuracy: 0.935 - ETA: 10:44 - loss: 0.1649 - accuracy: 0.935 - ETA: 10:43 - loss: 0.1649 - accuracy: 0.935 - ETA: 10:42 - loss: 0.1648 - accuracy: 0.935 - ETA: 10:41 - loss: 0.1649 - accuracy: 0.935 - ETA: 10:39 - loss: 0.1648 - accuracy: 0.936 - ETA: 10:38 - loss: 0.1647 - accuracy: 0.936 - ETA: 10:37 - loss: 0.1647 - accuracy: 0.936 - ETA: 10:35 - loss: 0.1647 - accuracy: 0.936 - ETA: 10:34 - loss: 0.1647 - accuracy: 0.936 - ETA: 10:33 - loss: 0.1649 - accuracy: 0.935 - ETA: 10:31 - loss: 0.1648 - accuracy: 0.935 - ETA: 10:30 - loss: 0.1649 - accuracy: 0.935 - ETA: 10:28 - loss: 0.1648 - accuracy: 0.935 - ETA: 10:27 - loss: 0.1648 - accuracy: 0.935 - ETA: 10:26 - loss: 0.1648 - accuracy: 0.935 - ETA: 10:24 - loss: 0.1648 - accuracy: 0.935 - ETA: 10:23 - loss: 0.1648 - accuracy: 0.935 - ETA: 10:22 - loss: 0.1647 - accuracy: 0.935 - ETA: 10:20 - loss: 0.1647 - accuracy: 0.935 - ETA: 10:19 - loss: 0.1647 - accuracy: 0.935 - ETA: 10:17 - loss: 0.1648 - accuracy: 0.935 - ETA: 10:16 - loss: 0.1648 - accuracy: 0.935 - ETA: 10:15 - loss: 0.1648 - accuracy: 0.935 - ETA: 10:13 - loss: 0.1647 - accuracy: 0.936 - ETA: 10:12 - loss: 0.1647 - accuracy: 0.936 - ETA: 10:11 - loss: 0.1647 - accuracy: 0.936 - ETA: 10:09 - loss: 0.1647 - accuracy: 0.936 - ETA: 10:08 - loss: 0.1648 - accuracy: 0.936 - ETA: 10:07 - loss: 0.1648 - accuracy: 0.936 - ETA: 10:05 - loss: 0.1648 - accuracy: 0.936 - ETA: 10:04 - loss: 0.1649 - accuracy: 0.936 - ETA: 10:03 - loss: 0.1648 - accuracy: 0.936 - ETA: 10:02 - loss: 0.1650 - accuracy: 0.936 - ETA: 10:00 - loss: 0.1650 - accuracy: 0.936 - ETA: 9:59 - loss: 0.1649 - accuracy: 0.936 - ETA: 9:58 - loss: 0.1649 - accuracy: 0.93 - ETA: 9:56 - loss: 0.1651 - accuracy: 0.93 - ETA: 9:55 - loss: 0.1651 - accuracy: 0.93 - ETA: 9:54 - loss: 0.1650 - accuracy: 0.93 - ETA: 9:53 - loss: 0.1650 - accuracy: 0.93 - ETA: 9:51 - loss: 0.1650 - accuracy: 0.93 - ETA: 9:50 - loss: 0.1650 - accuracy: 0.93 - ETA: 9:49 - loss: 0.1649 - accuracy: 0.93 - ETA: 9:48 - loss: 0.1650 - accuracy: 0.93 - ETA: 9:47 - loss: 0.1650 - accuracy: 0.93 - ETA: 9:46 - loss: 0.1651 - accuracy: 0.93 - ETA: 9:45 - loss: 0.1651 - accuracy: 0.93 - ETA: 9:44 - loss: 0.1652 - accuracy: 0.93 - ETA: 9:43 - loss: 0.1652 - accuracy: 0.93 - ETA: 9:41 - loss: 0.1651 - accuracy: 0.93 - ETA: 9:40 - loss: 0.1651 - accuracy: 0.93 - ETA: 9:39 - loss: 0.1652 - accuracy: 0.93 - ETA: 9:38 - loss: 0.1653 - accuracy: 0.93 - ETA: 9:36 - loss: 0.1654 - accuracy: 0.93 - ETA: 9:35 - loss: 0.1655 - accuracy: 0.93 - ETA: 9:34 - loss: 0.1655 - accuracy: 0.93 - ETA: 9:33 - loss: 0.1655 - accuracy: 0.93 - ETA: 9:31 - loss: 0.1655 - accuracy: 0.93 - ETA: 9:30 - loss: 0.1654 - accuracy: 0.93 - ETA: 9:29 - loss: 0.1655 - accuracy: 0.93 - ETA: 9:28 - loss: 0.1655 - accuracy: 0.93 - ETA: 9:26 - loss: 0.1656 - accuracy: 0.93 - ETA: 9:25 - loss: 0.1656 - accuracy: 0.93 - ETA: 9:24 - loss: 0.1656 - accuracy: 0.93 - ETA: 9:22 - loss: 0.1656 - accuracy: 0.93 - ETA: 9:21 - loss: 0.1657 - accuracy: 0.93 - ETA: 9:20 - loss: 0.1657 - accuracy: 0.93 - ETA: 9:19 - loss: 0.1658 - accuracy: 0.93 - ETA: 9:17 - loss: 0.1658 - accuracy: 0.93 - ETA: 9:16 - loss: 0.1658 - accuracy: 0.93 - ETA: 9:15 - loss: 0.1658 - accuracy: 0.93 - ETA: 9:14 - loss: 0.1658 - accuracy: 0.93 - ETA: 9:12 - loss: 0.1657 - accuracy: 0.93 - ETA: 9:11 - loss: 0.1657 - accuracy: 0.93 - ETA: 9:10 - loss: 0.1657 - accuracy: 0.93 - ETA: 9:09 - loss: 0.1658 - accuracy: 0.9355"
     ]
    },
    {
     "name": "stdout",
     "output_type": "stream",
     "text": [
      " 89900/112907 [======================>.......] - ETA: 9:07 - loss: 0.1658 - accuracy: 0.93 - ETA: 9:06 - loss: 0.1658 - accuracy: 0.93 - ETA: 9:05 - loss: 0.1657 - accuracy: 0.93 - ETA: 9:04 - loss: 0.1658 - accuracy: 0.93 - ETA: 9:02 - loss: 0.1658 - accuracy: 0.93 - ETA: 9:01 - loss: 0.1658 - accuracy: 0.93 - ETA: 9:00 - loss: 0.1657 - accuracy: 0.93 - ETA: 8:59 - loss: 0.1657 - accuracy: 0.93 - ETA: 8:57 - loss: 0.1658 - accuracy: 0.93 - ETA: 8:56 - loss: 0.1658 - accuracy: 0.93 - ETA: 8:55 - loss: 0.1658 - accuracy: 0.93 - ETA: 8:54 - loss: 0.1658 - accuracy: 0.93 - ETA: 8:53 - loss: 0.1657 - accuracy: 0.93 - ETA: 8:51 - loss: 0.1657 - accuracy: 0.93 - ETA: 8:50 - loss: 0.1657 - accuracy: 0.93 - ETA: 8:49 - loss: 0.1658 - accuracy: 0.93 - ETA: 8:48 - loss: 0.1657 - accuracy: 0.93 - ETA: 8:47 - loss: 0.1657 - accuracy: 0.93 - ETA: 8:45 - loss: 0.1658 - accuracy: 0.93 - ETA: 8:44 - loss: 0.1658 - accuracy: 0.93 - ETA: 8:43 - loss: 0.1658 - accuracy: 0.93 - ETA: 8:42 - loss: 0.1658 - accuracy: 0.93 - ETA: 8:40 - loss: 0.1658 - accuracy: 0.93 - ETA: 8:39 - loss: 0.1659 - accuracy: 0.93 - ETA: 8:38 - loss: 0.1658 - accuracy: 0.93 - ETA: 8:37 - loss: 0.1657 - accuracy: 0.93 - ETA: 8:36 - loss: 0.1657 - accuracy: 0.93 - ETA: 8:34 - loss: 0.1658 - accuracy: 0.93 - ETA: 8:33 - loss: 0.1658 - accuracy: 0.93 - ETA: 8:32 - loss: 0.1658 - accuracy: 0.93 - ETA: 8:30 - loss: 0.1658 - accuracy: 0.93 - ETA: 8:29 - loss: 0.1658 - accuracy: 0.93 - ETA: 8:28 - loss: 0.1659 - accuracy: 0.93 - ETA: 8:27 - loss: 0.1659 - accuracy: 0.93 - ETA: 8:25 - loss: 0.1659 - accuracy: 0.93 - ETA: 8:24 - loss: 0.1662 - accuracy: 0.93 - ETA: 8:23 - loss: 0.1664 - accuracy: 0.93 - ETA: 8:21 - loss: 0.1664 - accuracy: 0.93 - ETA: 8:20 - loss: 0.1663 - accuracy: 0.93 - ETA: 8:19 - loss: 0.1663 - accuracy: 0.93 - ETA: 8:17 - loss: 0.1663 - accuracy: 0.93 - ETA: 8:16 - loss: 0.1663 - accuracy: 0.93 - ETA: 8:14 - loss: 0.1662 - accuracy: 0.93 - ETA: 8:13 - loss: 0.1662 - accuracy: 0.93 - ETA: 8:12 - loss: 0.1662 - accuracy: 0.93 - ETA: 8:11 - loss: 0.1662 - accuracy: 0.93 - ETA: 8:09 - loss: 0.1661 - accuracy: 0.93 - ETA: 8:08 - loss: 0.1662 - accuracy: 0.93 - ETA: 8:06 - loss: 0.1663 - accuracy: 0.93 - ETA: 8:05 - loss: 0.1662 - accuracy: 0.93 - ETA: 8:04 - loss: 0.1662 - accuracy: 0.93 - ETA: 8:02 - loss: 0.1661 - accuracy: 0.93 - ETA: 8:01 - loss: 0.1661 - accuracy: 0.93 - ETA: 8:00 - loss: 0.1662 - accuracy: 0.93 - ETA: 7:58 - loss: 0.1661 - accuracy: 0.93 - ETA: 7:57 - loss: 0.1661 - accuracy: 0.93 - ETA: 7:55 - loss: 0.1662 - accuracy: 0.93 - ETA: 7:54 - loss: 0.1662 - accuracy: 0.93 - ETA: 7:53 - loss: 0.1662 - accuracy: 0.93 - ETA: 7:51 - loss: 0.1663 - accuracy: 0.93 - ETA: 7:50 - loss: 0.1663 - accuracy: 0.93 - ETA: 7:48 - loss: 0.1664 - accuracy: 0.93 - ETA: 7:47 - loss: 0.1663 - accuracy: 0.93 - ETA: 7:46 - loss: 0.1662 - accuracy: 0.93 - ETA: 7:44 - loss: 0.1661 - accuracy: 0.93 - ETA: 7:43 - loss: 0.1662 - accuracy: 0.93 - ETA: 7:42 - loss: 0.1663 - accuracy: 0.93 - ETA: 7:40 - loss: 0.1661 - accuracy: 0.93 - ETA: 7:39 - loss: 0.1661 - accuracy: 0.93 - ETA: 7:38 - loss: 0.1661 - accuracy: 0.93 - ETA: 7:36 - loss: 0.1662 - accuracy: 0.93 - ETA: 7:35 - loss: 0.1663 - accuracy: 0.93 - ETA: 7:34 - loss: 0.1663 - accuracy: 0.93 - ETA: 7:32 - loss: 0.1663 - accuracy: 0.93 - ETA: 7:31 - loss: 0.1662 - accuracy: 0.93 - ETA: 7:30 - loss: 0.1661 - accuracy: 0.93 - ETA: 7:29 - loss: 0.1661 - accuracy: 0.93 - ETA: 7:28 - loss: 0.1661 - accuracy: 0.93 - ETA: 7:26 - loss: 0.1660 - accuracy: 0.93 - ETA: 7:25 - loss: 0.1659 - accuracy: 0.93 - ETA: 7:24 - loss: 0.1659 - accuracy: 0.93 - ETA: 7:23 - loss: 0.1659 - accuracy: 0.93 - ETA: 7:21 - loss: 0.1658 - accuracy: 0.93 - ETA: 7:20 - loss: 0.1657 - accuracy: 0.93 - ETA: 7:19 - loss: 0.1658 - accuracy: 0.93 - ETA: 7:18 - loss: 0.1658 - accuracy: 0.93 - ETA: 7:16 - loss: 0.1660 - accuracy: 0.93 - ETA: 7:15 - loss: 0.1660 - accuracy: 0.93 - ETA: 7:14 - loss: 0.1661 - accuracy: 0.93 - ETA: 7:12 - loss: 0.1660 - accuracy: 0.93 - ETA: 7:11 - loss: 0.1660 - accuracy: 0.93 - ETA: 7:10 - loss: 0.1662 - accuracy: 0.93 - ETA: 7:08 - loss: 0.1662 - accuracy: 0.93 - ETA: 7:07 - loss: 0.1662 - accuracy: 0.93 - ETA: 7:06 - loss: 0.1661 - accuracy: 0.93 - ETA: 7:05 - loss: 0.1660 - accuracy: 0.93 - ETA: 7:03 - loss: 0.1660 - accuracy: 0.93 - ETA: 7:02 - loss: 0.1661 - accuracy: 0.93 - ETA: 7:01 - loss: 0.1661 - accuracy: 0.93 - ETA: 6:59 - loss: 0.1662 - accuracy: 0.93 - ETA: 6:58 - loss: 0.1663 - accuracy: 0.93 - ETA: 6:57 - loss: 0.1663 - accuracy: 0.93 - ETA: 6:56 - loss: 0.1663 - accuracy: 0.93 - ETA: 6:54 - loss: 0.1663 - accuracy: 0.93 - ETA: 6:53 - loss: 0.1663 - accuracy: 0.93 - ETA: 6:52 - loss: 0.1664 - accuracy: 0.93 - ETA: 6:50 - loss: 0.1664 - accuracy: 0.93 - ETA: 6:49 - loss: 0.1663 - accuracy: 0.93 - ETA: 6:48 - loss: 0.1664 - accuracy: 0.93 - ETA: 6:46 - loss: 0.1663 - accuracy: 0.93 - ETA: 6:45 - loss: 0.1663 - accuracy: 0.93 - ETA: 6:44 - loss: 0.1663 - accuracy: 0.93 - ETA: 6:42 - loss: 0.1662 - accuracy: 0.93 - ETA: 6:41 - loss: 0.1662 - accuracy: 0.93 - ETA: 6:39 - loss: 0.1661 - accuracy: 0.93 - ETA: 6:38 - loss: 0.1660 - accuracy: 0.93 - ETA: 6:37 - loss: 0.1661 - accuracy: 0.93 - ETA: 6:35 - loss: 0.1660 - accuracy: 0.93 - ETA: 6:34 - loss: 0.1660 - accuracy: 0.93 - ETA: 6:33 - loss: 0.1659 - accuracy: 0.93 - ETA: 6:32 - loss: 0.1659 - accuracy: 0.93 - ETA: 6:30 - loss: 0.1659 - accuracy: 0.93 - ETA: 6:29 - loss: 0.1659 - accuracy: 0.93 - ETA: 6:28 - loss: 0.1661 - accuracy: 0.93 - ETA: 6:26 - loss: 0.1662 - accuracy: 0.93 - ETA: 6:25 - loss: 0.1662 - accuracy: 0.93 - ETA: 6:24 - loss: 0.1663 - accuracy: 0.93 - ETA: 6:22 - loss: 0.1663 - accuracy: 0.93 - ETA: 6:21 - loss: 0.1664 - accuracy: 0.93 - ETA: 6:19 - loss: 0.1664 - accuracy: 0.93 - ETA: 6:18 - loss: 0.1663 - accuracy: 0.93 - ETA: 6:17 - loss: 0.1663 - accuracy: 0.93 - ETA: 6:15 - loss: 0.1662 - accuracy: 0.93 - ETA: 6:14 - loss: 0.1662 - accuracy: 0.93 - ETA: 6:13 - loss: 0.1662 - accuracy: 0.93 - ETA: 6:11 - loss: 0.1663 - accuracy: 0.93 - ETA: 6:10 - loss: 0.1664 - accuracy: 0.93 - ETA: 6:09 - loss: 0.1665 - accuracy: 0.93 - ETA: 6:07 - loss: 0.1666 - accuracy: 0.93 - ETA: 6:06 - loss: 0.1666 - accuracy: 0.93 - ETA: 6:05 - loss: 0.1666 - accuracy: 0.93 - ETA: 6:03 - loss: 0.1667 - accuracy: 0.93 - ETA: 6:02 - loss: 0.1666 - accuracy: 0.93 - ETA: 6:01 - loss: 0.1666 - accuracy: 0.93 - ETA: 5:59 - loss: 0.1666 - accuracy: 0.93 - ETA: 5:58 - loss: 0.1666 - accuracy: 0.93 - ETA: 5:57 - loss: 0.1666 - accuracy: 0.93 - ETA: 5:55 - loss: 0.1665 - accuracy: 0.93 - ETA: 5:54 - loss: 0.1665 - accuracy: 0.93 - ETA: 5:53 - loss: 0.1665 - accuracy: 0.93 - ETA: 5:51 - loss: 0.1665 - accuracy: 0.93 - ETA: 5:50 - loss: 0.1665 - accuracy: 0.93 - ETA: 5:49 - loss: 0.1667 - accuracy: 0.93 - ETA: 5:47 - loss: 0.1667 - accuracy: 0.93 - ETA: 5:46 - loss: 0.1667 - accuracy: 0.93 - ETA: 5:45 - loss: 0.1667 - accuracy: 0.93 - ETA: 5:43 - loss: 0.1668 - accuracy: 0.93 - ETA: 5:42 - loss: 0.1667 - accuracy: 0.93 - ETA: 5:41 - loss: 0.1668 - accuracy: 0.93 - ETA: 5:39 - loss: 0.1670 - accuracy: 0.93 - ETA: 5:38 - loss: 0.1670 - accuracy: 0.93 - ETA: 5:37 - loss: 0.1671 - accuracy: 0.93 - ETA: 5:35 - loss: 0.1670 - accuracy: 0.93 - ETA: 5:34 - loss: 0.1669 - accuracy: 0.93 - ETA: 5:33 - loss: 0.1670 - accuracy: 0.93 - ETA: 5:31 - loss: 0.1670 - accuracy: 0.93 - ETA: 5:30 - loss: 0.1670 - accuracy: 0.93 - ETA: 5:29 - loss: 0.1670 - accuracy: 0.93 - ETA: 5:28 - loss: 0.1670 - accuracy: 0.93 - ETA: 5:26 - loss: 0.1670 - accuracy: 0.93 - ETA: 5:25 - loss: 0.1670 - accuracy: 0.93 - ETA: 5:24 - loss: 0.1671 - accuracy: 0.93 - ETA: 5:22 - loss: 0.1672 - accuracy: 0.93 - ETA: 5:21 - loss: 0.1672 - accuracy: 0.93 - ETA: 5:20 - loss: 0.1672 - accuracy: 0.93 - ETA: 5:18 - loss: 0.1672 - accuracy: 0.93 - ETA: 5:17 - loss: 0.1672 - accuracy: 0.93 - ETA: 5:16 - loss: 0.1672 - accuracy: 0.93 - ETA: 5:14 - loss: 0.1671 - accuracy: 0.93 - ETA: 5:13 - loss: 0.1672 - accuracy: 0.93 - ETA: 5:12 - loss: 0.1671 - accuracy: 0.93 - ETA: 5:10 - loss: 0.1671 - accuracy: 0.93 - ETA: 5:09 - loss: 0.1670 - accuracy: 0.93 - ETA: 5:08 - loss: 0.1670 - accuracy: 0.93 - ETA: 5:06 - loss: 0.1671 - accuracy: 0.93 - ETA: 5:05 - loss: 0.1671 - accuracy: 0.9352"
     ]
    },
    {
     "name": "stdout",
     "output_type": "stream",
     "text": [
      "108500/112907 [===========================>..] - ETA: 5:04 - loss: 0.1671 - accuracy: 0.93 - ETA: 5:02 - loss: 0.1671 - accuracy: 0.93 - ETA: 5:01 - loss: 0.1671 - accuracy: 0.93 - ETA: 5:00 - loss: 0.1671 - accuracy: 0.93 - ETA: 4:58 - loss: 0.1671 - accuracy: 0.93 - ETA: 4:57 - loss: 0.1670 - accuracy: 0.93 - ETA: 4:56 - loss: 0.1671 - accuracy: 0.93 - ETA: 4:54 - loss: 0.1671 - accuracy: 0.93 - ETA: 4:53 - loss: 0.1672 - accuracy: 0.93 - ETA: 4:52 - loss: 0.1673 - accuracy: 0.93 - ETA: 4:51 - loss: 0.1673 - accuracy: 0.93 - ETA: 4:49 - loss: 0.1673 - accuracy: 0.93 - ETA: 4:48 - loss: 0.1673 - accuracy: 0.93 - ETA: 4:47 - loss: 0.1674 - accuracy: 0.93 - ETA: 4:45 - loss: 0.1674 - accuracy: 0.93 - ETA: 4:44 - loss: 0.1674 - accuracy: 0.93 - ETA: 4:43 - loss: 0.1675 - accuracy: 0.93 - ETA: 4:41 - loss: 0.1675 - accuracy: 0.93 - ETA: 4:40 - loss: 0.1675 - accuracy: 0.93 - ETA: 4:39 - loss: 0.1676 - accuracy: 0.93 - ETA: 4:38 - loss: 0.1676 - accuracy: 0.93 - ETA: 4:36 - loss: 0.1675 - accuracy: 0.93 - ETA: 4:35 - loss: 0.1675 - accuracy: 0.93 - ETA: 4:34 - loss: 0.1674 - accuracy: 0.93 - ETA: 4:33 - loss: 0.1674 - accuracy: 0.93 - ETA: 4:31 - loss: 0.1674 - accuracy: 0.93 - ETA: 4:30 - loss: 0.1674 - accuracy: 0.93 - ETA: 4:29 - loss: 0.1674 - accuracy: 0.93 - ETA: 4:27 - loss: 0.1674 - accuracy: 0.93 - ETA: 4:26 - loss: 0.1675 - accuracy: 0.93 - ETA: 4:25 - loss: 0.1675 - accuracy: 0.93 - ETA: 4:23 - loss: 0.1675 - accuracy: 0.93 - ETA: 4:22 - loss: 0.1675 - accuracy: 0.93 - ETA: 4:21 - loss: 0.1674 - accuracy: 0.93 - ETA: 4:19 - loss: 0.1673 - accuracy: 0.93 - ETA: 4:18 - loss: 0.1674 - accuracy: 0.93 - ETA: 4:17 - loss: 0.1674 - accuracy: 0.93 - ETA: 4:15 - loss: 0.1674 - accuracy: 0.93 - ETA: 4:14 - loss: 0.1673 - accuracy: 0.93 - ETA: 4:13 - loss: 0.1674 - accuracy: 0.93 - ETA: 4:12 - loss: 0.1674 - accuracy: 0.93 - ETA: 4:10 - loss: 0.1673 - accuracy: 0.93 - ETA: 4:09 - loss: 0.1673 - accuracy: 0.93 - ETA: 4:08 - loss: 0.1674 - accuracy: 0.93 - ETA: 4:06 - loss: 0.1674 - accuracy: 0.93 - ETA: 4:05 - loss: 0.1674 - accuracy: 0.93 - ETA: 4:04 - loss: 0.1674 - accuracy: 0.93 - ETA: 4:02 - loss: 0.1674 - accuracy: 0.93 - ETA: 4:01 - loss: 0.1674 - accuracy: 0.93 - ETA: 4:00 - loss: 0.1674 - accuracy: 0.93 - ETA: 3:58 - loss: 0.1674 - accuracy: 0.93 - ETA: 3:57 - loss: 0.1675 - accuracy: 0.93 - ETA: 3:56 - loss: 0.1675 - accuracy: 0.93 - ETA: 3:54 - loss: 0.1676 - accuracy: 0.93 - ETA: 3:53 - loss: 0.1676 - accuracy: 0.93 - ETA: 3:52 - loss: 0.1676 - accuracy: 0.93 - ETA: 3:50 - loss: 0.1676 - accuracy: 0.93 - ETA: 3:49 - loss: 0.1676 - accuracy: 0.93 - ETA: 3:48 - loss: 0.1676 - accuracy: 0.93 - ETA: 3:46 - loss: 0.1677 - accuracy: 0.93 - ETA: 3:45 - loss: 0.1678 - accuracy: 0.93 - ETA: 3:44 - loss: 0.1678 - accuracy: 0.93 - ETA: 3:42 - loss: 0.1679 - accuracy: 0.93 - ETA: 3:41 - loss: 0.1679 - accuracy: 0.93 - ETA: 3:40 - loss: 0.1679 - accuracy: 0.93 - ETA: 3:38 - loss: 0.1679 - accuracy: 0.93 - ETA: 3:37 - loss: 0.1678 - accuracy: 0.93 - ETA: 3:36 - loss: 0.1679 - accuracy: 0.93 - ETA: 3:34 - loss: 0.1679 - accuracy: 0.93 - ETA: 3:33 - loss: 0.1680 - accuracy: 0.93 - ETA: 3:32 - loss: 0.1680 - accuracy: 0.93 - ETA: 3:30 - loss: 0.1681 - accuracy: 0.93 - ETA: 3:29 - loss: 0.1680 - accuracy: 0.93 - ETA: 3:28 - loss: 0.1681 - accuracy: 0.93 - ETA: 3:27 - loss: 0.1681 - accuracy: 0.93 - ETA: 3:25 - loss: 0.1681 - accuracy: 0.93 - ETA: 3:24 - loss: 0.1682 - accuracy: 0.93 - ETA: 3:22 - loss: 0.1681 - accuracy: 0.93 - ETA: 3:21 - loss: 0.1681 - accuracy: 0.93 - ETA: 3:20 - loss: 0.1681 - accuracy: 0.93 - ETA: 3:19 - loss: 0.1682 - accuracy: 0.93 - ETA: 3:17 - loss: 0.1682 - accuracy: 0.93 - ETA: 3:16 - loss: 0.1682 - accuracy: 0.93 - ETA: 3:15 - loss: 0.1682 - accuracy: 0.93 - ETA: 3:13 - loss: 0.1682 - accuracy: 0.93 - ETA: 3:12 - loss: 0.1682 - accuracy: 0.93 - ETA: 3:11 - loss: 0.1682 - accuracy: 0.93 - ETA: 3:09 - loss: 0.1682 - accuracy: 0.93 - ETA: 3:08 - loss: 0.1683 - accuracy: 0.93 - ETA: 3:07 - loss: 0.1683 - accuracy: 0.93 - ETA: 3:05 - loss: 0.1683 - accuracy: 0.93 - ETA: 3:04 - loss: 0.1683 - accuracy: 0.93 - ETA: 3:03 - loss: 0.1683 - accuracy: 0.93 - ETA: 3:01 - loss: 0.1683 - accuracy: 0.93 - ETA: 3:00 - loss: 0.1683 - accuracy: 0.93 - ETA: 2:59 - loss: 0.1683 - accuracy: 0.93 - ETA: 2:57 - loss: 0.1683 - accuracy: 0.93 - ETA: 2:56 - loss: 0.1684 - accuracy: 0.93 - ETA: 2:55 - loss: 0.1683 - accuracy: 0.93 - ETA: 2:53 - loss: 0.1683 - accuracy: 0.93 - ETA: 2:52 - loss: 0.1683 - accuracy: 0.93 - ETA: 2:51 - loss: 0.1683 - accuracy: 0.93 - ETA: 2:49 - loss: 0.1683 - accuracy: 0.93 - ETA: 2:48 - loss: 0.1683 - accuracy: 0.93 - ETA: 2:47 - loss: 0.1683 - accuracy: 0.93 - ETA: 2:45 - loss: 0.1683 - accuracy: 0.93 - ETA: 2:44 - loss: 0.1682 - accuracy: 0.93 - ETA: 2:43 - loss: 0.1682 - accuracy: 0.93 - ETA: 2:41 - loss: 0.1682 - accuracy: 0.93 - ETA: 2:40 - loss: 0.1682 - accuracy: 0.93 - ETA: 2:39 - loss: 0.1684 - accuracy: 0.93 - ETA: 2:37 - loss: 0.1684 - accuracy: 0.93 - ETA: 2:36 - loss: 0.1684 - accuracy: 0.93 - ETA: 2:35 - loss: 0.1684 - accuracy: 0.93 - ETA: 2:33 - loss: 0.1683 - accuracy: 0.93 - ETA: 2:32 - loss: 0.1683 - accuracy: 0.93 - ETA: 2:31 - loss: 0.1684 - accuracy: 0.93 - ETA: 2:30 - loss: 0.1684 - accuracy: 0.93 - ETA: 2:28 - loss: 0.1684 - accuracy: 0.93 - ETA: 2:27 - loss: 0.1684 - accuracy: 0.93 - ETA: 2:26 - loss: 0.1685 - accuracy: 0.93 - ETA: 2:24 - loss: 0.1685 - accuracy: 0.93 - ETA: 2:23 - loss: 0.1685 - accuracy: 0.93 - ETA: 2:22 - loss: 0.1685 - accuracy: 0.93 - ETA: 2:20 - loss: 0.1684 - accuracy: 0.93 - ETA: 2:19 - loss: 0.1684 - accuracy: 0.93 - ETA: 2:18 - loss: 0.1684 - accuracy: 0.93 - ETA: 2:16 - loss: 0.1683 - accuracy: 0.93 - ETA: 2:15 - loss: 0.1685 - accuracy: 0.93 - ETA: 2:14 - loss: 0.1685 - accuracy: 0.93 - ETA: 2:12 - loss: 0.1685 - accuracy: 0.93 - ETA: 2:11 - loss: 0.1684 - accuracy: 0.93 - ETA: 2:10 - loss: 0.1684 - accuracy: 0.93 - ETA: 2:08 - loss: 0.1683 - accuracy: 0.93 - ETA: 2:07 - loss: 0.1684 - accuracy: 0.93 - ETA: 2:06 - loss: 0.1684 - accuracy: 0.93 - ETA: 2:04 - loss: 0.1684 - accuracy: 0.93 - ETA: 2:03 - loss: 0.1685 - accuracy: 0.93 - ETA: 2:02 - loss: 0.1685 - accuracy: 0.93 - ETA: 2:00 - loss: 0.1686 - accuracy: 0.93 - ETA: 1:59 - loss: 0.1686 - accuracy: 0.93 - ETA: 1:58 - loss: 0.1687 - accuracy: 0.93 - ETA: 1:56 - loss: 0.1686 - accuracy: 0.93 - ETA: 1:55 - loss: 0.1685 - accuracy: 0.93 - ETA: 1:54 - loss: 0.1685 - accuracy: 0.93 - ETA: 1:52 - loss: 0.1685 - accuracy: 0.93 - ETA: 1:51 - loss: 0.1685 - accuracy: 0.93 - ETA: 1:50 - loss: 0.1685 - accuracy: 0.93 - ETA: 1:48 - loss: 0.1684 - accuracy: 0.93 - ETA: 1:47 - loss: 0.1685 - accuracy: 0.93 - ETA: 1:46 - loss: 0.1685 - accuracy: 0.93 - ETA: 1:44 - loss: 0.1685 - accuracy: 0.93 - ETA: 1:43 - loss: 0.1684 - accuracy: 0.93 - ETA: 1:42 - loss: 0.1684 - accuracy: 0.93 - ETA: 1:40 - loss: 0.1683 - accuracy: 0.93 - ETA: 1:39 - loss: 0.1683 - accuracy: 0.93 - ETA: 1:38 - loss: 0.1683 - accuracy: 0.93 - ETA: 1:36 - loss: 0.1684 - accuracy: 0.93 - ETA: 1:35 - loss: 0.1683 - accuracy: 0.93 - ETA: 1:34 - loss: 0.1684 - accuracy: 0.93 - ETA: 1:32 - loss: 0.1683 - accuracy: 0.93 - ETA: 1:31 - loss: 0.1683 - accuracy: 0.93 - ETA: 1:30 - loss: 0.1682 - accuracy: 0.93 - ETA: 1:28 - loss: 0.1683 - accuracy: 0.93 - ETA: 1:27 - loss: 0.1682 - accuracy: 0.93 - ETA: 1:26 - loss: 0.1682 - accuracy: 0.93 - ETA: 1:24 - loss: 0.1682 - accuracy: 0.93 - ETA: 1:23 - loss: 0.1683 - accuracy: 0.93 - ETA: 1:22 - loss: 0.1683 - accuracy: 0.93 - ETA: 1:20 - loss: 0.1683 - accuracy: 0.93 - ETA: 1:19 - loss: 0.1683 - accuracy: 0.93 - ETA: 1:18 - loss: 0.1684 - accuracy: 0.93 - ETA: 1:16 - loss: 0.1684 - accuracy: 0.93 - ETA: 1:15 - loss: 0.1684 - accuracy: 0.93 - ETA: 1:14 - loss: 0.1683 - accuracy: 0.93 - ETA: 1:12 - loss: 0.1684 - accuracy: 0.93 - ETA: 1:11 - loss: 0.1684 - accuracy: 0.93 - ETA: 1:10 - loss: 0.1683 - accuracy: 0.93 - ETA: 1:08 - loss: 0.1684 - accuracy: 0.93 - ETA: 1:07 - loss: 0.1683 - accuracy: 0.93 - ETA: 1:06 - loss: 0.1684 - accuracy: 0.93 - ETA: 1:04 - loss: 0.1685 - accuracy: 0.93 - ETA: 1:03 - loss: 0.1685 - accuracy: 0.93 - ETA: 1:02 - loss: 0.1684 - accuracy: 0.93 - ETA: 1:00 - loss: 0.1685 - accuracy: 0.93 - ETA: 59s - loss: 0.1685 - accuracy: 0.9348 "
     ]
    },
    {
     "name": "stdout",
     "output_type": "stream",
     "text": [
      "112907/112907 [==============================] - ETA: 58s - loss: 0.1686 - accuracy: 0.934 - ETA: 56s - loss: 0.1686 - accuracy: 0.934 - ETA: 55s - loss: 0.1686 - accuracy: 0.934 - ETA: 54s - loss: 0.1687 - accuracy: 0.934 - ETA: 52s - loss: 0.1687 - accuracy: 0.934 - ETA: 51s - loss: 0.1688 - accuracy: 0.934 - ETA: 49s - loss: 0.1688 - accuracy: 0.934 - ETA: 48s - loss: 0.1689 - accuracy: 0.934 - ETA: 47s - loss: 0.1689 - accuracy: 0.934 - ETA: 45s - loss: 0.1689 - accuracy: 0.934 - ETA: 44s - loss: 0.1689 - accuracy: 0.934 - ETA: 43s - loss: 0.1689 - accuracy: 0.934 - ETA: 41s - loss: 0.1689 - accuracy: 0.934 - ETA: 40s - loss: 0.1688 - accuracy: 0.934 - ETA: 39s - loss: 0.1688 - accuracy: 0.934 - ETA: 37s - loss: 0.1688 - accuracy: 0.934 - ETA: 36s - loss: 0.1689 - accuracy: 0.934 - ETA: 35s - loss: 0.1689 - accuracy: 0.934 - ETA: 33s - loss: 0.1690 - accuracy: 0.934 - ETA: 32s - loss: 0.1690 - accuracy: 0.934 - ETA: 31s - loss: 0.1691 - accuracy: 0.934 - ETA: 29s - loss: 0.1691 - accuracy: 0.934 - ETA: 28s - loss: 0.1691 - accuracy: 0.934 - ETA: 27s - loss: 0.1692 - accuracy: 0.934 - ETA: 25s - loss: 0.1691 - accuracy: 0.934 - ETA: 24s - loss: 0.1692 - accuracy: 0.934 - ETA: 23s - loss: 0.1692 - accuracy: 0.934 - ETA: 21s - loss: 0.1693 - accuracy: 0.934 - ETA: 20s - loss: 0.1693 - accuracy: 0.934 - ETA: 18s - loss: 0.1692 - accuracy: 0.934 - ETA: 17s - loss: 0.1693 - accuracy: 0.934 - ETA: 16s - loss: 0.1693 - accuracy: 0.934 - ETA: 14s - loss: 0.1693 - accuracy: 0.934 - ETA: 13s - loss: 0.1693 - accuracy: 0.934 - ETA: 12s - loss: 0.1693 - accuracy: 0.934 - ETA: 10s - loss: 0.1693 - accuracy: 0.934 - ETA: 9s - loss: 0.1692 - accuracy: 0.934 - ETA: 8s - loss: 0.1693 - accuracy: 0.93 - ETA: 6s - loss: 0.1693 - accuracy: 0.93 - ETA: 5s - loss: 0.1693 - accuracy: 0.93 - ETA: 4s - loss: 0.1694 - accuracy: 0.93 - ETA: 2s - loss: 0.1693 - accuracy: 0.93 - ETA: 1s - loss: 0.1693 - accuracy: 0.93 - ETA: 0s - loss: 0.1693 - accuracy: 0.93 - 1672s 15ms/step - loss: 0.1693 - accuracy: 0.9345 - val_loss: 0.2821 - val_accuracy: 0.8924\n"
     ]
    }
   ],
   "source": [
    "# Training the model \n",
    "#set early stopping monitor so the model stops training when it won't improve anymore\n",
    "early_stopping_monitor = EarlyStopping(patience=3)\n",
    "model_conv = create_conv_model()\n",
    "history1 = model_conv.fit(data_train, np.array(train_labels), batch_size=100, validation_split=0.3, epochs = 3,callbacks=[early_stopping_monitor])\n"
   ]
  },
  {
   "cell_type": "code",
   "execution_count": 91,
   "metadata": {},
   "outputs": [
    {
     "data": {
      "image/png": "[encoded data removed]",
      "text/plain": [
       "<Figure size 432x288 with 1 Axes>"
      ]
     },
     "metadata": {
      "needs_background": "light"
     },
     "output_type": "display_data"
    }
   ],
   "source": [
    "plt.plot(history1.history['loss'],label='train')\n",
    "plt.plot(history1.history['val_loss'],label='validation')\n",
    "plt.legend()\n",
    "plt.title('model loss')\n",
    "plt.ylabel(\"loss\")\n",
    "plt.xlabel(\"epoch\")\n",
    "plt.savefig('rcnn_model_loss.png')"
   ]
  },
  {
   "cell_type": "code",
   "execution_count": 92,
   "metadata": {},
   "outputs": [
    {
     "data": {
      "image/png": "[encoded data removed]",
      "text/plain": [
       "<Figure size 432x288 with 1 Axes>"
      ]
     },
     "metadata": {
      "needs_background": "light"
     },
     "output_type": "display_data"
    }
   ],
   "source": [
    "plt.plot(history1.history['accuracy'],label='train')\n",
    "plt.plot(history1.history['val_accuracy'],label='validation')\n",
    "plt.title('model accuracy')\n",
    "plt.legend()\n",
    "plt.ylabel('accuracy')\n",
    "plt.xlabel('epoch')\n",
    "plt.savefig('rcnn_model_accuracy.png')"
   ]
  },
  {
   "cell_type": "code",
   "execution_count": 97,
   "metadata": {},
   "outputs": [
    {
     "data": {
      "text/plain": [
       "array([[0.9905355 ],\n",
       "       [0.99429476],\n",
       "       [0.96409404],\n",
       "       ...,\n",
       "       [0.04212382],\n",
       "       [0.99624944],\n",
       "       [0.99496067]], dtype=float32)"
      ]
     },
     "execution_count": 97,
     "metadata": {},
     "output_type": "execute_result"
    }
   ],
   "source": [
    "# Computing the same for Test Dataset\n",
    "train_y_predictions = model_conv.predict(data_train)\n",
    "train_y_predictions"
   ]
  },
  {
   "cell_type": "code",
   "execution_count": 98,
   "metadata": {},
   "outputs": [],
   "source": [
    "# Binarizing the output of the neural network\n",
    "train_y_predictions[train_y_predictions >= 0.5] = 1\n",
    "train_y_predictions[train_y_predictions < 0.5] = 0"
   ]
  },
  {
   "cell_type": "code",
   "execution_count": 99,
   "metadata": {},
   "outputs": [
    {
     "data": {
      "text/plain": [
       "array([[1.],\n",
       "       [1.],\n",
       "       [1.],\n",
       "       ...,\n",
       "       [0.],\n",
       "       [1.],\n",
       "       [1.]], dtype=float32)"
      ]
     },
     "execution_count": 99,
     "metadata": {},
     "output_type": "execute_result"
    }
   ],
   "source": [
    "train_y_predictions"
   ]
  },
  {
   "cell_type": "code",
   "execution_count": 93,
   "metadata": {},
   "outputs": [],
   "source": [
    "# CNN_train_accuracy = accuracy_score(train_labels,train_y_predictions)\n",
    "# CNN_train_accuracy\n",
    "# from sklearn.metrics import confusion_matrix\n",
    "# test_y = df_test['rating_new']\n",
    "# cm1 = confusion_matrix(train_y_predictions,train_labels )\n",
    "# print (cm1)"
   ]
  },
  {
   "cell_type": "code",
   "execution_count": 100,
   "metadata": {},
   "outputs": [],
   "source": [
    "def plot_roc_curve(fpr, tpr):\n",
    "    plt.plot(fpr, tpr, color='orange', label='ROC')\n",
    "    plt.plot([0, 1], [0, 1], color='darkblue', linestyle='--')\n",
    "    plt.xlabel('False Positive Rate')\n",
    "    plt.ylabel('True Positive Rate')\n",
    "    plt.title('Receiver Operating Characteristic (ROC) Curve')\n",
    "    plt.legend()\n",
    "    plt.show()"
   ]
  },
  {
   "cell_type": "code",
   "execution_count": 106,
   "metadata": {},
   "outputs": [
    {
     "data": {
      "text/plain": [
       "array([[0.9445709 ],\n",
       "       [0.91367817],\n",
       "       [0.6461806 ],\n",
       "       ...,\n",
       "       [0.9788972 ],\n",
       "       [0.03892138],\n",
       "       [0.7923496 ]], dtype=float32)"
      ]
     },
     "execution_count": 106,
     "metadata": {},
     "output_type": "execute_result"
    }
   ],
   "source": [
    "# Computing the same for Test Dataset\n",
    "test_y_predictions = model_conv.predict(data_test)\n",
    "test_y_predictions"
   ]
  },
  {
   "cell_type": "code",
   "execution_count": 107,
   "metadata": {},
   "outputs": [
    {
     "name": "stdout",
     "output_type": "stream",
     "text": [
      "<class 'numpy.ndarray'>\n"
     ]
    }
   ],
   "source": [
    "print (type(test_y_predictions))"
   ]
  },
  {
   "cell_type": "code",
   "execution_count": 108,
   "metadata": {},
   "outputs": [
    {
     "data": {
      "text/plain": [
       "array([[1.],\n",
       "       [1.],\n",
       "       [1.],\n",
       "       ...,\n",
       "       [1.],\n",
       "       [0.],\n",
       "       [1.]], dtype=float32)"
      ]
     },
     "execution_count": 108,
     "metadata": {},
     "output_type": "execute_result"
    }
   ],
   "source": [
    "# Binarizing the output of the neural network\n",
    "test_y_predictions[test_y_predictions >= 0.5] = 1\n",
    "test_y_predictions[test_y_predictions < 0.5] = 0\n",
    "test_y_predictions"
   ]
  },
  {
   "cell_type": "code",
   "execution_count": 109,
   "metadata": {},
   "outputs": [
    {
     "name": "stdout",
     "output_type": "stream",
     "text": [
      "[[ 3136  5473]\n",
      " [10361 34796]]\n"
     ]
    }
   ],
   "source": [
    "from sklearn.metrics import confusion_matrix\n",
    "test_y = df_test['rating_new']\n",
    "cm = confusion_matrix(test_y_predictions,test_y )\n",
    "print (cm)"
   ]
  },
  {
   "cell_type": "code",
   "execution_count": 110,
   "metadata": {},
   "outputs": [
    {
     "data": {
      "text/plain": [
       "0.7055016181229773"
      ]
     },
     "execution_count": 110,
     "metadata": {},
     "output_type": "execute_result"
    }
   ],
   "source": [
    "CNN_test_accuracy = accuracy_score(test_y,test_y_predictions)\n",
    "CNN_test_accuracy"
   ]
  },
  {
   "cell_type": "code",
   "execution_count": 64,
   "metadata": {
    "collapsed": true
   },
   "outputs": [
    {
     "name": "stdout",
     "output_type": "stream",
     "text": [
      "26080/53766 [=============>................] - ETA: 2: - ETA: 2: - ETA: 2: - ETA: 2: - ETA: 2: - ETA: 2: - ETA: 2: - ETA: 2: - ETA: 1: - ETA: 1: - ETA: 1: - ETA: 2: - ETA: 2: - ETA: 2: - ETA: 2: - ETA: 2: - ETA: 2: - ETA: 2: - ETA: 2: - ETA: 2: - ETA: 2: - ETA: 2: - ETA: 2: - ETA: 2: - ETA: 2: - ETA: 2: - ETA: 2: - ETA: 2: - ETA: 2: - ETA: 2: - ETA: 2: - ETA: 2: - ETA: 2: - ETA: 2: - ETA: 2: - ETA: 2: - ETA: 2: - ETA: 2: - ETA: 2: - ETA: 2: - ETA: 2: - ETA: 2: - ETA: 2: - ETA: 2: - ETA: 2: - ETA: 2: - ETA: 2: - ETA: 2: - ETA: 2: - ETA: 2: - ETA: 2: - ETA: 2: - ETA: 2: - ETA: 2: - ETA: 2: - ETA: 2: - ETA: 2: - ETA: 2: - ETA: 2: - ETA: 2: - ETA: 2: - ETA: 2: - ETA: 2: - ETA: 2: - ETA: 1: - ETA: 1: - ETA: 1: - ETA: 1: - ETA: 1: - ETA: 1: - ETA: 1: - ETA: 1: - ETA: 1: - ETA: 1: - ETA: 1: - ETA: 1: - ETA: 1: - ETA: 1: - ETA: 1: - ETA: 1: - ETA: 1: - ETA: 1: - ETA: 1: - ETA: 1: - ETA: 1: - ETA: 1: - ETA: 1: - ETA: 1: - ETA: 1: - ETA: 1: - ETA: 1: - ETA: 1: - ETA: 1: - ETA: 1: - ETA: 1: - ETA: 1: - ETA: 1: - ETA: 1: - ETA: 1: - ETA: 1: - ETA: 1: - ETA: 1: - ETA: 1: - ETA: 1: - ETA: 1: - ETA: 1: - ETA: 1: - ETA: 1: - ETA: 1: - ETA: 1: - ETA: 1: - ETA: 1: - ETA: 1: - ETA: 1: - ETA: 1: - ETA: 1: - ETA: 1: - ETA: 1: - ETA: 1: - ETA: 1: - ETA: 1: - ETA: 1: - ETA: 1: - ETA: 1: - ETA: 1: - ETA: 1: - ETA: 1: - ETA: 1: - ETA: 1: - ETA: 1: - ETA: 1: - ETA: 1: - ETA: 1: - ETA: 1: - ETA: 1: - ETA: 1: - ETA: 1: - ETA: 1: - ETA: 1: - ETA: 1: - ETA: 1: - ETA: 1: - ETA: 1: - ETA: 1: - ETA: 1: - ETA: 1: - ETA: 1: - ETA: 1: - ETA: 1: - ETA: 1: - ETA: 2: - ETA: 2: - ETA: 2: - ETA: 2: - ETA: 2: - ETA: 2: - ETA: 2: - ETA: 2: - ETA: 2: - ETA: 2: - ETA: 2: - ETA: 2: - ETA: 2: - ETA: 2: - ETA: 2: - ETA: 2: - ETA: 2: - ETA: 2: - ETA: 2: - ETA: 2: - ETA: 2: - ETA: 2: - ETA: 2: - ETA: 2: - ETA: 2: - ETA: 2: - ETA: 2: - ETA: 2: - ETA: 2: - ETA: 2: - ETA: 2: - ETA: 2: - ETA: 2: - ETA: 2: - ETA: 2: - ETA: 2: - ETA: 2: - ETA: 2: - ETA: 2: - ETA: 2: - ETA: 2: - ETA: 2: - ETA: 2: - ETA: 2: - ETA: 2: - ETA: 2: - ETA: 2: - ETA: 2: - ETA: 2: - ETA: 2: - ETA: 2: - ETA: 2: - ETA: 2: - ETA: 2: - ETA: 2: - ETA: 2: - ETA: 2: - ETA: 2: - ETA: 2: - ETA: 2: - ETA: 2: - ETA: 2: - ETA: 2: - ETA: 2: - ETA: 2: - ETA: 2: - ETA: 2: - ETA: 2: - ETA: 2: - ETA: 2: - ETA: 2: - ETA: 2: - ETA: 2: - ETA: 2: - ETA: 2: - ETA: 2: - ETA: 2: - ETA: 2: - ETA: 2: - ETA: 2: - ETA: 2: - ETA: 2: - ETA: 2: - ETA: 2: - ETA: 2: - ETA: 2: - ETA: 2: - ETA: 2: - ETA: 2: - ETA: 2: - ETA: 2: - ETA: 2: - ETA: 2: - ETA: 2: - ETA: 2: - ETA: 2: - ETA: 2: - ETA: 2: - ETA: 2: - ETA: 2: - ETA: 2: - ETA: 2: - ETA: 2: - ETA: 2: - ETA: 2: - ETA: 2: - ETA: 2: - ETA: 2: - ETA: 2: - ETA: 2: - ETA: 2: - ETA: 2: - ETA: 2: - ETA: 2: - ETA: 2: - ETA: 2: - ETA: 2: - ETA: 2: - ETA: 2: - ETA: 2: - ETA: 2: - ETA: 2: - ETA: 2: - ETA: 2: - ETA: 2: - ETA: 2: - ETA: 2: - ETA: 2: - ETA: 2: - ETA: 2: - ETA: 2: - ETA: 2: - ETA: 2: - ETA: 2: - ETA: 2: - ETA: 2: - ETA: 2: - ETA: 2: - ETA: 2: - ETA: 2: - ETA: 2: - ETA: 2: - ETA: 2: - ETA: 2: - ETA: 2: - ETA: 2: - ETA: 2: - ETA: 2: - ETA: 2: - ETA: 2: - ETA: 2: - ETA: 2: - ETA: 2: - ETA: 2: - ETA: 2: - ETA: 2: - ETA: 2: - ETA: 2: - ETA: 2: - ETA: 2: - ETA: 2: - ETA: 2: - ETA: 2: - ETA: 2: - ETA: 2: - ETA: 2: - ETA: 2: - ETA: 2: - ETA: 2: - ETA: 2: - ETA: 2: - ETA: 2: - ETA: 2: - ETA: 2: - ETA: 2: - ETA: 2: - ETA: 2: - ETA: 2: - ETA: 2: - ETA: 2: - ETA: 2: - ETA: 2: - ETA: 2: - ETA: 2: - ETA: 2: - ETA: 2: - ETA: 2: - ETA: 2: - ETA: 2: - ETA: 2: - ETA: 2: - ETA: 2: - ETA: 2: - ETA: 2: - ETA: 2: - ETA: 2: - ETA: 2: - ETA: 2: - ETA: 2: - ETA: 2: - ETA: 1: - ETA: 1: - ETA: 1: - ETA: 1: - ETA: 1: - ETA: 1: - ETA: 1: - ETA: 1: - ETA: 1: - ETA: 1: - ETA: 1: - ETA: 1: - ETA: 1: - ETA: 1: - ETA: 1: - ETA: 1: - ETA: 1: - ETA: 1: - ETA: 1: - ETA: 1: - ETA: 1: - ETA: 1: - ETA: 1: - ETA: 1: - ETA: 1: - ETA: 1: - ETA: 1: - ETA: 1: - ETA: 1: - ETA: 1: - ETA: 1: - ETA: 1: - ETA: 1: - ETA: 1: - ETA: 1: - ETA: 1: - ETA: 1: - ETA: 1: - ETA: 1: - ETA: 1: - ETA: 1: - ETA: 1: - ETA: 1: - ETA: 1: - ETA: 1: - ETA: 1: - ETA: 1: - ETA: 1: - ETA: 1: - ETA: 1: - ETA: 1: - ETA: 1: - ETA: 1: - ETA: 1: - ETA: 1: - ETA: 1: - ETA: 1: - ETA: 1: - ETA: 1: - ETA: 1: - ETA: 1: - ETA: 1: - ETA: 1: - ETA: 1: - ETA: 1: - ETA: 1: - ETA: 1: - ETA: 1: - ETA: 1: - ETA: 1: - ETA: 1: - ETA: 1: - ETA: 1: - ETA: 1: - ETA: 1: - ETA: 1: - ETA: 1: - ETA: 1: - ETA: 1: - ETA: 1: - ETA: 1: - ETA: 1: - ETA: 1: - ETA: 1: - ETA: 1: - ETA: 1: - ETA: 1: - ETA: 1: - ETA: 1: - ETA: 1: - ETA: 1: - ETA: 1: - ETA: 1: - ETA: 1: - ETA: 1: - ETA: 1: - ETA: 1: - ETA: 1: - ETA: 1: - ETA: 1: - ETA: 1: - ETA: 1: - ETA: 1: - ETA: 1: - ETA: 1: - ETA: 1: - ETA: 1: - ETA: 1: - ETA: 1: - ETA: 1: - ETA: 1: - ETA: 1: - ETA: 1: - ETA: 1: - ETA: 1: - ETA: 1: - ETA: 1: - ETA: 1: - ETA: 1: - ETA: 1: - ETA: 1: - ETA: 1: - ETA: 1: - ETA: 1: - ETA: 1: - ETA: 1: - ETA: 1: - ETA: 1: - ETA: 1: - ETA: 1: - ETA: 1: - ETA: 1: - ETA: 1: - ETA: 1: - ETA: 1: - ETA: 1: - ETA: 1: - ETA: 1: - ETA: 1: - ETA: 1: - ETA: 1: - ETA: 1: - ETA: 1: - ETA: 1: - ETA: 1: - ETA: 1: - ETA: 1: - ETA: 1: - ETA: 1: - ETA: 1: - ETA: 1: - ETA: 1: - ETA: 1: - ETA: 1: - ETA: 1: - ETA: 1: - ETA: 1: - ETA: 1: - ETA: 1: - ETA: 1: - ETA: 1: - ETA: 1: - ETA: 1: - ETA: 1: - ETA: 1: - ETA: 1: - ETA: 1: - ETA: 1: - ETA: 1: - ETA: 1: - ETA: 1: - ETA: 1: - ETA: 1: - ETA: 1: - ETA: 1: - ETA: 1: - ETA: 1: - ETA: 1: - ETA: 1: - ETA: 1: - ETA: 1: - ETA: 1: - ETA: 1: - ETA: 1: - ETA: 1: - ETA: 1: - ETA: 1: - ETA: 1: - ETA: 1: - ETA: 1: - ETA: 1: - ETA: 1: - ETA: 1: - ETA: 1: - ETA: 1: - ETA: 1: - ETA: 1: - ETA: 1: - ETA: 1: - ETA: 1: - ETA: 1: - ETA: 1: - ETA: 1: - ETA: 1: - ETA: 1: - ETA: 1: - ETA: 1: - ETA: 1: - ETA: 1: - ETA: 1: - ETA: 1: - ETA: 1: - ETA: 1: - ETA: 1: - ETA: 1: - ETA: 1: - ETA: 1: - ETA: 1: - ETA: 1: - ETA: 1: - ETA: 1: - ETA: 1: - ETA: 1: - ETA: 1: - ETA: 1: - ETA: 1: - ETA: 1: - ETA: 1: - ETA: 1: - ETA: 1: - ETA: 1: - ETA: 1: - ETA: 1: - ETA: 1: - ETA: 1: - ETA: 1: - ETA: 1: - ETA: 1: - ETA: 1: - ETA: 1: - ETA: 1: - ETA: 1: - ETA: 1: - ETA: 1: - ETA: 1: - ETA: 1: - ETA: 1: - ETA: 1: - ETA: 1: - ETA: 1: - ETA: 1: - ETA: 1: - ETA: 1: - ETA: 1: - ETA: 1: - ETA: 1: - ETA: 1: - ETA: 1: - ETA: 1: - ETA: 1: - ETA: 1: - ETA: 1: - ETA: 1: - ETA: 1: - ETA: 1: - ETA: 1: - ETA: 1: - ETA: 1: - ETA: 1: - ETA: 1: - ETA: 1: - ETA: 1: - ETA: 1: - ETA: 1: - ETA: 1: - ETA: 1: - ETA: 1: - ETA: 1: - ETA: 1: - ETA: 1: - ETA: 1: - ETA: 1: - ETA: 1: - ETA: 1: - ETA: 1: - ETA: 1: - ETA: 1: - ETA: 1: - ETA: 1: - ETA: 1: - ETA: 1: - ETA: 1: - ETA: 1: - ETA: 1: - ETA: 1: - ETA: 1: - ETA: 1: - ETA: 1: - ETA: 1: - ETA: 1: - ETA: 1: - ETA: 1: - ETA: 1: - ETA: 1: - ETA: 1: - ETA: 1: - ETA: 1: - ETA: 1: - ETA: 1: - ETA: 1: - ETA: 1: - ETA: 1: - ETA: 1: - ETA: 1: - ETA: 1: - ETA: 1: - ETA: 1: - ETA: 1: - ETA: 1: - ETA: 1: - ETA: 1: - ETA: 1: - ETA: 1: - ETA: 1: - ETA: 1: - ETA: 1: - ETA: 1: - ETA: 1: - ETA: 1: - ETA: 1: - ETA: 1: - ETA: 1: - ETA: 1: - ETA: 1: - ETA: 1: - ETA: 1: - ETA: 1: - ETA: 1: - ETA: 1: - ETA: 1: - ETA: 1: - ETA: 1: - ETA: 1: - ETA: 1: - ETA: 1: - ETA: 1: - ETA: 1: - ETA: 1: - ETA: 1: - ETA: 1: - ETA: 1: - ETA: 1: - ETA: 1: - ETA: 1: - ETA: 1: - ETA: 1: - ETA: 1: - ETA: 1: - ETA: 1: - ETA: 1: - ETA: 1: - ETA: 1: - ETA: 1: - ETA: 1: - ETA: 1: - ETA: 1: - ETA: 1: - ETA: 1: - ETA: 1: - ETA: 1: - ETA: 1: - ETA: 1: - ETA: 1: - ETA: 1: - ETA: 1: - ETA: 1: - ETA: 1: - ETA: 1: - ETA: 1: - ETA: 1: - ETA: 1: - ETA: 1: - ETA: 1: - ETA: 1: - ETA: 1: - ETA: 1: - ETA: 1: - ETA: 1: - ETA: 1: - ETA: 1: - ETA: 1: - ETA: 1: - ETA: 1: - ETA: 1: - ETA: 1: - ETA: 1: - ETA: 1: - ETA: 1: - ETA: 1: - ETA: 1: - ETA: 1: - ETA: 1: - ETA: 1: - ETA: 1: - ETA: 1: - ETA: 1: - ETA: 1: - ETA: 1: - ETA: 1: - ETA: 1: - ETA: 1: - ETA: 1: - ETA: 1: - ETA: 1: - ETA: 1: - ETA: 1: - ETA: 1: - ETA: 1: - ETA: 1: - ETA: 1: - ETA: 1: - ETA: 1: - ETA: 1: - ETA: 1: - ETA: 1: - ETA: 1: - ETA: 1: - ETA: 1: - ETA: 1: - ETA: 1: - ETA: 1: - ETA: 1: - ETA: 1: - ETA: 1: - ETA: 1: - ETA: 1: - ETA: 1: - ETA: 1: - ETA: 1: - ETA: 1: - ETA: 1: - ETA: 1: - ETA: 1: - ETA: 1: - ETA: 1: - ETA: 1: - ETA: 1: - ETA: 1: - ETA: 1: - ETA: 1: - ETA: 1: - ETA: 1: - ETA: 1: - ETA: 1: - ETA: 1: - ETA: 1: - ETA: 1: - ETA: 1: - ETA: 1: - ETA: 1: - ETA: 1: - ETA: 1: - ETA: 1: - ETA: 1: - ETA: 1:14"
     ]
    },
    {
     "name": "stdout",
     "output_type": "stream",
     "text": [
      "52672/53766 [============================>.] - ETA: 1: - ETA: 1: - ETA: 1: - ETA: 1: - ETA: 1: - ETA: 1: - ETA: 1: - ETA: 1: - ETA: 1: - ETA: 1: - ETA: 1: - ETA: 1: - ETA: 1: - ETA: 1: - ETA: 1: - ETA: 1: - ETA: 1: - ETA: 1: - ETA: 1: - ETA: 1: - ETA: 1: - ETA: 1: - ETA: 1: - ETA: 1: - ETA: 1: - ETA: 1: - ETA: 1: - ETA: 1: - ETA: 1: - ETA: 1: - ETA: 1: - ETA: 1: - ETA: 1: - ETA: 1: - ETA: 1: - ETA: 1: - ETA: 1: - ETA: 1: - ETA: 1: - ETA: 1: - ETA: 1: - ETA: 1: - ETA: 1: - ETA: 1: - ETA: 1: - ETA: 1: - ETA: 1: - ETA: 1: - ETA: 1: - ETA: 1: - ETA: 1: - ETA: 1: - ETA: 1: - ETA: 1: - ETA: 1: - ETA: 1: - ETA: 1: - ETA: 1: - ETA: 1: - ETA: 1: - ETA: 1: - ETA: 1: - ETA: 1: - ETA: 1: - ETA: 1: - ETA: 1: - ETA: 1: - ETA: 1: - ETA: 1: - ETA: 1: - ETA: 1: - ETA: 1: - ETA: 1: - ETA: 1: - ETA: 1: - ETA: 1: - ETA: 1: - ETA: 1: - ETA: 1: - ETA: 1: - ETA: 1: - ETA: 1: - ETA: 1: - ETA: 1: - ETA: 1: - ETA: 1: - ETA: 1: - ETA: 1: - ETA: 1: - ETA: 1: - ETA: 1: - ETA: 1: - ETA: 1: - ETA: 1: - ETA: 1: - ETA: 1: - ETA: 1: - ETA: 1: - ETA: 1: - ETA: 1: - ETA: 1: - ETA: 1: - ETA: 1: - ETA: 1: - ETA: 1: - ETA: 1: - ETA: 1: - ETA: 1: - ETA: 1: - ETA: 1: - ETA: 1: - ETA: 1: - ETA: 1: - ETA: 1: - ETA: 1: - ETA: 1: - ETA: 1: - ETA: 1: - ETA: 1: - ETA: 1: - ETA: 1: - ETA: 1: - ETA: 1: - ETA: 1: - ETA: 1: - ETA: 1: - ETA: 1: - ETA: 1: - ETA: 1: - ETA: 1: - ETA: 1: - ETA: 1: - ETA: 1: - ETA: 1: - ETA: 1: - ETA: 1: - ETA: 1: - ETA: 1: - ETA: 1: - ETA: 1: - ETA: 1: - ETA: 1: - ETA: 1: - ETA: 1: - ETA: 1: - ETA: 1: - ETA: 1: - ETA: 1: - ETA: 1: - ETA: 1: - ETA: 1: - ETA: 1: - ETA: 1: - ETA: 1: - ETA: 1: - ETA: 1: - ETA: 1: - ETA: 1: - ETA: 1: - ETA: 1: - ETA: 1: - ETA: 1: - ETA: 1: - ETA: 1: - ETA: 1: - ETA: 1: - ETA: 1: - ETA: 1: - ETA: 1: - ETA: 1: - ETA: 1: - ETA: 1: - ETA: 1: - ETA: 1: - ETA: 1: - ETA: 1: - ETA: 59s - ETA: 59 - ETA: 59 - ETA: 59 - ETA: 59 - ETA: 59 - ETA: 59 - ETA: 59 - ETA: 59 - ETA: 59 - ETA: 59 - ETA: 59 - ETA: 58 - ETA: 58 - ETA: 58 - ETA: 58 - ETA: 58 - ETA: 58 - ETA: 58 - ETA: 58 - ETA: 58 - ETA: 58 - ETA: 58 - ETA: 58 - ETA: 57 - ETA: 57 - ETA: 57 - ETA: 57 - ETA: 57 - ETA: 57 - ETA: 57 - ETA: 57 - ETA: 57 - ETA: 57 - ETA: 57 - ETA: 57 - ETA: 57 - ETA: 56 - ETA: 56 - ETA: 56 - ETA: 56 - ETA: 56 - ETA: 56 - ETA: 56 - ETA: 56 - ETA: 56 - ETA: 56 - ETA: 56 - ETA: 56 - ETA: 55 - ETA: 55 - ETA: 55 - ETA: 55 - ETA: 55 - ETA: 55 - ETA: 55 - ETA: 55 - ETA: 55 - ETA: 55 - ETA: 55 - ETA: 55 - ETA: 54 - ETA: 54 - ETA: 54 - ETA: 54 - ETA: 54 - ETA: 54 - ETA: 54 - ETA: 54 - ETA: 54 - ETA: 54 - ETA: 54 - ETA: 53 - ETA: 53 - ETA: 53 - ETA: 53 - ETA: 53 - ETA: 53 - ETA: 53 - ETA: 53 - ETA: 53 - ETA: 53 - ETA: 53 - ETA: 53 - ETA: 52 - ETA: 52 - ETA: 52 - ETA: 52 - ETA: 52 - ETA: 52 - ETA: 52 - ETA: 52 - ETA: 52 - ETA: 52 - ETA: 52 - ETA: 52 - ETA: 51 - ETA: 51 - ETA: 51 - ETA: 51 - ETA: 51 - ETA: 51 - ETA: 51 - ETA: 51 - ETA: 51 - ETA: 51 - ETA: 51 - ETA: 51 - ETA: 50 - ETA: 50 - ETA: 50 - ETA: 50 - ETA: 50 - ETA: 50 - ETA: 50 - ETA: 50 - ETA: 50 - ETA: 50 - ETA: 50 - ETA: 50 - ETA: 49 - ETA: 49 - ETA: 49 - ETA: 49 - ETA: 49 - ETA: 49 - ETA: 49 - ETA: 49 - ETA: 49 - ETA: 49 - ETA: 49 - ETA: 48 - ETA: 48 - ETA: 48 - ETA: 48 - ETA: 48 - ETA: 48 - ETA: 48 - ETA: 48 - ETA: 48 - ETA: 48 - ETA: 48 - ETA: 48 - ETA: 47 - ETA: 47 - ETA: 47 - ETA: 47 - ETA: 47 - ETA: 47 - ETA: 47 - ETA: 47 - ETA: 47 - ETA: 47 - ETA: 47 - ETA: 46 - ETA: 46 - ETA: 46 - ETA: 46 - ETA: 46 - ETA: 46 - ETA: 46 - ETA: 46 - ETA: 46 - ETA: 46 - ETA: 46 - ETA: 45 - ETA: 45 - ETA: 45 - ETA: 45 - ETA: 45 - ETA: 45 - ETA: 45 - ETA: 45 - ETA: 45 - ETA: 45 - ETA: 45 - ETA: 44 - ETA: 44 - ETA: 44 - ETA: 44 - ETA: 44 - ETA: 44 - ETA: 44 - ETA: 44 - ETA: 44 - ETA: 44 - ETA: 44 - ETA: 43 - ETA: 43 - ETA: 43 - ETA: 43 - ETA: 43 - ETA: 43 - ETA: 43 - ETA: 43 - ETA: 43 - ETA: 43 - ETA: 43 - ETA: 43 - ETA: 42 - ETA: 42 - ETA: 42 - ETA: 42 - ETA: 42 - ETA: 42 - ETA: 42 - ETA: 42 - ETA: 42 - ETA: 42 - ETA: 42 - ETA: 42 - ETA: 41 - ETA: 41 - ETA: 41 - ETA: 41 - ETA: 41 - ETA: 41 - ETA: 41 - ETA: 41 - ETA: 41 - ETA: 41 - ETA: 41 - ETA: 40 - ETA: 40 - ETA: 40 - ETA: 40 - ETA: 40 - ETA: 40 - ETA: 40 - ETA: 40 - ETA: 40 - ETA: 40 - ETA: 40 - ETA: 39 - ETA: 39 - ETA: 39 - ETA: 39 - ETA: 39 - ETA: 39 - ETA: 39 - ETA: 39 - ETA: 39 - ETA: 39 - ETA: 39 - ETA: 39 - ETA: 38 - ETA: 38 - ETA: 38 - ETA: 38 - ETA: 38 - ETA: 38 - ETA: 38 - ETA: 38 - ETA: 38 - ETA: 38 - ETA: 38 - ETA: 37 - ETA: 37 - ETA: 37 - ETA: 37 - ETA: 37 - ETA: 37 - ETA: 37 - ETA: 37 - ETA: 37 - ETA: 37 - ETA: 37 - ETA: 36 - ETA: 36 - ETA: 36 - ETA: 36 - ETA: 36 - ETA: 36 - ETA: 36 - ETA: 36 - ETA: 36 - ETA: 36 - ETA: 36 - ETA: 36 - ETA: 35 - ETA: 35 - ETA: 35 - ETA: 35 - ETA: 35 - ETA: 35 - ETA: 35 - ETA: 35 - ETA: 35 - ETA: 35 - ETA: 35 - ETA: 34 - ETA: 34 - ETA: 34 - ETA: 34 - ETA: 34 - ETA: 34 - ETA: 34 - ETA: 34 - ETA: 34 - ETA: 34 - ETA: 34 - ETA: 34 - ETA: 33 - ETA: 33 - ETA: 33 - ETA: 33 - ETA: 33 - ETA: 33 - ETA: 33 - ETA: 33 - ETA: 33 - ETA: 33 - ETA: 33 - ETA: 33 - ETA: 32 - ETA: 32 - ETA: 32 - ETA: 32 - ETA: 32 - ETA: 32 - ETA: 32 - ETA: 32 - ETA: 32 - ETA: 32 - ETA: 32 - ETA: 32 - ETA: 31 - ETA: 31 - ETA: 31 - ETA: 31 - ETA: 31 - ETA: 31 - ETA: 31 - ETA: 31 - ETA: 31 - ETA: 31 - ETA: 31 - ETA: 31 - ETA: 30 - ETA: 30 - ETA: 30 - ETA: 30 - ETA: 30 - ETA: 30 - ETA: 30 - ETA: 30 - ETA: 30 - ETA: 30 - ETA: 30 - ETA: 29 - ETA: 29 - ETA: 29 - ETA: 29 - ETA: 29 - ETA: 29 - ETA: 29 - ETA: 29 - ETA: 29 - ETA: 29 - ETA: 29 - ETA: 28 - ETA: 28 - ETA: 28 - ETA: 28 - ETA: 28 - ETA: 28 - ETA: 28 - ETA: 28 - ETA: 28 - ETA: 28 - ETA: 28 - ETA: 27 - ETA: 27 - ETA: 27 - ETA: 27 - ETA: 27 - ETA: 27 - ETA: 27 - ETA: 27 - ETA: 27 - ETA: 27 - ETA: 27 - ETA: 27 - ETA: 26 - ETA: 26 - ETA: 26 - ETA: 26 - ETA: 26 - ETA: 26 - ETA: 26 - ETA: 26 - ETA: 26 - ETA: 26 - ETA: 26 - ETA: 25 - ETA: 25 - ETA: 25 - ETA: 25 - ETA: 25 - ETA: 25 - ETA: 25 - ETA: 25 - ETA: 25 - ETA: 25 - ETA: 25 - ETA: 24 - ETA: 24 - ETA: 24 - ETA: 24 - ETA: 24 - ETA: 24 - ETA: 24 - ETA: 24 - ETA: 24 - ETA: 24 - ETA: 24 - ETA: 23 - ETA: 23 - ETA: 23 - ETA: 23 - ETA: 23 - ETA: 23 - ETA: 23 - ETA: 23 - ETA: 23 - ETA: 23 - ETA: 23 - ETA: 23 - ETA: 22 - ETA: 22 - ETA: 22 - ETA: 22 - ETA: 22 - ETA: 22 - ETA: 22 - ETA: 22 - ETA: 22 - ETA: 22 - ETA: 22 - ETA: 21 - ETA: 21 - ETA: 21 - ETA: 21 - ETA: 21 - ETA: 21 - ETA: 21 - ETA: 21 - ETA: 21 - ETA: 21 - ETA: 21 - ETA: 20 - ETA: 20 - ETA: 20 - ETA: 20 - ETA: 20 - ETA: 20 - ETA: 20 - ETA: 20 - ETA: 20 - ETA: 20 - ETA: 20 - ETA: 20 - ETA: 19 - ETA: 19 - ETA: 19 - ETA: 19 - ETA: 19 - ETA: 19 - ETA: 19 - ETA: 19 - ETA: 19 - ETA: 19 - ETA: 19 - ETA: 18 - ETA: 18 - ETA: 18 - ETA: 18 - ETA: 18 - ETA: 18 - ETA: 18 - ETA: 18 - ETA: 18 - ETA: 18 - ETA: 18 - ETA: 17 - ETA: 17 - ETA: 17 - ETA: 17 - ETA: 17 - ETA: 17 - ETA: 17 - ETA: 17 - ETA: 17 - ETA: 17 - ETA: 17 - ETA: 17 - ETA: 16 - ETA: 16 - ETA: 16 - ETA: 16 - ETA: 16 - ETA: 16 - ETA: 16 - ETA: 16 - ETA: 16 - ETA: 16 - ETA: 16 - ETA: 15 - ETA: 15 - ETA: 15 - ETA: 15 - ETA: 15 - ETA: 15 - ETA: 15 - ETA: 15 - ETA: 15 - ETA: 15 - ETA: 15 - ETA: 14 - ETA: 14 - ETA: 14 - ETA: 14 - ETA: 14 - ETA: 14 - ETA: 14 - ETA: 14 - ETA: 14 - ETA: 14 - ETA: 14 - ETA: 14 - ETA: 13 - ETA: 13 - ETA: 13 - ETA: 13 - ETA: 13 - ETA: 13 - ETA: 13 - ETA: 13 - ETA: 13 - ETA: 13 - ETA: 13 - ETA: 12 - ETA: 12 - ETA: 12 - ETA: 12 - ETA: 12 - ETA: 12 - ETA: 12 - ETA: 12 - ETA: 12 - ETA: 12 - ETA: 12 - ETA: 11 - ETA: 11 - ETA: 11 - ETA: 11 - ETA: 11 - ETA: 11 - ETA: 11 - ETA: 11 - ETA: 11 - ETA: 11 - ETA: 11 - ETA: 11 - ETA: 10 - ETA: 10 - ETA: 10 - ETA: 10 - ETA: 10 - ETA: 10 - ETA: 10 - ETA: 10 - ETA: 10 - ETA: 10 - ETA: 10 - ETA: 9 - ETA:  - ETA:  - ETA:  - ETA:  - ETA:  - ETA:  - ETA:  - ETA:  - ETA:  - ETA:  - ETA:  - ETA:  - ETA:  - ETA:  - ETA:  - ETA:  - ETA:  - ETA:  - ETA:  - ETA:  - ETA:  - ETA:  - ETA:  - ETA:  - ETA:  - ETA:  - ETA:  - ETA:  - ETA:  - ETA:  - ETA:  - ETA:  - ETA:  - ETA:  - ETA:  - ETA:  - ETA:  - ETA:  - ETA:  - ETA:  - ETA:  - ETA:  - ETA:  - ETA:  - ETA:  - ETA:  - ETA:  - ETA:  - ETA:  - ETA:  - ETA:  - ETA:  - ETA:  - ETA:  - ETA:  - ETA:  - ETA:  - ETA:  - ETA:  - ETA:  - ETA:  - ETA:  - ETA:  - ETA:  - ETA:  - ETA:  - ETA:  - ETA:  - ETA:  - ETA:  - ETA:  - ETA:  - ETA:  - ETA:  - ETA:  - ETA:  - ETA:  - ETA:  - ETA: 3s"
     ]
    },
    {
     "name": "stdout",
     "output_type": "stream",
     "text": [
      "53766/53766 [==============================] - ETA:  - ETA:  - ETA:  - ETA:  - ETA:  - ETA:  - ETA:  - ETA:  - ETA:  - ETA:  - ETA:  - ETA:  - ETA:  - ETA:  - ETA:  - ETA:  - ETA:  - ETA:  - ETA:  - ETA:  - ETA:  - ETA:  - ETA:  - ETA:  - ETA:  - ETA:  - ETA:  - ETA:  - ETA:  - ETA:  - ETA:  - ETA:  - ETA:  - ETA:  - 148s 3ms/step\n"
     ]
    },
    {
     "data": {
      "text/plain": [
       "[0.632078894972912, 0.7198229432106018]"
      ]
     },
     "execution_count": 64,
     "metadata": {},
     "output_type": "execute_result"
    }
   ],
   "source": [
    "accuracy_test = model_conv.evaluate(data_test,test_y)\n",
    "accuracy_test"
   ]
  },
  {
   "cell_type": "markdown",
   "metadata": {},
   "source": [
    "### Logistic Regression"
   ]
  },
  {
   "cell_type": "code",
   "execution_count": 20,
   "metadata": {},
   "outputs": [
    {
     "name": "stdout",
     "output_type": "stream",
     "text": [
      "Training X shape-  (161297, 19181)\n",
      "Testing X shape-  (53766, 19181)\n",
      "Training Y shape-  (161297,)\n",
      "Testing Y shape-  (53766,)\n"
     ]
    }
   ],
   "source": [
    "con_vec = TfidfVectorizer(min_df=5, max_df= 0.8,sublinear_tf=True,use_idf=True)\n",
    "X_train = con_vec.fit_transform(df_train['review'])\n",
    "y_train = df_train[\"rating_new_2\"]\n",
    "X_test = con_vec.transform(df_test['review'])\n",
    "y_test = df_test['rating_new']\n",
    "\n",
    "print(\"Training X shape- \",X_train.shape)\n",
    "print(\"Testing X shape- \",X_test.shape)\n",
    "print(\"Training Y shape- \",y_train.shape)\n",
    "print(\"Testing Y shape- \",y_test.shape)"
   ]
  },
  {
   "cell_type": "code",
   "execution_count": 21,
   "metadata": {},
   "outputs": [
    {
     "name": "stderr",
     "output_type": "stream",
     "text": [
      "C:\\Users\\19784\\Anaconda3\\lib\\site-packages\\sklearn\\linear_model\\logistic.py:432: FutureWarning: Default solver will be changed to 'lbfgs' in 0.22. Specify a solver to silence this warning.\n",
      "  FutureWarning)\n"
     ]
    }
   ],
   "source": [
    "lr = LogisticRegression(penalty='l1')\n",
    "lr.fit(X_train,y_train)\n",
    "y_train_predict = lr.predict(X_train)"
   ]
  },
  {
   "cell_type": "code",
   "execution_count": 22,
   "metadata": {},
   "outputs": [
    {
     "name": "stdout",
     "output_type": "stream",
     "text": [
      "Accuracy- 0.8732772463220023\n"
     ]
    }
   ],
   "source": [
    "Training_accuracy = accuracy_score(y_train,y_train_predict)\n",
    "print(\"Accuracy-\", Training_accuracy)"
   ]
  },
  {
   "cell_type": "code",
   "execution_count": 34,
   "metadata": {},
   "outputs": [
    {
     "name": "stdout",
     "output_type": "stream",
     "text": [
      "**** Logistic Rgression Metrics(Training) ****\n",
      "Accuracy- 0.8732772463220023\n",
      "Error- 0.12672275367799768\n",
      "Precision-  0.8924043732868179\n",
      "Recall-  0.9453647027767237\n",
      "F1 Score-  0.9181214398448955\n"
     ]
    }
   ],
   "source": [
    "from sklearn.metrics import precision_score\n",
    "from sklearn.metrics import f1_score\n",
    "from sklearn.metrics import recall_score\n",
    "\n",
    "\n",
    "Training_precision = precision_score(y_train,y_train_predict)\n",
    "Training_recall = recall_score(y_train,y_train_predict)\n",
    "Training_f1 = f1_score(y_train,y_train_predict)\n",
    "print (\"**** Logistic Rgression Metrics(Training) ****\")\n",
    "print(\"Accuracy-\", Training_accuracy)\n",
    "print(\"Error-\", 1-Training_accuracy)\n",
    "print(\"Precision- \", Training_precision)\n",
    "print(\"Recall- \",Training_recall)\n",
    "print(\"F1 Score- \", Training_f1)"
   ]
  },
  {
   "cell_type": "code",
   "execution_count": 39,
   "metadata": {},
   "outputs": [
    {
     "name": "stdout",
     "output_type": "stream",
     "text": [
      "AUC: 0.80\n"
     ]
    },
    {
     "data": {
      "image/png": "[encoded data removed]",
      "text/plain": [
       "<Figure size 432x288 with 1 Axes>"
      ]
     },
     "metadata": {
      "needs_background": "light"
     },
     "output_type": "display_data"
    }
   ],
   "source": [
    "auc = roc_auc_score(y_train,y_train_predict)\n",
    "print('AUC: %.2f' % auc)\n",
    "\n",
    "fpr, tpr, thresholds = roc_curve(y_train,y_train_predict)\n",
    "\n",
    "# plot_roc_curve(fpr, tpr)\n",
    "plt.plot(fpr, tpr, color='orange', label = 'AUC = %0.2f' % auc)\n",
    "plt.plot([0, 1], [0, 1], color='darkblue', linestyle='--')\n",
    "plt.xlabel('False Positive Rate')\n",
    "plt.ylabel('True Positive Rate')\n",
    "plt.title('Receiver Operating Characteristic (ROC) Curve- Training')\n",
    "plt.legend()\n",
    "plt.savefig('logistic_roc_train.png')\n",
    "plt.show()"
   ]
  },
  {
   "cell_type": "code",
   "execution_count": 25,
   "metadata": {},
   "outputs": [],
   "source": [
    "y_test_predict = lr.predict(X_test)"
   ]
  },
  {
   "cell_type": "code",
   "execution_count": 27,
   "metadata": {},
   "outputs": [
    {
     "name": "stdout",
     "output_type": "stream",
     "text": [
      "<class 'numpy.int64'>\n"
     ]
    }
   ],
   "source": [
    "print(type(y_test[10]))"
   ]
  },
  {
   "cell_type": "code",
   "execution_count": 33,
   "metadata": {},
   "outputs": [
    {
     "name": "stdout",
     "output_type": "stream",
     "text": [
      "**** Logistic Rgression Metrics(Testing) ****\n",
      "Accuracy- 0.8615481903061414\n",
      "Error- 0.13845180969385862\n",
      "Precision-  0.8841787411343367\n",
      "Recall-  0.9380168367727035\n",
      "F1 Score-  0.9103024460778407\n"
     ]
    }
   ],
   "source": [
    "Testing_accuracy = accuracy_score(y_test,y_test_predict)\n",
    "Testing_precision = precision_score(y_test,y_test_predict)\n",
    "Testing_recall = recall_score(y_test,y_test_predict)\n",
    "Testing_f1 = f1_score(y_test,y_test_predict)\n",
    "print (\"**** Logistic Rgression Metrics(Testing) ****\")\n",
    "print(\"Accuracy-\", Testing_accuracy)\n",
    "print(\"Error-\",1-Testing_accuracy)\n",
    "print(\"Precision- \", Testing_precision)\n",
    "print(\"Recall- \",Testing_recall)\n",
    "print(\"F1 Score- \", Testing_f1)"
   ]
  },
  {
   "cell_type": "code",
   "execution_count": 40,
   "metadata": {},
   "outputs": [
    {
     "name": "stdout",
     "output_type": "stream",
     "text": [
      "AUC: 0.79\n"
     ]
    },
    {
     "data": {
      "image/png": "[encoded data removed]",
      "text/plain": [
       "<Figure size 432x288 with 1 Axes>"
      ]
     },
     "metadata": {
      "needs_background": "light"
     },
     "output_type": "display_data"
    }
   ],
   "source": [
    "auc = roc_auc_score(y_test,y_test_predict)\n",
    "print('AUC: %.2f' % auc)\n",
    "\n",
    "fpr, tpr, thresholds = roc_curve(y_test,y_test_predict)\n",
    "\n",
    "# plot_roc_curve(fpr, tpr)\n",
    "plt.plot(fpr, tpr, color='orange', label = 'AUC = %0.2f' % auc)\n",
    "plt.plot([0, 1], [0, 1], color='darkblue', linestyle='--')\n",
    "plt.xlabel('False Positive Rate')\n",
    "plt.ylabel('True Positive Rate')\n",
    "plt.title('Receiver Operating Characteristic (ROC) Curve- Testing')\n",
    "plt.legend()\n",
    "plt.savefig('logistic_roc_testing.png')\n",
    "plt.show()"
   ]
  }
 ],
 "metadata": {
  "kernelspec": {
   "display_name": "Python 3",
   "language": "python",
   "name": "python3"
  },
  "language_info": {
   "codemirror_mode": {
    "name": "ipython",
    "version": 3
   },
   "file_extension": ".py",
   "mimetype": "text/x-python",
   "name": "python",
   "nbconvert_exporter": "python",
   "pygments_lexer": "ipython3",
   "version": "3.7.4"
  }
 },
 "nbformat": 4,
 "nbformat_minor": 2
}
