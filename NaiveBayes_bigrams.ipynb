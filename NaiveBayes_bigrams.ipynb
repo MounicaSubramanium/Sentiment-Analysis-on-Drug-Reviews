{
 "cells": [
  {
   "cell_type": "code",
   "execution_count": 3,
   "metadata": {},
   "outputs": [],
   "source": [
    "import numpy as np\n",
    "import pandas as pd\n",
    "from sklearn.feature_extraction.text import CountVectorizer"
   ]
  },
  {
   "cell_type": "code",
   "execution_count": 4,
   "metadata": {},
   "outputs": [],
   "source": [
    "df_train = pd.read_csv(\"drugsComTrain_raw.csv\")\n",
    "df_test = pd.read_csv(\"drugsComTest_raw.csv\")\n",
    "df_train['sentiment'] = df_train['rating'].apply(lambda x: 1 if x>5 else 0)\n",
    "df_test['sentiment'] = df_test['rating'].apply(lambda x: 1 if x>5 else 0)"
   ]
  },
  {
   "cell_type": "code",
   "execution_count": 5,
   "metadata": {},
   "outputs": [],
   "source": [
    "X_train = df_train['review']\n",
    "X_test = df_test['review']\n",
    "y_train = df_train['sentiment']\n",
    "y_test = df_test['sentiment']"
   ]
  },
  {
   "cell_type": "code",
   "execution_count": 26,
   "metadata": {},
   "outputs": [],
   "source": [
    "cv_uni = CountVectorizer(strip_accents='ascii', token_pattern=u'(?ui)\\\\b\\\\w*[a-z]+\\\\w*\\\\b', lowercase=True, stop_words='english')\n",
    "X_train_uni = cv_uni.fit_transform(X_train)\n",
    "X_test_uni = cv_uni.transform(X_test)"
   ]
  },
  {
   "cell_type": "code",
   "execution_count": 12,
   "metadata": {},
   "outputs": [],
   "source": [
    "cv = CountVectorizer(strip_accents='ascii', token_pattern=u'(?ui)\\\\b\\\\w*[a-z]+\\\\w*\\\\b', lowercase=True, stop_words='english',ngram_range=(2, 2))\n",
    "X_train_cv = cv.fit_transform(X_train)\n",
    "X_test_cv = cv.transform(X_test)"
   ]
  },
  {
   "cell_type": "code",
   "execution_count": 14,
   "metadata": {},
   "outputs": [],
   "source": [
    "from sklearn.naive_bayes import MultinomialNB\n",
    "naive_bayes = MultinomialNB()\n",
    "naive_bayes.fit(X_train_cv, y_train)\n",
    "train_predictions = naive_bayes.predict(X_train_cv)\n",
    "test_predictions = naive_bayes.predict(X_test_cv)"
   ]
  },
  {
   "cell_type": "code",
   "execution_count": 17,
   "metadata": {},
   "outputs": [
    {
     "name": "stdout",
     "output_type": "stream",
     "text": [
      "***************** TRAINING SCORE ********************\n",
      "\n",
      "              precision    recall  f1-score   support\n",
      "\n",
      "           0       0.98      0.95      0.97     48088\n",
      "           1       0.98      0.99      0.99    113209\n",
      "\n",
      "    accuracy                           0.98    161297\n",
      "   macro avg       0.98      0.97      0.98    161297\n",
      "weighted avg       0.98      0.98      0.98    161297\n",
      "\n",
      "\n",
      "***************** TESTING SCORE *********************\n",
      "\n",
      "              precision    recall  f1-score   support\n",
      "\n",
      "           0       0.91      0.76      0.82     16207\n",
      "           1       0.90      0.97      0.93     37559\n",
      "\n",
      "    accuracy                           0.90     53766\n",
      "   macro avg       0.90      0.86      0.88     53766\n",
      "weighted avg       0.90      0.90      0.90     53766\n",
      "\n"
     ]
    }
   ],
   "source": [
    "from sklearn import metrics\n",
    "from sklearn.metrics import classification_report\n",
    "training_score = metrics.classification_report(y_train,train_predictions)\n",
    "testing_score = metrics.classification_report(y_test,test_predictions)\n",
    "print(\"***************** TRAINING SCORE ********************\\n\")\n",
    "print(training_score)\n",
    "print(\"\\n***************** TESTING SCORE *********************\\n\")\n",
    "print(testing_score)"
   ]
  },
  {
   "cell_type": "code",
   "execution_count": 41,
   "metadata": {},
   "outputs": [
    {
     "name": "stdout",
     "output_type": "stream",
     "text": [
      "AUC: 0.86\n"
     ]
    },
    {
     "data": {
      "image/png": "[encoded data removed]",
      "text/plain": [
       "<Figure size 432x288 with 1 Axes>"
      ]
     },
     "metadata": {
      "needs_background": "light"
     },
     "output_type": "display_data"
    }
   ],
   "source": [
    "from sklearn.metrics import roc_auc_score\n",
    "from sklearn.metrics import roc_curve\n",
    "import matplotlib.pyplot as plt\n",
    "auc = roc_auc_score(y_test, test_predictions)\n",
    "print('AUC: %.2f' % auc)\n",
    "\n",
    "fpr, tpr, thresholds = roc_curve(y_test, test_predictions)\n",
    "plt.plot(fpr, tpr, color='orange', label='ROC')\n",
    "plt.plot([0, 1], [0, 1], color='darkblue', linestyle='--')\n",
    "plt.xlabel('False Positive Rate')\n",
    "plt.ylabel('True Positive Rate')\n",
    "plt.title('Receiver Operating Characteristic (ROC) Curve')\n",
    "plt.legend()\n",
    "plt.savefig(\"naivebayes_roc_bigrams.jpg\")\n",
    "plt.show()\n",
    "\n",
    "#plot_roc_curve(fpr, tpr)"
   ]
  },
  {
   "cell_type": "code",
   "execution_count": 28,
   "metadata": {},
   "outputs": [
    {
     "name": "stdout",
     "output_type": "stream",
     "text": [
      "***************** TRAINING SCORE (UNI-GRAMS)********************\n",
      "\n",
      "              precision    recall  f1-score   support\n",
      "\n",
      "           0       0.68      0.72      0.70     48088\n",
      "           1       0.88      0.86      0.87    113209\n",
      "\n",
      "    accuracy                           0.82    161297\n",
      "   macro avg       0.78      0.79      0.78    161297\n",
      "weighted avg       0.82      0.82      0.82    161297\n",
      "\n",
      "\n",
      "***************** TESTING SCORE(UNI-GRAMS) *********************\n",
      "\n",
      "              precision    recall  f1-score   support\n",
      "\n",
      "           0       0.66      0.68      0.67     16207\n",
      "           1       0.86      0.85      0.86     37559\n",
      "\n",
      "    accuracy                           0.80     53766\n",
      "   macro avg       0.76      0.77      0.76     53766\n",
      "weighted avg       0.80      0.80      0.80     53766\n",
      "\n"
     ]
    }
   ],
   "source": [
    "naive_bayes.fit(X_train_uni, y_train)\n",
    "train_predictions_uni = naive_bayes.predict(X_train_uni)\n",
    "test_predictions_uni = naive_bayes.predict(X_test_uni)\n",
    "training_score_uni = metrics.classification_report(y_train,train_predictions_uni)\n",
    "testing_score_uni = metrics.classification_report(y_test,test_predictions_uni)\n",
    "print(\"***************** TRAINING SCORE (UNI-GRAMS)********************\\n\")\n",
    "print(training_score_uni)\n",
    "print(\"\\n***************** TESTING SCORE(UNI-GRAMS) *********************\\n\")\n",
    "print(testing_score_uni)"
   ]
  },
  {
   "cell_type": "code",
   "execution_count": 42,
   "metadata": {},
   "outputs": [
    {
     "name": "stdout",
     "output_type": "stream",
     "text": [
      "AUC: 0.77\n"
     ]
    },
    {
     "data": {
      "image/png": "[encoded data removed]",
      "text/plain": [
       "<Figure size 432x288 with 1 Axes>"
      ]
     },
     "metadata": {
      "needs_background": "light"
     },
     "output_type": "display_data"
    }
   ],
   "source": [
    "auc_uni = roc_auc_score(y_test, test_predictions_uni)\n",
    "print('AUC: %.2f' % auc_uni)\n",
    "\n",
    "fpr_uni, tpr_uni, thresholds_uni = roc_curve(y_test, test_predictions_uni)\n",
    "plt.plot(fpr_uni, tpr_uni, color='orange', label='ROC')\n",
    "plt.plot([0, 1], [0, 1], color='darkblue', linestyle='--')\n",
    "plt.xlabel('False Positive Rate')\n",
    "plt.ylabel('True Positive Rate')\n",
    "plt.title('Receiver Operating Characteristic (ROC) Curve')\n",
    "plt.legend()\n",
    "plt.savefig(\"naivebayes_roc_unigrams.jpg\")\n",
    "plt.show()\n",
    "\n",
    "#plot_roc_curve(fpr_uni, tpr_uni)"
   ]
  },
  {
   "cell_type": "code",
   "execution_count": null,
   "metadata": {},
   "outputs": [],
   "source": []
  }
 ],
 "metadata": {
  "kernelspec": {
   "display_name": "Python 3",
   "language": "python",
   "name": "python3"
  },
  "language_info": {
   "codemirror_mode": {
    "name": "ipython",
    "version": 3
   },
   "file_extension": ".py",
   "mimetype": "text/x-python",
   "name": "python",
   "nbconvert_exporter": "python",
   "pygments_lexer": "ipython3",
   "version": "3.7.3"
  }
 },
 "nbformat": 4,
 "nbformat_minor": 2
}
